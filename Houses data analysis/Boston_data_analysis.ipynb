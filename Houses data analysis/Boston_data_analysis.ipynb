{
 "cells": [
  {
   "cell_type": "code",
   "execution_count": 1,
   "metadata": {},
   "outputs": [],
   "source": [
    "import numpy as np\n",
    "import pandas as pd\n",
    "import seaborn as sns\n",
    "import matplotlib.pyplot as plt"
   ]
  },
  {
   "cell_type": "code",
   "execution_count": 2,
   "metadata": {},
   "outputs": [
    {
     "data": {
      "text/html": [
       "<div>\n",
       "<style scoped>\n",
       "    .dataframe tbody tr th:only-of-type {\n",
       "        vertical-align: middle;\n",
       "    }\n",
       "\n",
       "    .dataframe tbody tr th {\n",
       "        vertical-align: top;\n",
       "    }\n",
       "\n",
       "    .dataframe thead th {\n",
       "        text-align: right;\n",
       "    }\n",
       "</style>\n",
       "<table border=\"1\" class=\"dataframe\">\n",
       "  <thead>\n",
       "    <tr style=\"text-align: right;\">\n",
       "      <th></th>\n",
       "      <th>crime_rate</th>\n",
       "      <th>ZN</th>\n",
       "      <th>INDUS</th>\n",
       "      <th>CHAS</th>\n",
       "      <th>NOX</th>\n",
       "      <th>room_num</th>\n",
       "      <th>age</th>\n",
       "      <th>DIS</th>\n",
       "      <th>RAD</th>\n",
       "      <th>TAX</th>\n",
       "      <th>PTRATIO</th>\n",
       "      <th>B</th>\n",
       "      <th>poor_prep</th>\n",
       "      <th>price</th>\n",
       "    </tr>\n",
       "  </thead>\n",
       "  <tbody>\n",
       "    <tr>\n",
       "      <th>0</th>\n",
       "      <td>0.00632</td>\n",
       "      <td>18.0</td>\n",
       "      <td>2.31</td>\n",
       "      <td>0.0</td>\n",
       "      <td>0.538</td>\n",
       "      <td>6.575</td>\n",
       "      <td>65.2</td>\n",
       "      <td>4.0900</td>\n",
       "      <td>1</td>\n",
       "      <td>296</td>\n",
       "      <td>15.3</td>\n",
       "      <td>396.90</td>\n",
       "      <td>4.98</td>\n",
       "      <td>24.0</td>\n",
       "    </tr>\n",
       "    <tr>\n",
       "      <th>1</th>\n",
       "      <td>0.02731</td>\n",
       "      <td>0.0</td>\n",
       "      <td>7.07</td>\n",
       "      <td>0.0</td>\n",
       "      <td>0.469</td>\n",
       "      <td>6.421</td>\n",
       "      <td>78.9</td>\n",
       "      <td>4.9671</td>\n",
       "      <td>2</td>\n",
       "      <td>242</td>\n",
       "      <td>17.8</td>\n",
       "      <td>396.90</td>\n",
       "      <td>9.14</td>\n",
       "      <td>21.6</td>\n",
       "    </tr>\n",
       "    <tr>\n",
       "      <th>2</th>\n",
       "      <td>0.02729</td>\n",
       "      <td>0.0</td>\n",
       "      <td>7.07</td>\n",
       "      <td>0.0</td>\n",
       "      <td>0.469</td>\n",
       "      <td>7.185</td>\n",
       "      <td>61.1</td>\n",
       "      <td>4.9671</td>\n",
       "      <td>2</td>\n",
       "      <td>242</td>\n",
       "      <td>17.8</td>\n",
       "      <td>392.83</td>\n",
       "      <td>4.03</td>\n",
       "      <td>34.7</td>\n",
       "    </tr>\n",
       "    <tr>\n",
       "      <th>3</th>\n",
       "      <td>0.03237</td>\n",
       "      <td>0.0</td>\n",
       "      <td>2.18</td>\n",
       "      <td>0.0</td>\n",
       "      <td>0.458</td>\n",
       "      <td>6.998</td>\n",
       "      <td>45.8</td>\n",
       "      <td>6.0622</td>\n",
       "      <td>3</td>\n",
       "      <td>222</td>\n",
       "      <td>18.7</td>\n",
       "      <td>394.63</td>\n",
       "      <td>2.94</td>\n",
       "      <td>33.4</td>\n",
       "    </tr>\n",
       "    <tr>\n",
       "      <th>4</th>\n",
       "      <td>0.06905</td>\n",
       "      <td>0.0</td>\n",
       "      <td>2.18</td>\n",
       "      <td>0.0</td>\n",
       "      <td>0.458</td>\n",
       "      <td>7.147</td>\n",
       "      <td>54.2</td>\n",
       "      <td>6.0622</td>\n",
       "      <td>3</td>\n",
       "      <td>222</td>\n",
       "      <td>18.7</td>\n",
       "      <td>396.90</td>\n",
       "      <td>NaN</td>\n",
       "      <td>36.2</td>\n",
       "    </tr>\n",
       "  </tbody>\n",
       "</table>\n",
       "</div>"
      ],
      "text/plain": [
       "   crime_rate    ZN  INDUS  CHAS    NOX  room_num   age     DIS  RAD  TAX  \\\n",
       "0     0.00632  18.0   2.31   0.0  0.538     6.575  65.2  4.0900    1  296   \n",
       "1     0.02731   0.0   7.07   0.0  0.469     6.421  78.9  4.9671    2  242   \n",
       "2     0.02729   0.0   7.07   0.0  0.469     7.185  61.1  4.9671    2  242   \n",
       "3     0.03237   0.0   2.18   0.0  0.458     6.998  45.8  6.0622    3  222   \n",
       "4     0.06905   0.0   2.18   0.0  0.458     7.147  54.2  6.0622    3  222   \n",
       "\n",
       "   PTRATIO       B  poor_prep  price  \n",
       "0     15.3  396.90       4.98   24.0  \n",
       "1     17.8  396.90       9.14   21.6  \n",
       "2     17.8  392.83       4.03   34.7  \n",
       "3     18.7  394.63       2.94   33.4  \n",
       "4     18.7  396.90        NaN   36.2  "
      ]
     },
     "execution_count": 2,
     "metadata": {},
     "output_type": "execute_result"
    }
   ],
   "source": [
    "df = pd.read_csv(\"datasets/HousingData.csv\")\n",
    "df.head()"
   ]
  },
  {
   "cell_type": "code",
   "execution_count": 3,
   "metadata": {},
   "outputs": [
    {
     "data": {
      "text/plain": [
       "(506, 14)"
      ]
     },
     "execution_count": 3,
     "metadata": {},
     "output_type": "execute_result"
    }
   ],
   "source": [
    "df.shape"
   ]
  },
  {
   "cell_type": "code",
   "execution_count": 4,
   "metadata": {},
   "outputs": [
    {
     "data": {
      "text/html": [
       "<div>\n",
       "<style scoped>\n",
       "    .dataframe tbody tr th:only-of-type {\n",
       "        vertical-align: middle;\n",
       "    }\n",
       "\n",
       "    .dataframe tbody tr th {\n",
       "        vertical-align: top;\n",
       "    }\n",
       "\n",
       "    .dataframe thead th {\n",
       "        text-align: right;\n",
       "    }\n",
       "</style>\n",
       "<table border=\"1\" class=\"dataframe\">\n",
       "  <thead>\n",
       "    <tr style=\"text-align: right;\">\n",
       "      <th></th>\n",
       "      <th>crime_rate</th>\n",
       "      <th>ZN</th>\n",
       "      <th>INDUS</th>\n",
       "      <th>CHAS</th>\n",
       "      <th>NOX</th>\n",
       "      <th>room_num</th>\n",
       "      <th>age</th>\n",
       "      <th>DIS</th>\n",
       "      <th>RAD</th>\n",
       "      <th>TAX</th>\n",
       "      <th>PTRATIO</th>\n",
       "      <th>B</th>\n",
       "      <th>poor_prep</th>\n",
       "      <th>price</th>\n",
       "    </tr>\n",
       "  </thead>\n",
       "  <tbody>\n",
       "    <tr>\n",
       "      <th>count</th>\n",
       "      <td>486.000000</td>\n",
       "      <td>486.000000</td>\n",
       "      <td>486.000000</td>\n",
       "      <td>486.000000</td>\n",
       "      <td>506.000000</td>\n",
       "      <td>506.000000</td>\n",
       "      <td>486.000000</td>\n",
       "      <td>506.000000</td>\n",
       "      <td>506.000000</td>\n",
       "      <td>506.000000</td>\n",
       "      <td>506.000000</td>\n",
       "      <td>506.000000</td>\n",
       "      <td>486.000000</td>\n",
       "      <td>506.000000</td>\n",
       "    </tr>\n",
       "    <tr>\n",
       "      <th>mean</th>\n",
       "      <td>3.611874</td>\n",
       "      <td>11.211934</td>\n",
       "      <td>11.083992</td>\n",
       "      <td>0.069959</td>\n",
       "      <td>0.554695</td>\n",
       "      <td>6.284634</td>\n",
       "      <td>68.518519</td>\n",
       "      <td>3.795043</td>\n",
       "      <td>9.549407</td>\n",
       "      <td>408.237154</td>\n",
       "      <td>18.455534</td>\n",
       "      <td>356.674032</td>\n",
       "      <td>12.715432</td>\n",
       "      <td>22.532806</td>\n",
       "    </tr>\n",
       "    <tr>\n",
       "      <th>std</th>\n",
       "      <td>8.720192</td>\n",
       "      <td>23.388876</td>\n",
       "      <td>6.835896</td>\n",
       "      <td>0.255340</td>\n",
       "      <td>0.115878</td>\n",
       "      <td>0.702617</td>\n",
       "      <td>27.999513</td>\n",
       "      <td>2.105710</td>\n",
       "      <td>8.707259</td>\n",
       "      <td>168.537116</td>\n",
       "      <td>2.164946</td>\n",
       "      <td>91.294864</td>\n",
       "      <td>7.155871</td>\n",
       "      <td>9.197104</td>\n",
       "    </tr>\n",
       "    <tr>\n",
       "      <th>min</th>\n",
       "      <td>0.006320</td>\n",
       "      <td>0.000000</td>\n",
       "      <td>0.460000</td>\n",
       "      <td>0.000000</td>\n",
       "      <td>0.385000</td>\n",
       "      <td>3.561000</td>\n",
       "      <td>2.900000</td>\n",
       "      <td>1.129600</td>\n",
       "      <td>1.000000</td>\n",
       "      <td>187.000000</td>\n",
       "      <td>12.600000</td>\n",
       "      <td>0.320000</td>\n",
       "      <td>1.730000</td>\n",
       "      <td>5.000000</td>\n",
       "    </tr>\n",
       "    <tr>\n",
       "      <th>25%</th>\n",
       "      <td>0.081900</td>\n",
       "      <td>0.000000</td>\n",
       "      <td>5.190000</td>\n",
       "      <td>0.000000</td>\n",
       "      <td>0.449000</td>\n",
       "      <td>5.885500</td>\n",
       "      <td>45.175000</td>\n",
       "      <td>2.100175</td>\n",
       "      <td>4.000000</td>\n",
       "      <td>279.000000</td>\n",
       "      <td>17.400000</td>\n",
       "      <td>375.377500</td>\n",
       "      <td>7.125000</td>\n",
       "      <td>17.025000</td>\n",
       "    </tr>\n",
       "    <tr>\n",
       "      <th>50%</th>\n",
       "      <td>0.253715</td>\n",
       "      <td>0.000000</td>\n",
       "      <td>9.690000</td>\n",
       "      <td>0.000000</td>\n",
       "      <td>0.538000</td>\n",
       "      <td>6.208500</td>\n",
       "      <td>76.800000</td>\n",
       "      <td>3.207450</td>\n",
       "      <td>5.000000</td>\n",
       "      <td>330.000000</td>\n",
       "      <td>19.050000</td>\n",
       "      <td>391.440000</td>\n",
       "      <td>11.430000</td>\n",
       "      <td>21.200000</td>\n",
       "    </tr>\n",
       "    <tr>\n",
       "      <th>75%</th>\n",
       "      <td>3.560262</td>\n",
       "      <td>12.500000</td>\n",
       "      <td>18.100000</td>\n",
       "      <td>0.000000</td>\n",
       "      <td>0.624000</td>\n",
       "      <td>6.623500</td>\n",
       "      <td>93.975000</td>\n",
       "      <td>5.188425</td>\n",
       "      <td>24.000000</td>\n",
       "      <td>666.000000</td>\n",
       "      <td>20.200000</td>\n",
       "      <td>396.225000</td>\n",
       "      <td>16.955000</td>\n",
       "      <td>25.000000</td>\n",
       "    </tr>\n",
       "    <tr>\n",
       "      <th>max</th>\n",
       "      <td>88.976200</td>\n",
       "      <td>100.000000</td>\n",
       "      <td>27.740000</td>\n",
       "      <td>1.000000</td>\n",
       "      <td>0.871000</td>\n",
       "      <td>8.780000</td>\n",
       "      <td>100.000000</td>\n",
       "      <td>12.126500</td>\n",
       "      <td>24.000000</td>\n",
       "      <td>711.000000</td>\n",
       "      <td>22.000000</td>\n",
       "      <td>396.900000</td>\n",
       "      <td>37.970000</td>\n",
       "      <td>50.000000</td>\n",
       "    </tr>\n",
       "  </tbody>\n",
       "</table>\n",
       "</div>"
      ],
      "text/plain": [
       "       crime_rate          ZN       INDUS        CHAS         NOX    room_num  \\\n",
       "count  486.000000  486.000000  486.000000  486.000000  506.000000  506.000000   \n",
       "mean     3.611874   11.211934   11.083992    0.069959    0.554695    6.284634   \n",
       "std      8.720192   23.388876    6.835896    0.255340    0.115878    0.702617   \n",
       "min      0.006320    0.000000    0.460000    0.000000    0.385000    3.561000   \n",
       "25%      0.081900    0.000000    5.190000    0.000000    0.449000    5.885500   \n",
       "50%      0.253715    0.000000    9.690000    0.000000    0.538000    6.208500   \n",
       "75%      3.560262   12.500000   18.100000    0.000000    0.624000    6.623500   \n",
       "max     88.976200  100.000000   27.740000    1.000000    0.871000    8.780000   \n",
       "\n",
       "              age         DIS         RAD         TAX     PTRATIO           B  \\\n",
       "count  486.000000  506.000000  506.000000  506.000000  506.000000  506.000000   \n",
       "mean    68.518519    3.795043    9.549407  408.237154   18.455534  356.674032   \n",
       "std     27.999513    2.105710    8.707259  168.537116    2.164946   91.294864   \n",
       "min      2.900000    1.129600    1.000000  187.000000   12.600000    0.320000   \n",
       "25%     45.175000    2.100175    4.000000  279.000000   17.400000  375.377500   \n",
       "50%     76.800000    3.207450    5.000000  330.000000   19.050000  391.440000   \n",
       "75%     93.975000    5.188425   24.000000  666.000000   20.200000  396.225000   \n",
       "max    100.000000   12.126500   24.000000  711.000000   22.000000  396.900000   \n",
       "\n",
       "        poor_prep       price  \n",
       "count  486.000000  506.000000  \n",
       "mean    12.715432   22.532806  \n",
       "std      7.155871    9.197104  \n",
       "min      1.730000    5.000000  \n",
       "25%      7.125000   17.025000  \n",
       "50%     11.430000   21.200000  \n",
       "75%     16.955000   25.000000  \n",
       "max     37.970000   50.000000  "
      ]
     },
     "execution_count": 4,
     "metadata": {},
     "output_type": "execute_result"
    }
   ],
   "source": [
    "df.describe()"
   ]
  },
  {
   "cell_type": "code",
   "execution_count": 5,
   "metadata": {},
   "outputs": [
    {
     "data": {
      "text/plain": [
       "<seaborn.axisgrid.JointGrid at 0x251091b0ec8>"
      ]
     },
     "execution_count": 5,
     "metadata": {},
     "output_type": "execute_result"
    },
    {
     "data": {
      "image/png": "[encoded data removed]",
      "text/plain": [
       "<Figure size 432x432 with 3 Axes>"
      ]
     },
     "metadata": {
      "needs_background": "light"
     },
     "output_type": "display_data"
    }
   ],
   "source": [
    "sns.jointplot(x='DIS', y='price', data=df)"
   ]
  },
  {
   "cell_type": "code",
   "execution_count": 6,
   "metadata": {},
   "outputs": [
    {
     "data": {
      "text/plain": [
       "<AxesSubplot:xlabel='CHAS', ylabel='count'>"
      ]
     },
     "execution_count": 6,
     "metadata": {},
     "output_type": "execute_result"
    },
    {
     "data": {
      "image/png": "[encoded data removed]",
      "text/plain": [
       "<Figure size 432x288 with 1 Axes>"
      ]
     },
     "metadata": {
      "needs_background": "light"
     },
     "output_type": "display_data"
    }
   ],
   "source": [
    "sns.countplot(x='CHAS', data=df)"
   ]
  },
  {
   "cell_type": "code",
   "execution_count": 7,
   "metadata": {},
   "outputs": [
    {
     "name": "stdout",
     "output_type": "stream",
     "text": [
      "<class 'pandas.core.frame.DataFrame'>\n",
      "RangeIndex: 506 entries, 0 to 505\n",
      "Data columns (total 14 columns):\n",
      " #   Column      Non-Null Count  Dtype  \n",
      "---  ------      --------------  -----  \n",
      " 0   crime_rate  486 non-null    float64\n",
      " 1   ZN          486 non-null    float64\n",
      " 2   INDUS       486 non-null    float64\n",
      " 3   CHAS        486 non-null    float64\n",
      " 4   NOX         506 non-null    float64\n",
      " 5   room_num    506 non-null    float64\n",
      " 6   age         486 non-null    float64\n",
      " 7   DIS         506 non-null    float64\n",
      " 8   RAD         506 non-null    int64  \n",
      " 9   TAX         506 non-null    int64  \n",
      " 10  PTRATIO     506 non-null    float64\n",
      " 11  B           506 non-null    float64\n",
      " 12  poor_prep   486 non-null    float64\n",
      " 13  price       506 non-null    float64\n",
      "dtypes: float64(12), int64(2)\n",
      "memory usage: 55.5 KB\n"
     ]
    }
   ],
   "source": [
    "df.info()"
   ]
  },
  {
   "cell_type": "code",
   "execution_count": 8,
   "metadata": {},
   "outputs": [
    {
     "data": {
      "text/plain": [
       "array([9.22277])"
      ]
     },
     "execution_count": 8,
     "metadata": {},
     "output_type": "execute_result"
    }
   ],
   "source": [
    "np.percentile(df.DIS, [99])"
   ]
  },
  {
   "cell_type": "code",
   "execution_count": 9,
   "metadata": {},
   "outputs": [],
   "source": [
    "uv = np.percentile(df.DIS, [99])[0]"
   ]
  },
  {
   "cell_type": "code",
   "execution_count": 10,
   "metadata": {},
   "outputs": [
    {
     "data": {
      "text/plain": [
       "9.222769999999999"
      ]
     },
     "execution_count": 10,
     "metadata": {},
     "output_type": "execute_result"
    }
   ],
   "source": [
    "uv"
   ]
  },
  {
   "cell_type": "code",
   "execution_count": 11,
   "metadata": {},
   "outputs": [
    {
     "data": {
      "text/html": [
       "<div>\n",
       "<style scoped>\n",
       "    .dataframe tbody tr th:only-of-type {\n",
       "        vertical-align: middle;\n",
       "    }\n",
       "\n",
       "    .dataframe tbody tr th {\n",
       "        vertical-align: top;\n",
       "    }\n",
       "\n",
       "    .dataframe thead th {\n",
       "        text-align: right;\n",
       "    }\n",
       "</style>\n",
       "<table border=\"1\" class=\"dataframe\">\n",
       "  <thead>\n",
       "    <tr style=\"text-align: right;\">\n",
       "      <th></th>\n",
       "      <th>crime_rate</th>\n",
       "      <th>ZN</th>\n",
       "      <th>INDUS</th>\n",
       "      <th>CHAS</th>\n",
       "      <th>NOX</th>\n",
       "      <th>room_num</th>\n",
       "      <th>age</th>\n",
       "      <th>DIS</th>\n",
       "      <th>RAD</th>\n",
       "      <th>TAX</th>\n",
       "      <th>PTRATIO</th>\n",
       "      <th>B</th>\n",
       "      <th>poor_prep</th>\n",
       "      <th>price</th>\n",
       "    </tr>\n",
       "  </thead>\n",
       "  <tbody>\n",
       "    <tr>\n",
       "      <th>64</th>\n",
       "      <td>0.01951</td>\n",
       "      <td>17.5</td>\n",
       "      <td>1.38</td>\n",
       "      <td>0.0</td>\n",
       "      <td>0.4161</td>\n",
       "      <td>7.104</td>\n",
       "      <td>59.5</td>\n",
       "      <td>9.2229</td>\n",
       "      <td>3</td>\n",
       "      <td>216</td>\n",
       "      <td>18.6</td>\n",
       "      <td>393.24</td>\n",
       "      <td>8.05</td>\n",
       "      <td>33.0</td>\n",
       "    </tr>\n",
       "    <tr>\n",
       "      <th>351</th>\n",
       "      <td>0.07950</td>\n",
       "      <td>60.0</td>\n",
       "      <td>1.69</td>\n",
       "      <td>0.0</td>\n",
       "      <td>0.4110</td>\n",
       "      <td>6.579</td>\n",
       "      <td>35.9</td>\n",
       "      <td>10.7103</td>\n",
       "      <td>4</td>\n",
       "      <td>411</td>\n",
       "      <td>18.3</td>\n",
       "      <td>370.78</td>\n",
       "      <td>5.49</td>\n",
       "      <td>24.1</td>\n",
       "    </tr>\n",
       "    <tr>\n",
       "      <th>352</th>\n",
       "      <td>0.07244</td>\n",
       "      <td>60.0</td>\n",
       "      <td>1.69</td>\n",
       "      <td>0.0</td>\n",
       "      <td>0.4110</td>\n",
       "      <td>5.884</td>\n",
       "      <td>18.5</td>\n",
       "      <td>10.7103</td>\n",
       "      <td>4</td>\n",
       "      <td>411</td>\n",
       "      <td>18.3</td>\n",
       "      <td>392.33</td>\n",
       "      <td>7.79</td>\n",
       "      <td>18.6</td>\n",
       "    </tr>\n",
       "    <tr>\n",
       "      <th>353</th>\n",
       "      <td>0.01709</td>\n",
       "      <td>90.0</td>\n",
       "      <td>2.02</td>\n",
       "      <td>0.0</td>\n",
       "      <td>0.4100</td>\n",
       "      <td>6.728</td>\n",
       "      <td>36.1</td>\n",
       "      <td>12.1265</td>\n",
       "      <td>5</td>\n",
       "      <td>187</td>\n",
       "      <td>17.0</td>\n",
       "      <td>384.46</td>\n",
       "      <td>4.50</td>\n",
       "      <td>30.1</td>\n",
       "    </tr>\n",
       "    <tr>\n",
       "      <th>354</th>\n",
       "      <td>0.04301</td>\n",
       "      <td>80.0</td>\n",
       "      <td>1.91</td>\n",
       "      <td>0.0</td>\n",
       "      <td>0.4130</td>\n",
       "      <td>5.663</td>\n",
       "      <td>21.9</td>\n",
       "      <td>10.5857</td>\n",
       "      <td>4</td>\n",
       "      <td>334</td>\n",
       "      <td>22.0</td>\n",
       "      <td>382.80</td>\n",
       "      <td>8.05</td>\n",
       "      <td>18.2</td>\n",
       "    </tr>\n",
       "    <tr>\n",
       "      <th>355</th>\n",
       "      <td>0.10659</td>\n",
       "      <td>NaN</td>\n",
       "      <td>1.91</td>\n",
       "      <td>0.0</td>\n",
       "      <td>0.4130</td>\n",
       "      <td>5.936</td>\n",
       "      <td>NaN</td>\n",
       "      <td>10.5857</td>\n",
       "      <td>4</td>\n",
       "      <td>334</td>\n",
       "      <td>22.0</td>\n",
       "      <td>376.04</td>\n",
       "      <td>5.57</td>\n",
       "      <td>20.6</td>\n",
       "    </tr>\n",
       "  </tbody>\n",
       "</table>\n",
       "</div>"
      ],
      "text/plain": [
       "     crime_rate    ZN  INDUS  CHAS     NOX  room_num   age      DIS  RAD  TAX  \\\n",
       "64      0.01951  17.5   1.38   0.0  0.4161     7.104  59.5   9.2229    3  216   \n",
       "351     0.07950  60.0   1.69   0.0  0.4110     6.579  35.9  10.7103    4  411   \n",
       "352     0.07244  60.0   1.69   0.0  0.4110     5.884  18.5  10.7103    4  411   \n",
       "353     0.01709  90.0   2.02   0.0  0.4100     6.728  36.1  12.1265    5  187   \n",
       "354     0.04301  80.0   1.91   0.0  0.4130     5.663  21.9  10.5857    4  334   \n",
       "355     0.10659   NaN   1.91   0.0  0.4130     5.936   NaN  10.5857    4  334   \n",
       "\n",
       "     PTRATIO       B  poor_prep  price  \n",
       "64      18.6  393.24       8.05   33.0  \n",
       "351     18.3  370.78       5.49   24.1  \n",
       "352     18.3  392.33       7.79   18.6  \n",
       "353     17.0  384.46       4.50   30.1  \n",
       "354     22.0  382.80       8.05   18.2  \n",
       "355     22.0  376.04       5.57   20.6  "
      ]
     },
     "execution_count": 11,
     "metadata": {},
     "output_type": "execute_result"
    }
   ],
   "source": [
    "df[df.DIS > uv]"
   ]
  },
  {
   "cell_type": "code",
   "execution_count": 12,
   "metadata": {},
   "outputs": [
    {
     "name": "stderr",
     "output_type": "stream",
     "text": [
      "C:\\Users\\Bhavesh kumar\\Anaconda3\\envs\\tensorflow_env\\lib\\site-packages\\ipykernel_launcher.py:1: SettingWithCopyWarning: \n",
      "A value is trying to be set on a copy of a slice from a DataFrame\n",
      "\n",
      "See the caveats in the documentation: https://pandas.pydata.org/pandas-docs/stable/user_guide/indexing.html#returning-a-view-versus-a-copy\n",
      "  \"\"\"Entry point for launching an IPython kernel.\n"
     ]
    }
   ],
   "source": [
    "df.DIS[df.DIS > 3*uv] = 3 * uv"
   ]
  },
  {
   "cell_type": "code",
   "execution_count": 13,
   "metadata": {},
   "outputs": [
    {
     "data": {
      "text/html": [
       "<div>\n",
       "<style scoped>\n",
       "    .dataframe tbody tr th:only-of-type {\n",
       "        vertical-align: middle;\n",
       "    }\n",
       "\n",
       "    .dataframe tbody tr th {\n",
       "        vertical-align: top;\n",
       "    }\n",
       "\n",
       "    .dataframe thead th {\n",
       "        text-align: right;\n",
       "    }\n",
       "</style>\n",
       "<table border=\"1\" class=\"dataframe\">\n",
       "  <thead>\n",
       "    <tr style=\"text-align: right;\">\n",
       "      <th></th>\n",
       "      <th>crime_rate</th>\n",
       "      <th>ZN</th>\n",
       "      <th>INDUS</th>\n",
       "      <th>CHAS</th>\n",
       "      <th>NOX</th>\n",
       "      <th>room_num</th>\n",
       "      <th>age</th>\n",
       "      <th>DIS</th>\n",
       "      <th>RAD</th>\n",
       "      <th>TAX</th>\n",
       "      <th>PTRATIO</th>\n",
       "      <th>B</th>\n",
       "      <th>poor_prep</th>\n",
       "      <th>price</th>\n",
       "    </tr>\n",
       "  </thead>\n",
       "  <tbody>\n",
       "    <tr>\n",
       "      <th>64</th>\n",
       "      <td>0.01951</td>\n",
       "      <td>17.5</td>\n",
       "      <td>1.38</td>\n",
       "      <td>0.0</td>\n",
       "      <td>0.4161</td>\n",
       "      <td>7.104</td>\n",
       "      <td>59.5</td>\n",
       "      <td>9.2229</td>\n",
       "      <td>3</td>\n",
       "      <td>216</td>\n",
       "      <td>18.6</td>\n",
       "      <td>393.24</td>\n",
       "      <td>8.05</td>\n",
       "      <td>33.0</td>\n",
       "    </tr>\n",
       "    <tr>\n",
       "      <th>351</th>\n",
       "      <td>0.07950</td>\n",
       "      <td>60.0</td>\n",
       "      <td>1.69</td>\n",
       "      <td>0.0</td>\n",
       "      <td>0.4110</td>\n",
       "      <td>6.579</td>\n",
       "      <td>35.9</td>\n",
       "      <td>10.7103</td>\n",
       "      <td>4</td>\n",
       "      <td>411</td>\n",
       "      <td>18.3</td>\n",
       "      <td>370.78</td>\n",
       "      <td>5.49</td>\n",
       "      <td>24.1</td>\n",
       "    </tr>\n",
       "    <tr>\n",
       "      <th>352</th>\n",
       "      <td>0.07244</td>\n",
       "      <td>60.0</td>\n",
       "      <td>1.69</td>\n",
       "      <td>0.0</td>\n",
       "      <td>0.4110</td>\n",
       "      <td>5.884</td>\n",
       "      <td>18.5</td>\n",
       "      <td>10.7103</td>\n",
       "      <td>4</td>\n",
       "      <td>411</td>\n",
       "      <td>18.3</td>\n",
       "      <td>392.33</td>\n",
       "      <td>7.79</td>\n",
       "      <td>18.6</td>\n",
       "    </tr>\n",
       "    <tr>\n",
       "      <th>353</th>\n",
       "      <td>0.01709</td>\n",
       "      <td>90.0</td>\n",
       "      <td>2.02</td>\n",
       "      <td>0.0</td>\n",
       "      <td>0.4100</td>\n",
       "      <td>6.728</td>\n",
       "      <td>36.1</td>\n",
       "      <td>12.1265</td>\n",
       "      <td>5</td>\n",
       "      <td>187</td>\n",
       "      <td>17.0</td>\n",
       "      <td>384.46</td>\n",
       "      <td>4.50</td>\n",
       "      <td>30.1</td>\n",
       "    </tr>\n",
       "    <tr>\n",
       "      <th>354</th>\n",
       "      <td>0.04301</td>\n",
       "      <td>80.0</td>\n",
       "      <td>1.91</td>\n",
       "      <td>0.0</td>\n",
       "      <td>0.4130</td>\n",
       "      <td>5.663</td>\n",
       "      <td>21.9</td>\n",
       "      <td>10.5857</td>\n",
       "      <td>4</td>\n",
       "      <td>334</td>\n",
       "      <td>22.0</td>\n",
       "      <td>382.80</td>\n",
       "      <td>8.05</td>\n",
       "      <td>18.2</td>\n",
       "    </tr>\n",
       "    <tr>\n",
       "      <th>355</th>\n",
       "      <td>0.10659</td>\n",
       "      <td>NaN</td>\n",
       "      <td>1.91</td>\n",
       "      <td>0.0</td>\n",
       "      <td>0.4130</td>\n",
       "      <td>5.936</td>\n",
       "      <td>NaN</td>\n",
       "      <td>10.5857</td>\n",
       "      <td>4</td>\n",
       "      <td>334</td>\n",
       "      <td>22.0</td>\n",
       "      <td>376.04</td>\n",
       "      <td>5.57</td>\n",
       "      <td>20.6</td>\n",
       "    </tr>\n",
       "  </tbody>\n",
       "</table>\n",
       "</div>"
      ],
      "text/plain": [
       "     crime_rate    ZN  INDUS  CHAS     NOX  room_num   age      DIS  RAD  TAX  \\\n",
       "64      0.01951  17.5   1.38   0.0  0.4161     7.104  59.5   9.2229    3  216   \n",
       "351     0.07950  60.0   1.69   0.0  0.4110     6.579  35.9  10.7103    4  411   \n",
       "352     0.07244  60.0   1.69   0.0  0.4110     5.884  18.5  10.7103    4  411   \n",
       "353     0.01709  90.0   2.02   0.0  0.4100     6.728  36.1  12.1265    5  187   \n",
       "354     0.04301  80.0   1.91   0.0  0.4130     5.663  21.9  10.5857    4  334   \n",
       "355     0.10659   NaN   1.91   0.0  0.4130     5.936   NaN  10.5857    4  334   \n",
       "\n",
       "     PTRATIO       B  poor_prep  price  \n",
       "64      18.6  393.24       8.05   33.0  \n",
       "351     18.3  370.78       5.49   24.1  \n",
       "352     18.3  392.33       7.79   18.6  \n",
       "353     17.0  384.46       4.50   30.1  \n",
       "354     22.0  382.80       8.05   18.2  \n",
       "355     22.0  376.04       5.57   20.6  "
      ]
     },
     "execution_count": 13,
     "metadata": {},
     "output_type": "execute_result"
    }
   ],
   "source": [
    "df[df.DIS > uv]"
   ]
  },
  {
   "cell_type": "code",
   "execution_count": 14,
   "metadata": {},
   "outputs": [],
   "source": [
    "lv = np.percentile(df.B, [1])[0]"
   ]
  },
  {
   "cell_type": "code",
   "execution_count": 15,
   "metadata": {},
   "outputs": [
    {
     "data": {
      "text/plain": [
       "6.7299999999999995"
      ]
     },
     "execution_count": 15,
     "metadata": {},
     "output_type": "execute_result"
    }
   ],
   "source": [
    "lv"
   ]
  },
  {
   "cell_type": "code",
   "execution_count": 16,
   "metadata": {},
   "outputs": [
    {
     "data": {
      "text/html": [
       "<div>\n",
       "<style scoped>\n",
       "    .dataframe tbody tr th:only-of-type {\n",
       "        vertical-align: middle;\n",
       "    }\n",
       "\n",
       "    .dataframe tbody tr th {\n",
       "        vertical-align: top;\n",
       "    }\n",
       "\n",
       "    .dataframe thead th {\n",
       "        text-align: right;\n",
       "    }\n",
       "</style>\n",
       "<table border=\"1\" class=\"dataframe\">\n",
       "  <thead>\n",
       "    <tr style=\"text-align: right;\">\n",
       "      <th></th>\n",
       "      <th>crime_rate</th>\n",
       "      <th>ZN</th>\n",
       "      <th>INDUS</th>\n",
       "      <th>CHAS</th>\n",
       "      <th>NOX</th>\n",
       "      <th>room_num</th>\n",
       "      <th>age</th>\n",
       "      <th>DIS</th>\n",
       "      <th>RAD</th>\n",
       "      <th>TAX</th>\n",
       "      <th>PTRATIO</th>\n",
       "      <th>B</th>\n",
       "      <th>poor_prep</th>\n",
       "      <th>price</th>\n",
       "    </tr>\n",
       "  </thead>\n",
       "  <tbody>\n",
       "    <tr>\n",
       "      <th>410</th>\n",
       "      <td>51.13580</td>\n",
       "      <td>0.0</td>\n",
       "      <td>18.1</td>\n",
       "      <td>0.0</td>\n",
       "      <td>0.597</td>\n",
       "      <td>5.757</td>\n",
       "      <td>100.0</td>\n",
       "      <td>1.4130</td>\n",
       "      <td>24</td>\n",
       "      <td>666</td>\n",
       "      <td>20.2</td>\n",
       "      <td>2.60</td>\n",
       "      <td>10.11</td>\n",
       "      <td>15.0</td>\n",
       "    </tr>\n",
       "    <tr>\n",
       "      <th>423</th>\n",
       "      <td>7.05042</td>\n",
       "      <td>0.0</td>\n",
       "      <td>18.1</td>\n",
       "      <td>0.0</td>\n",
       "      <td>0.614</td>\n",
       "      <td>6.103</td>\n",
       "      <td>NaN</td>\n",
       "      <td>2.0218</td>\n",
       "      <td>24</td>\n",
       "      <td>666</td>\n",
       "      <td>20.2</td>\n",
       "      <td>2.52</td>\n",
       "      <td>23.29</td>\n",
       "      <td>13.4</td>\n",
       "    </tr>\n",
       "    <tr>\n",
       "      <th>424</th>\n",
       "      <td>8.79212</td>\n",
       "      <td>0.0</td>\n",
       "      <td>18.1</td>\n",
       "      <td>0.0</td>\n",
       "      <td>0.584</td>\n",
       "      <td>5.565</td>\n",
       "      <td>70.6</td>\n",
       "      <td>2.0635</td>\n",
       "      <td>24</td>\n",
       "      <td>666</td>\n",
       "      <td>20.2</td>\n",
       "      <td>3.65</td>\n",
       "      <td>17.16</td>\n",
       "      <td>11.7</td>\n",
       "    </tr>\n",
       "    <tr>\n",
       "      <th>450</th>\n",
       "      <td>6.71772</td>\n",
       "      <td>0.0</td>\n",
       "      <td>18.1</td>\n",
       "      <td>NaN</td>\n",
       "      <td>0.713</td>\n",
       "      <td>6.749</td>\n",
       "      <td>92.6</td>\n",
       "      <td>2.3236</td>\n",
       "      <td>24</td>\n",
       "      <td>666</td>\n",
       "      <td>20.2</td>\n",
       "      <td>0.32</td>\n",
       "      <td>17.44</td>\n",
       "      <td>13.4</td>\n",
       "    </tr>\n",
       "    <tr>\n",
       "      <th>454</th>\n",
       "      <td>9.51363</td>\n",
       "      <td>0.0</td>\n",
       "      <td>18.1</td>\n",
       "      <td>0.0</td>\n",
       "      <td>0.713</td>\n",
       "      <td>6.728</td>\n",
       "      <td>94.1</td>\n",
       "      <td>2.4961</td>\n",
       "      <td>24</td>\n",
       "      <td>666</td>\n",
       "      <td>20.2</td>\n",
       "      <td>6.68</td>\n",
       "      <td>18.71</td>\n",
       "      <td>14.9</td>\n",
       "    </tr>\n",
       "    <tr>\n",
       "      <th>457</th>\n",
       "      <td>8.20058</td>\n",
       "      <td>0.0</td>\n",
       "      <td>18.1</td>\n",
       "      <td>0.0</td>\n",
       "      <td>0.713</td>\n",
       "      <td>5.936</td>\n",
       "      <td>80.3</td>\n",
       "      <td>2.7792</td>\n",
       "      <td>24</td>\n",
       "      <td>666</td>\n",
       "      <td>20.2</td>\n",
       "      <td>3.50</td>\n",
       "      <td>16.94</td>\n",
       "      <td>13.5</td>\n",
       "    </tr>\n",
       "  </tbody>\n",
       "</table>\n",
       "</div>"
      ],
      "text/plain": [
       "     crime_rate   ZN  INDUS  CHAS    NOX  room_num    age     DIS  RAD  TAX  \\\n",
       "410    51.13580  0.0   18.1   0.0  0.597     5.757  100.0  1.4130   24  666   \n",
       "423     7.05042  0.0   18.1   0.0  0.614     6.103    NaN  2.0218   24  666   \n",
       "424     8.79212  0.0   18.1   0.0  0.584     5.565   70.6  2.0635   24  666   \n",
       "450     6.71772  0.0   18.1   NaN  0.713     6.749   92.6  2.3236   24  666   \n",
       "454     9.51363  0.0   18.1   0.0  0.713     6.728   94.1  2.4961   24  666   \n",
       "457     8.20058  0.0   18.1   0.0  0.713     5.936   80.3  2.7792   24  666   \n",
       "\n",
       "     PTRATIO     B  poor_prep  price  \n",
       "410     20.2  2.60      10.11   15.0  \n",
       "423     20.2  2.52      23.29   13.4  \n",
       "424     20.2  3.65      17.16   11.7  \n",
       "450     20.2  0.32      17.44   13.4  \n",
       "454     20.2  6.68      18.71   14.9  \n",
       "457     20.2  3.50      16.94   13.5  "
      ]
     },
     "execution_count": 16,
     "metadata": {},
     "output_type": "execute_result"
    }
   ],
   "source": [
    "df[df.B < lv]"
   ]
  },
  {
   "cell_type": "code",
   "execution_count": 17,
   "metadata": {},
   "outputs": [
    {
     "name": "stderr",
     "output_type": "stream",
     "text": [
      "C:\\Users\\Bhavesh kumar\\Anaconda3\\envs\\tensorflow_env\\lib\\site-packages\\ipykernel_launcher.py:1: SettingWithCopyWarning: \n",
      "A value is trying to be set on a copy of a slice from a DataFrame\n",
      "\n",
      "See the caveats in the documentation: https://pandas.pydata.org/pandas-docs/stable/user_guide/indexing.html#returning-a-view-versus-a-copy\n",
      "  \"\"\"Entry point for launching an IPython kernel.\n"
     ]
    }
   ],
   "source": [
    "df.B[df.B < 0.4 * lv] = 0.4 * lv"
   ]
  },
  {
   "cell_type": "code",
   "execution_count": 18,
   "metadata": {},
   "outputs": [
    {
     "data": {
      "text/html": [
       "<div>\n",
       "<style scoped>\n",
       "    .dataframe tbody tr th:only-of-type {\n",
       "        vertical-align: middle;\n",
       "    }\n",
       "\n",
       "    .dataframe tbody tr th {\n",
       "        vertical-align: top;\n",
       "    }\n",
       "\n",
       "    .dataframe thead th {\n",
       "        text-align: right;\n",
       "    }\n",
       "</style>\n",
       "<table border=\"1\" class=\"dataframe\">\n",
       "  <thead>\n",
       "    <tr style=\"text-align: right;\">\n",
       "      <th></th>\n",
       "      <th>crime_rate</th>\n",
       "      <th>ZN</th>\n",
       "      <th>INDUS</th>\n",
       "      <th>CHAS</th>\n",
       "      <th>NOX</th>\n",
       "      <th>room_num</th>\n",
       "      <th>age</th>\n",
       "      <th>DIS</th>\n",
       "      <th>RAD</th>\n",
       "      <th>TAX</th>\n",
       "      <th>PTRATIO</th>\n",
       "      <th>B</th>\n",
       "      <th>poor_prep</th>\n",
       "      <th>price</th>\n",
       "    </tr>\n",
       "  </thead>\n",
       "  <tbody>\n",
       "    <tr>\n",
       "      <th>410</th>\n",
       "      <td>51.13580</td>\n",
       "      <td>0.0</td>\n",
       "      <td>18.1</td>\n",
       "      <td>0.0</td>\n",
       "      <td>0.597</td>\n",
       "      <td>5.757</td>\n",
       "      <td>100.0</td>\n",
       "      <td>1.4130</td>\n",
       "      <td>24</td>\n",
       "      <td>666</td>\n",
       "      <td>20.2</td>\n",
       "      <td>2.692</td>\n",
       "      <td>10.11</td>\n",
       "      <td>15.0</td>\n",
       "    </tr>\n",
       "    <tr>\n",
       "      <th>423</th>\n",
       "      <td>7.05042</td>\n",
       "      <td>0.0</td>\n",
       "      <td>18.1</td>\n",
       "      <td>0.0</td>\n",
       "      <td>0.614</td>\n",
       "      <td>6.103</td>\n",
       "      <td>NaN</td>\n",
       "      <td>2.0218</td>\n",
       "      <td>24</td>\n",
       "      <td>666</td>\n",
       "      <td>20.2</td>\n",
       "      <td>2.692</td>\n",
       "      <td>23.29</td>\n",
       "      <td>13.4</td>\n",
       "    </tr>\n",
       "    <tr>\n",
       "      <th>424</th>\n",
       "      <td>8.79212</td>\n",
       "      <td>0.0</td>\n",
       "      <td>18.1</td>\n",
       "      <td>0.0</td>\n",
       "      <td>0.584</td>\n",
       "      <td>5.565</td>\n",
       "      <td>70.6</td>\n",
       "      <td>2.0635</td>\n",
       "      <td>24</td>\n",
       "      <td>666</td>\n",
       "      <td>20.2</td>\n",
       "      <td>3.650</td>\n",
       "      <td>17.16</td>\n",
       "      <td>11.7</td>\n",
       "    </tr>\n",
       "    <tr>\n",
       "      <th>450</th>\n",
       "      <td>6.71772</td>\n",
       "      <td>0.0</td>\n",
       "      <td>18.1</td>\n",
       "      <td>NaN</td>\n",
       "      <td>0.713</td>\n",
       "      <td>6.749</td>\n",
       "      <td>92.6</td>\n",
       "      <td>2.3236</td>\n",
       "      <td>24</td>\n",
       "      <td>666</td>\n",
       "      <td>20.2</td>\n",
       "      <td>2.692</td>\n",
       "      <td>17.44</td>\n",
       "      <td>13.4</td>\n",
       "    </tr>\n",
       "    <tr>\n",
       "      <th>454</th>\n",
       "      <td>9.51363</td>\n",
       "      <td>0.0</td>\n",
       "      <td>18.1</td>\n",
       "      <td>0.0</td>\n",
       "      <td>0.713</td>\n",
       "      <td>6.728</td>\n",
       "      <td>94.1</td>\n",
       "      <td>2.4961</td>\n",
       "      <td>24</td>\n",
       "      <td>666</td>\n",
       "      <td>20.2</td>\n",
       "      <td>6.680</td>\n",
       "      <td>18.71</td>\n",
       "      <td>14.9</td>\n",
       "    </tr>\n",
       "    <tr>\n",
       "      <th>457</th>\n",
       "      <td>8.20058</td>\n",
       "      <td>0.0</td>\n",
       "      <td>18.1</td>\n",
       "      <td>0.0</td>\n",
       "      <td>0.713</td>\n",
       "      <td>5.936</td>\n",
       "      <td>80.3</td>\n",
       "      <td>2.7792</td>\n",
       "      <td>24</td>\n",
       "      <td>666</td>\n",
       "      <td>20.2</td>\n",
       "      <td>3.500</td>\n",
       "      <td>16.94</td>\n",
       "      <td>13.5</td>\n",
       "    </tr>\n",
       "  </tbody>\n",
       "</table>\n",
       "</div>"
      ],
      "text/plain": [
       "     crime_rate   ZN  INDUS  CHAS    NOX  room_num    age     DIS  RAD  TAX  \\\n",
       "410    51.13580  0.0   18.1   0.0  0.597     5.757  100.0  1.4130   24  666   \n",
       "423     7.05042  0.0   18.1   0.0  0.614     6.103    NaN  2.0218   24  666   \n",
       "424     8.79212  0.0   18.1   0.0  0.584     5.565   70.6  2.0635   24  666   \n",
       "450     6.71772  0.0   18.1   NaN  0.713     6.749   92.6  2.3236   24  666   \n",
       "454     9.51363  0.0   18.1   0.0  0.713     6.728   94.1  2.4961   24  666   \n",
       "457     8.20058  0.0   18.1   0.0  0.713     5.936   80.3  2.7792   24  666   \n",
       "\n",
       "     PTRATIO      B  poor_prep  price  \n",
       "410     20.2  2.692      10.11   15.0  \n",
       "423     20.2  2.692      23.29   13.4  \n",
       "424     20.2  3.650      17.16   11.7  \n",
       "450     20.2  2.692      17.44   13.4  \n",
       "454     20.2  6.680      18.71   14.9  \n",
       "457     20.2  3.500      16.94   13.5  "
      ]
     },
     "execution_count": 18,
     "metadata": {},
     "output_type": "execute_result"
    }
   ],
   "source": [
    "df[df.B < lv]"
   ]
  },
  {
   "cell_type": "code",
   "execution_count": 19,
   "metadata": {},
   "outputs": [
    {
     "data": {
      "text/plain": [
       "<seaborn.axisgrid.JointGrid at 0x251096fc588>"
      ]
     },
     "execution_count": 19,
     "metadata": {},
     "output_type": "execute_result"
    },
    {
     "data": {
      "image/png": "[encoded data removed]",
      "text/plain": [
       "<Figure size 432x432 with 3 Axes>"
      ]
     },
     "metadata": {
      "needs_background": "light"
     },
     "output_type": "display_data"
    }
   ],
   "source": [
    "sns.jointplot(x='crime_rate', y='price', data = df)"
   ]
  },
  {
   "cell_type": "code",
   "execution_count": 20,
   "metadata": {},
   "outputs": [
    {
     "data": {
      "text/html": [
       "<div>\n",
       "<style scoped>\n",
       "    .dataframe tbody tr th:only-of-type {\n",
       "        vertical-align: middle;\n",
       "    }\n",
       "\n",
       "    .dataframe tbody tr th {\n",
       "        vertical-align: top;\n",
       "    }\n",
       "\n",
       "    .dataframe thead th {\n",
       "        text-align: right;\n",
       "    }\n",
       "</style>\n",
       "<table border=\"1\" class=\"dataframe\">\n",
       "  <thead>\n",
       "    <tr style=\"text-align: right;\">\n",
       "      <th></th>\n",
       "      <th>crime_rate</th>\n",
       "      <th>ZN</th>\n",
       "      <th>INDUS</th>\n",
       "      <th>CHAS</th>\n",
       "      <th>NOX</th>\n",
       "      <th>room_num</th>\n",
       "      <th>age</th>\n",
       "      <th>DIS</th>\n",
       "      <th>RAD</th>\n",
       "      <th>TAX</th>\n",
       "      <th>PTRATIO</th>\n",
       "      <th>B</th>\n",
       "      <th>poor_prep</th>\n",
       "      <th>price</th>\n",
       "    </tr>\n",
       "  </thead>\n",
       "  <tbody>\n",
       "    <tr>\n",
       "      <th>count</th>\n",
       "      <td>486.000000</td>\n",
       "      <td>486.000000</td>\n",
       "      <td>486.000000</td>\n",
       "      <td>486.000000</td>\n",
       "      <td>506.000000</td>\n",
       "      <td>506.000000</td>\n",
       "      <td>486.000000</td>\n",
       "      <td>506.000000</td>\n",
       "      <td>506.000000</td>\n",
       "      <td>506.000000</td>\n",
       "      <td>506.000000</td>\n",
       "      <td>506.000000</td>\n",
       "      <td>486.000000</td>\n",
       "      <td>506.000000</td>\n",
       "    </tr>\n",
       "    <tr>\n",
       "      <th>mean</th>\n",
       "      <td>3.611874</td>\n",
       "      <td>11.211934</td>\n",
       "      <td>11.083992</td>\n",
       "      <td>0.069959</td>\n",
       "      <td>0.554695</td>\n",
       "      <td>6.284634</td>\n",
       "      <td>68.518519</td>\n",
       "      <td>3.795043</td>\n",
       "      <td>9.549407</td>\n",
       "      <td>408.237154</td>\n",
       "      <td>18.455534</td>\n",
       "      <td>356.679241</td>\n",
       "      <td>12.715432</td>\n",
       "      <td>22.532806</td>\n",
       "    </tr>\n",
       "    <tr>\n",
       "      <th>std</th>\n",
       "      <td>8.720192</td>\n",
       "      <td>23.388876</td>\n",
       "      <td>6.835896</td>\n",
       "      <td>0.255340</td>\n",
       "      <td>0.115878</td>\n",
       "      <td>0.702617</td>\n",
       "      <td>27.999513</td>\n",
       "      <td>2.105710</td>\n",
       "      <td>8.707259</td>\n",
       "      <td>168.537116</td>\n",
       "      <td>2.164946</td>\n",
       "      <td>91.274562</td>\n",
       "      <td>7.155871</td>\n",
       "      <td>9.197104</td>\n",
       "    </tr>\n",
       "    <tr>\n",
       "      <th>min</th>\n",
       "      <td>0.006320</td>\n",
       "      <td>0.000000</td>\n",
       "      <td>0.460000</td>\n",
       "      <td>0.000000</td>\n",
       "      <td>0.385000</td>\n",
       "      <td>3.561000</td>\n",
       "      <td>2.900000</td>\n",
       "      <td>1.129600</td>\n",
       "      <td>1.000000</td>\n",
       "      <td>187.000000</td>\n",
       "      <td>12.600000</td>\n",
       "      <td>2.692000</td>\n",
       "      <td>1.730000</td>\n",
       "      <td>5.000000</td>\n",
       "    </tr>\n",
       "    <tr>\n",
       "      <th>25%</th>\n",
       "      <td>0.081900</td>\n",
       "      <td>0.000000</td>\n",
       "      <td>5.190000</td>\n",
       "      <td>0.000000</td>\n",
       "      <td>0.449000</td>\n",
       "      <td>5.885500</td>\n",
       "      <td>45.175000</td>\n",
       "      <td>2.100175</td>\n",
       "      <td>4.000000</td>\n",
       "      <td>279.000000</td>\n",
       "      <td>17.400000</td>\n",
       "      <td>375.377500</td>\n",
       "      <td>7.125000</td>\n",
       "      <td>17.025000</td>\n",
       "    </tr>\n",
       "    <tr>\n",
       "      <th>50%</th>\n",
       "      <td>0.253715</td>\n",
       "      <td>0.000000</td>\n",
       "      <td>9.690000</td>\n",
       "      <td>0.000000</td>\n",
       "      <td>0.538000</td>\n",
       "      <td>6.208500</td>\n",
       "      <td>76.800000</td>\n",
       "      <td>3.207450</td>\n",
       "      <td>5.000000</td>\n",
       "      <td>330.000000</td>\n",
       "      <td>19.050000</td>\n",
       "      <td>391.440000</td>\n",
       "      <td>11.430000</td>\n",
       "      <td>21.200000</td>\n",
       "    </tr>\n",
       "    <tr>\n",
       "      <th>75%</th>\n",
       "      <td>3.560262</td>\n",
       "      <td>12.500000</td>\n",
       "      <td>18.100000</td>\n",
       "      <td>0.000000</td>\n",
       "      <td>0.624000</td>\n",
       "      <td>6.623500</td>\n",
       "      <td>93.975000</td>\n",
       "      <td>5.188425</td>\n",
       "      <td>24.000000</td>\n",
       "      <td>666.000000</td>\n",
       "      <td>20.200000</td>\n",
       "      <td>396.225000</td>\n",
       "      <td>16.955000</td>\n",
       "      <td>25.000000</td>\n",
       "    </tr>\n",
       "    <tr>\n",
       "      <th>max</th>\n",
       "      <td>88.976200</td>\n",
       "      <td>100.000000</td>\n",
       "      <td>27.740000</td>\n",
       "      <td>1.000000</td>\n",
       "      <td>0.871000</td>\n",
       "      <td>8.780000</td>\n",
       "      <td>100.000000</td>\n",
       "      <td>12.126500</td>\n",
       "      <td>24.000000</td>\n",
       "      <td>711.000000</td>\n",
       "      <td>22.000000</td>\n",
       "      <td>396.900000</td>\n",
       "      <td>37.970000</td>\n",
       "      <td>50.000000</td>\n",
       "    </tr>\n",
       "  </tbody>\n",
       "</table>\n",
       "</div>"
      ],
      "text/plain": [
       "       crime_rate          ZN       INDUS        CHAS         NOX    room_num  \\\n",
       "count  486.000000  486.000000  486.000000  486.000000  506.000000  506.000000   \n",
       "mean     3.611874   11.211934   11.083992    0.069959    0.554695    6.284634   \n",
       "std      8.720192   23.388876    6.835896    0.255340    0.115878    0.702617   \n",
       "min      0.006320    0.000000    0.460000    0.000000    0.385000    3.561000   \n",
       "25%      0.081900    0.000000    5.190000    0.000000    0.449000    5.885500   \n",
       "50%      0.253715    0.000000    9.690000    0.000000    0.538000    6.208500   \n",
       "75%      3.560262   12.500000   18.100000    0.000000    0.624000    6.623500   \n",
       "max     88.976200  100.000000   27.740000    1.000000    0.871000    8.780000   \n",
       "\n",
       "              age         DIS         RAD         TAX     PTRATIO           B  \\\n",
       "count  486.000000  506.000000  506.000000  506.000000  506.000000  506.000000   \n",
       "mean    68.518519    3.795043    9.549407  408.237154   18.455534  356.679241   \n",
       "std     27.999513    2.105710    8.707259  168.537116    2.164946   91.274562   \n",
       "min      2.900000    1.129600    1.000000  187.000000   12.600000    2.692000   \n",
       "25%     45.175000    2.100175    4.000000  279.000000   17.400000  375.377500   \n",
       "50%     76.800000    3.207450    5.000000  330.000000   19.050000  391.440000   \n",
       "75%     93.975000    5.188425   24.000000  666.000000   20.200000  396.225000   \n",
       "max    100.000000   12.126500   24.000000  711.000000   22.000000  396.900000   \n",
       "\n",
       "        poor_prep       price  \n",
       "count  486.000000  506.000000  \n",
       "mean    12.715432   22.532806  \n",
       "std      7.155871    9.197104  \n",
       "min      1.730000    5.000000  \n",
       "25%      7.125000   17.025000  \n",
       "50%     11.430000   21.200000  \n",
       "75%     16.955000   25.000000  \n",
       "max     37.970000   50.000000  "
      ]
     },
     "execution_count": 20,
     "metadata": {},
     "output_type": "execute_result"
    }
   ],
   "source": [
    "df.describe()"
   ]
  },
  {
   "cell_type": "code",
   "execution_count": 21,
   "metadata": {},
   "outputs": [
    {
     "name": "stdout",
     "output_type": "stream",
     "text": [
      "<class 'pandas.core.frame.DataFrame'>\n",
      "RangeIndex: 506 entries, 0 to 505\n",
      "Data columns (total 14 columns):\n",
      " #   Column      Non-Null Count  Dtype  \n",
      "---  ------      --------------  -----  \n",
      " 0   crime_rate  486 non-null    float64\n",
      " 1   ZN          486 non-null    float64\n",
      " 2   INDUS       486 non-null    float64\n",
      " 3   CHAS        486 non-null    float64\n",
      " 4   NOX         506 non-null    float64\n",
      " 5   room_num    506 non-null    float64\n",
      " 6   age         486 non-null    float64\n",
      " 7   DIS         506 non-null    float64\n",
      " 8   RAD         506 non-null    int64  \n",
      " 9   TAX         506 non-null    int64  \n",
      " 10  PTRATIO     506 non-null    float64\n",
      " 11  B           506 non-null    float64\n",
      " 12  poor_prep   486 non-null    float64\n",
      " 13  price       506 non-null    float64\n",
      "dtypes: float64(12), int64(2)\n",
      "memory usage: 55.5 KB\n"
     ]
    }
   ],
   "source": [
    "df.info()"
   ]
  },
  {
   "cell_type": "code",
   "execution_count": 22,
   "metadata": {},
   "outputs": [
    {
     "data": {
      "text/plain": [
       "crime_rate    20\n",
       "ZN            20\n",
       "INDUS         20\n",
       "CHAS          20\n",
       "NOX            0\n",
       "room_num       0\n",
       "age           20\n",
       "DIS            0\n",
       "RAD            0\n",
       "TAX            0\n",
       "PTRATIO        0\n",
       "B              0\n",
       "poor_prep     20\n",
       "price          0\n",
       "dtype: int64"
      ]
     },
     "execution_count": 22,
     "metadata": {},
     "output_type": "execute_result"
    }
   ],
   "source": [
    "df.isnull().sum()"
   ]
  },
  {
   "cell_type": "code",
   "execution_count": 23,
   "metadata": {},
   "outputs": [],
   "source": [
    "df['crime_rate'].fillna(df['crime_rate'].mean(), inplace=True)\n",
    "df['ZN'].fillna(df['ZN'].mean(), inplace=True)\n",
    "df['INDUS'].fillna(df['INDUS'].mean(), inplace=True)\n",
    "df['CHAS'].fillna(df['CHAS'].mean(), inplace=True)\n",
    "df['age'].fillna(df['age'].mean(), inplace=True)\n",
    "df['poor_prep'].fillna(df['poor_prep'].mean(), inplace=True)"
   ]
  },
  {
   "cell_type": "code",
   "execution_count": 24,
   "metadata": {},
   "outputs": [
    {
     "name": "stdout",
     "output_type": "stream",
     "text": [
      "<class 'pandas.core.frame.DataFrame'>\n",
      "RangeIndex: 506 entries, 0 to 505\n",
      "Data columns (total 14 columns):\n",
      " #   Column      Non-Null Count  Dtype  \n",
      "---  ------      --------------  -----  \n",
      " 0   crime_rate  506 non-null    float64\n",
      " 1   ZN          506 non-null    float64\n",
      " 2   INDUS       506 non-null    float64\n",
      " 3   CHAS        506 non-null    float64\n",
      " 4   NOX         506 non-null    float64\n",
      " 5   room_num    506 non-null    float64\n",
      " 6   age         506 non-null    float64\n",
      " 7   DIS         506 non-null    float64\n",
      " 8   RAD         506 non-null    int64  \n",
      " 9   TAX         506 non-null    int64  \n",
      " 10  PTRATIO     506 non-null    float64\n",
      " 11  B           506 non-null    float64\n",
      " 12  poor_prep   506 non-null    float64\n",
      " 13  price       506 non-null    float64\n",
      "dtypes: float64(12), int64(2)\n",
      "memory usage: 55.5 KB\n"
     ]
    }
   ],
   "source": [
    "df.info()"
   ]
  },
  {
   "cell_type": "code",
   "execution_count": 25,
   "metadata": {},
   "outputs": [
    {
     "data": {
      "text/plain": [
       "<seaborn.axisgrid.JointGrid at 0x251099ac8c8>"
      ]
     },
     "execution_count": 25,
     "metadata": {},
     "output_type": "execute_result"
    },
    {
     "data": {
      "image/png": "[encoded data removed]",
      "text/plain": [
       "<Figure size 432x432 with 3 Axes>"
      ]
     },
     "metadata": {
      "needs_background": "light"
     },
     "output_type": "display_data"
    }
   ],
   "source": [
    "sns.jointplot(x='crime_rate', y='price', data=df)"
   ]
  },
  {
   "cell_type": "code",
   "execution_count": 26,
   "metadata": {},
   "outputs": [],
   "source": [
    "df1 = df.copy()"
   ]
  },
  {
   "cell_type": "code",
   "execution_count": 27,
   "metadata": {},
   "outputs": [],
   "source": [
    "df1['crime_rate'] = -np.log(1 + df['crime_rate'])"
   ]
  },
  {
   "cell_type": "code",
   "execution_count": 28,
   "metadata": {},
   "outputs": [],
   "source": [
    "df['crime_rate'] = np.log(1 + df['crime_rate'])"
   ]
  },
  {
   "cell_type": "code",
   "execution_count": 29,
   "metadata": {},
   "outputs": [
    {
     "data": {
      "text/plain": [
       "<seaborn.axisgrid.JointGrid at 0x25109c07688>"
      ]
     },
     "execution_count": 29,
     "metadata": {},
     "output_type": "execute_result"
    },
    {
     "data": {
      "image/png": "[encoded data removed]",
      "text/plain": [
       "<Figure size 432x432 with 3 Axes>"
      ]
     },
     "metadata": {
      "needs_background": "light"
     },
     "output_type": "display_data"
    }
   ],
   "source": [
    "sns.jointplot(x='crime_rate', y='price', data=df)"
   ]
  },
  {
   "cell_type": "code",
   "execution_count": 30,
   "metadata": {},
   "outputs": [],
   "source": [
    "df['avg_dist'] = (df['DIS'] + df['NOX']) / 2"
   ]
  },
  {
   "cell_type": "code",
   "execution_count": 31,
   "metadata": {},
   "outputs": [
    {
     "data": {
      "text/html": [
       "<div>\n",
       "<style scoped>\n",
       "    .dataframe tbody tr th:only-of-type {\n",
       "        vertical-align: middle;\n",
       "    }\n",
       "\n",
       "    .dataframe tbody tr th {\n",
       "        vertical-align: top;\n",
       "    }\n",
       "\n",
       "    .dataframe thead th {\n",
       "        text-align: right;\n",
       "    }\n",
       "</style>\n",
       "<table border=\"1\" class=\"dataframe\">\n",
       "  <thead>\n",
       "    <tr style=\"text-align: right;\">\n",
       "      <th></th>\n",
       "      <th>crime_rate</th>\n",
       "      <th>ZN</th>\n",
       "      <th>INDUS</th>\n",
       "      <th>CHAS</th>\n",
       "      <th>NOX</th>\n",
       "      <th>room_num</th>\n",
       "      <th>age</th>\n",
       "      <th>DIS</th>\n",
       "      <th>RAD</th>\n",
       "      <th>TAX</th>\n",
       "      <th>PTRATIO</th>\n",
       "      <th>B</th>\n",
       "      <th>poor_prep</th>\n",
       "      <th>price</th>\n",
       "      <th>avg_dist</th>\n",
       "    </tr>\n",
       "  </thead>\n",
       "  <tbody>\n",
       "    <tr>\n",
       "      <th>0</th>\n",
       "      <td>0.006300</td>\n",
       "      <td>18.0</td>\n",
       "      <td>2.31</td>\n",
       "      <td>0.0</td>\n",
       "      <td>0.538</td>\n",
       "      <td>6.575</td>\n",
       "      <td>65.2</td>\n",
       "      <td>4.0900</td>\n",
       "      <td>1</td>\n",
       "      <td>296</td>\n",
       "      <td>15.3</td>\n",
       "      <td>396.90</td>\n",
       "      <td>4.980000</td>\n",
       "      <td>24.0</td>\n",
       "      <td>2.31400</td>\n",
       "    </tr>\n",
       "    <tr>\n",
       "      <th>1</th>\n",
       "      <td>0.026944</td>\n",
       "      <td>0.0</td>\n",
       "      <td>7.07</td>\n",
       "      <td>0.0</td>\n",
       "      <td>0.469</td>\n",
       "      <td>6.421</td>\n",
       "      <td>78.9</td>\n",
       "      <td>4.9671</td>\n",
       "      <td>2</td>\n",
       "      <td>242</td>\n",
       "      <td>17.8</td>\n",
       "      <td>396.90</td>\n",
       "      <td>9.140000</td>\n",
       "      <td>21.6</td>\n",
       "      <td>2.71805</td>\n",
       "    </tr>\n",
       "    <tr>\n",
       "      <th>2</th>\n",
       "      <td>0.026924</td>\n",
       "      <td>0.0</td>\n",
       "      <td>7.07</td>\n",
       "      <td>0.0</td>\n",
       "      <td>0.469</td>\n",
       "      <td>7.185</td>\n",
       "      <td>61.1</td>\n",
       "      <td>4.9671</td>\n",
       "      <td>2</td>\n",
       "      <td>242</td>\n",
       "      <td>17.8</td>\n",
       "      <td>392.83</td>\n",
       "      <td>4.030000</td>\n",
       "      <td>34.7</td>\n",
       "      <td>2.71805</td>\n",
       "    </tr>\n",
       "    <tr>\n",
       "      <th>3</th>\n",
       "      <td>0.031857</td>\n",
       "      <td>0.0</td>\n",
       "      <td>2.18</td>\n",
       "      <td>0.0</td>\n",
       "      <td>0.458</td>\n",
       "      <td>6.998</td>\n",
       "      <td>45.8</td>\n",
       "      <td>6.0622</td>\n",
       "      <td>3</td>\n",
       "      <td>222</td>\n",
       "      <td>18.7</td>\n",
       "      <td>394.63</td>\n",
       "      <td>2.940000</td>\n",
       "      <td>33.4</td>\n",
       "      <td>3.26010</td>\n",
       "    </tr>\n",
       "    <tr>\n",
       "      <th>4</th>\n",
       "      <td>0.066770</td>\n",
       "      <td>0.0</td>\n",
       "      <td>2.18</td>\n",
       "      <td>0.0</td>\n",
       "      <td>0.458</td>\n",
       "      <td>7.147</td>\n",
       "      <td>54.2</td>\n",
       "      <td>6.0622</td>\n",
       "      <td>3</td>\n",
       "      <td>222</td>\n",
       "      <td>18.7</td>\n",
       "      <td>396.90</td>\n",
       "      <td>12.715432</td>\n",
       "      <td>36.2</td>\n",
       "      <td>3.26010</td>\n",
       "    </tr>\n",
       "  </tbody>\n",
       "</table>\n",
       "</div>"
      ],
      "text/plain": [
       "   crime_rate    ZN  INDUS  CHAS    NOX  room_num   age     DIS  RAD  TAX  \\\n",
       "0    0.006300  18.0   2.31   0.0  0.538     6.575  65.2  4.0900    1  296   \n",
       "1    0.026944   0.0   7.07   0.0  0.469     6.421  78.9  4.9671    2  242   \n",
       "2    0.026924   0.0   7.07   0.0  0.469     7.185  61.1  4.9671    2  242   \n",
       "3    0.031857   0.0   2.18   0.0  0.458     6.998  45.8  6.0622    3  222   \n",
       "4    0.066770   0.0   2.18   0.0  0.458     7.147  54.2  6.0622    3  222   \n",
       "\n",
       "   PTRATIO       B  poor_prep  price  avg_dist  \n",
       "0     15.3  396.90   4.980000   24.0   2.31400  \n",
       "1     17.8  396.90   9.140000   21.6   2.71805  \n",
       "2     17.8  392.83   4.030000   34.7   2.71805  \n",
       "3     18.7  394.63   2.940000   33.4   3.26010  \n",
       "4     18.7  396.90  12.715432   36.2   3.26010  "
      ]
     },
     "execution_count": 31,
     "metadata": {},
     "output_type": "execute_result"
    }
   ],
   "source": [
    "df.head()"
   ]
  },
  {
   "cell_type": "code",
   "execution_count": 32,
   "metadata": {},
   "outputs": [],
   "source": [
    "df.drop(['NOX', 'DIS'], axis=1, inplace=True)"
   ]
  },
  {
   "cell_type": "code",
   "execution_count": 33,
   "metadata": {},
   "outputs": [
    {
     "data": {
      "text/html": [
       "<div>\n",
       "<style scoped>\n",
       "    .dataframe tbody tr th:only-of-type {\n",
       "        vertical-align: middle;\n",
       "    }\n",
       "\n",
       "    .dataframe tbody tr th {\n",
       "        vertical-align: top;\n",
       "    }\n",
       "\n",
       "    .dataframe thead th {\n",
       "        text-align: right;\n",
       "    }\n",
       "</style>\n",
       "<table border=\"1\" class=\"dataframe\">\n",
       "  <thead>\n",
       "    <tr style=\"text-align: right;\">\n",
       "      <th></th>\n",
       "      <th>crime_rate</th>\n",
       "      <th>ZN</th>\n",
       "      <th>INDUS</th>\n",
       "      <th>CHAS</th>\n",
       "      <th>room_num</th>\n",
       "      <th>age</th>\n",
       "      <th>RAD</th>\n",
       "      <th>TAX</th>\n",
       "      <th>PTRATIO</th>\n",
       "      <th>B</th>\n",
       "      <th>poor_prep</th>\n",
       "      <th>price</th>\n",
       "      <th>avg_dist</th>\n",
       "    </tr>\n",
       "  </thead>\n",
       "  <tbody>\n",
       "    <tr>\n",
       "      <th>0</th>\n",
       "      <td>0.006300</td>\n",
       "      <td>18.0</td>\n",
       "      <td>2.31</td>\n",
       "      <td>0.0</td>\n",
       "      <td>6.575</td>\n",
       "      <td>65.2</td>\n",
       "      <td>1</td>\n",
       "      <td>296</td>\n",
       "      <td>15.3</td>\n",
       "      <td>396.90</td>\n",
       "      <td>4.980000</td>\n",
       "      <td>24.0</td>\n",
       "      <td>2.31400</td>\n",
       "    </tr>\n",
       "    <tr>\n",
       "      <th>1</th>\n",
       "      <td>0.026944</td>\n",
       "      <td>0.0</td>\n",
       "      <td>7.07</td>\n",
       "      <td>0.0</td>\n",
       "      <td>6.421</td>\n",
       "      <td>78.9</td>\n",
       "      <td>2</td>\n",
       "      <td>242</td>\n",
       "      <td>17.8</td>\n",
       "      <td>396.90</td>\n",
       "      <td>9.140000</td>\n",
       "      <td>21.6</td>\n",
       "      <td>2.71805</td>\n",
       "    </tr>\n",
       "    <tr>\n",
       "      <th>2</th>\n",
       "      <td>0.026924</td>\n",
       "      <td>0.0</td>\n",
       "      <td>7.07</td>\n",
       "      <td>0.0</td>\n",
       "      <td>7.185</td>\n",
       "      <td>61.1</td>\n",
       "      <td>2</td>\n",
       "      <td>242</td>\n",
       "      <td>17.8</td>\n",
       "      <td>392.83</td>\n",
       "      <td>4.030000</td>\n",
       "      <td>34.7</td>\n",
       "      <td>2.71805</td>\n",
       "    </tr>\n",
       "    <tr>\n",
       "      <th>3</th>\n",
       "      <td>0.031857</td>\n",
       "      <td>0.0</td>\n",
       "      <td>2.18</td>\n",
       "      <td>0.0</td>\n",
       "      <td>6.998</td>\n",
       "      <td>45.8</td>\n",
       "      <td>3</td>\n",
       "      <td>222</td>\n",
       "      <td>18.7</td>\n",
       "      <td>394.63</td>\n",
       "      <td>2.940000</td>\n",
       "      <td>33.4</td>\n",
       "      <td>3.26010</td>\n",
       "    </tr>\n",
       "    <tr>\n",
       "      <th>4</th>\n",
       "      <td>0.066770</td>\n",
       "      <td>0.0</td>\n",
       "      <td>2.18</td>\n",
       "      <td>0.0</td>\n",
       "      <td>7.147</td>\n",
       "      <td>54.2</td>\n",
       "      <td>3</td>\n",
       "      <td>222</td>\n",
       "      <td>18.7</td>\n",
       "      <td>396.90</td>\n",
       "      <td>12.715432</td>\n",
       "      <td>36.2</td>\n",
       "      <td>3.26010</td>\n",
       "    </tr>\n",
       "  </tbody>\n",
       "</table>\n",
       "</div>"
      ],
      "text/plain": [
       "   crime_rate    ZN  INDUS  CHAS  room_num   age  RAD  TAX  PTRATIO       B  \\\n",
       "0    0.006300  18.0   2.31   0.0     6.575  65.2    1  296     15.3  396.90   \n",
       "1    0.026944   0.0   7.07   0.0     6.421  78.9    2  242     17.8  396.90   \n",
       "2    0.026924   0.0   7.07   0.0     7.185  61.1    2  242     17.8  392.83   \n",
       "3    0.031857   0.0   2.18   0.0     6.998  45.8    3  222     18.7  394.63   \n",
       "4    0.066770   0.0   2.18   0.0     7.147  54.2    3  222     18.7  396.90   \n",
       "\n",
       "   poor_prep  price  avg_dist  \n",
       "0   4.980000   24.0   2.31400  \n",
       "1   9.140000   21.6   2.71805  \n",
       "2   4.030000   34.7   2.71805  \n",
       "3   2.940000   33.4   3.26010  \n",
       "4  12.715432   36.2   3.26010  "
      ]
     },
     "execution_count": 33,
     "metadata": {},
     "output_type": "execute_result"
    }
   ],
   "source": [
    "df.head()"
   ]
  },
  {
   "cell_type": "code",
   "execution_count": 34,
   "metadata": {},
   "outputs": [
    {
     "data": {
      "text/plain": [
       "array([ 1,  2,  3,  5,  4,  8,  6,  7, 24], dtype=int64)"
      ]
     },
     "execution_count": 34,
     "metadata": {},
     "output_type": "execute_result"
    }
   ],
   "source": [
    "df['RAD'].unique()"
   ]
  },
  {
   "cell_type": "code",
   "execution_count": 35,
   "metadata": {},
   "outputs": [
    {
     "data": {
      "text/plain": [
       "<AxesSubplot:xlabel='RAD', ylabel='count'>"
      ]
     },
     "execution_count": 35,
     "metadata": {},
     "output_type": "execute_result"
    },
    {
     "data": {
      "image/png": "[encoded data removed]",
      "text/plain": [
       "<Figure size 432x288 with 1 Axes>"
      ]
     },
     "metadata": {
      "needs_background": "light"
     },
     "output_type": "display_data"
    }
   ],
   "source": [
    "sns.countplot(x='RAD', data=df)"
   ]
  },
  {
   "cell_type": "code",
   "execution_count": 36,
   "metadata": {},
   "outputs": [
    {
     "data": {
      "text/plain": [
       "<AxesSubplot:xlabel='RAD', ylabel='price'>"
      ]
     },
     "execution_count": 36,
     "metadata": {},
     "output_type": "execute_result"
    },
    {
     "data": {
      "image/png": "[encoded data removed]",
      "text/plain": [
       "<Figure size 432x288 with 1 Axes>"
      ]
     },
     "metadata": {
      "needs_background": "light"
     },
     "output_type": "display_data"
    }
   ],
   "source": [
    "sns.barplot(x='RAD', y='price', data=df)"
   ]
  },
  {
   "cell_type": "code",
   "execution_count": 37,
   "metadata": {},
   "outputs": [],
   "source": [
    "wb = {1: 'lake', 2: 'lake', 3: 'river', 4: 'river', 5: 'lake', 6: 'river', 7: 'pond', 8: 'pond', 24: 'None'}"
   ]
  },
  {
   "cell_type": "code",
   "execution_count": 38,
   "metadata": {},
   "outputs": [],
   "source": [
    "df['RAD'] = df['RAD'].map(wb)"
   ]
  },
  {
   "cell_type": "code",
   "execution_count": 39,
   "metadata": {},
   "outputs": [
    {
     "data": {
      "text/html": [
       "<div>\n",
       "<style scoped>\n",
       "    .dataframe tbody tr th:only-of-type {\n",
       "        vertical-align: middle;\n",
       "    }\n",
       "\n",
       "    .dataframe tbody tr th {\n",
       "        vertical-align: top;\n",
       "    }\n",
       "\n",
       "    .dataframe thead th {\n",
       "        text-align: right;\n",
       "    }\n",
       "</style>\n",
       "<table border=\"1\" class=\"dataframe\">\n",
       "  <thead>\n",
       "    <tr style=\"text-align: right;\">\n",
       "      <th></th>\n",
       "      <th>crime_rate</th>\n",
       "      <th>ZN</th>\n",
       "      <th>INDUS</th>\n",
       "      <th>CHAS</th>\n",
       "      <th>room_num</th>\n",
       "      <th>age</th>\n",
       "      <th>RAD</th>\n",
       "      <th>TAX</th>\n",
       "      <th>PTRATIO</th>\n",
       "      <th>B</th>\n",
       "      <th>poor_prep</th>\n",
       "      <th>price</th>\n",
       "      <th>avg_dist</th>\n",
       "    </tr>\n",
       "  </thead>\n",
       "  <tbody>\n",
       "    <tr>\n",
       "      <th>0</th>\n",
       "      <td>0.006300</td>\n",
       "      <td>18.0</td>\n",
       "      <td>2.31</td>\n",
       "      <td>0.0</td>\n",
       "      <td>6.575</td>\n",
       "      <td>65.2</td>\n",
       "      <td>lake</td>\n",
       "      <td>296</td>\n",
       "      <td>15.3</td>\n",
       "      <td>396.90</td>\n",
       "      <td>4.980000</td>\n",
       "      <td>24.0</td>\n",
       "      <td>2.31400</td>\n",
       "    </tr>\n",
       "    <tr>\n",
       "      <th>1</th>\n",
       "      <td>0.026944</td>\n",
       "      <td>0.0</td>\n",
       "      <td>7.07</td>\n",
       "      <td>0.0</td>\n",
       "      <td>6.421</td>\n",
       "      <td>78.9</td>\n",
       "      <td>lake</td>\n",
       "      <td>242</td>\n",
       "      <td>17.8</td>\n",
       "      <td>396.90</td>\n",
       "      <td>9.140000</td>\n",
       "      <td>21.6</td>\n",
       "      <td>2.71805</td>\n",
       "    </tr>\n",
       "    <tr>\n",
       "      <th>2</th>\n",
       "      <td>0.026924</td>\n",
       "      <td>0.0</td>\n",
       "      <td>7.07</td>\n",
       "      <td>0.0</td>\n",
       "      <td>7.185</td>\n",
       "      <td>61.1</td>\n",
       "      <td>lake</td>\n",
       "      <td>242</td>\n",
       "      <td>17.8</td>\n",
       "      <td>392.83</td>\n",
       "      <td>4.030000</td>\n",
       "      <td>34.7</td>\n",
       "      <td>2.71805</td>\n",
       "    </tr>\n",
       "    <tr>\n",
       "      <th>3</th>\n",
       "      <td>0.031857</td>\n",
       "      <td>0.0</td>\n",
       "      <td>2.18</td>\n",
       "      <td>0.0</td>\n",
       "      <td>6.998</td>\n",
       "      <td>45.8</td>\n",
       "      <td>river</td>\n",
       "      <td>222</td>\n",
       "      <td>18.7</td>\n",
       "      <td>394.63</td>\n",
       "      <td>2.940000</td>\n",
       "      <td>33.4</td>\n",
       "      <td>3.26010</td>\n",
       "    </tr>\n",
       "    <tr>\n",
       "      <th>4</th>\n",
       "      <td>0.066770</td>\n",
       "      <td>0.0</td>\n",
       "      <td>2.18</td>\n",
       "      <td>0.0</td>\n",
       "      <td>7.147</td>\n",
       "      <td>54.2</td>\n",
       "      <td>river</td>\n",
       "      <td>222</td>\n",
       "      <td>18.7</td>\n",
       "      <td>396.90</td>\n",
       "      <td>12.715432</td>\n",
       "      <td>36.2</td>\n",
       "      <td>3.26010</td>\n",
       "    </tr>\n",
       "  </tbody>\n",
       "</table>\n",
       "</div>"
      ],
      "text/plain": [
       "   crime_rate    ZN  INDUS  CHAS  room_num   age    RAD  TAX  PTRATIO       B  \\\n",
       "0    0.006300  18.0   2.31   0.0     6.575  65.2   lake  296     15.3  396.90   \n",
       "1    0.026944   0.0   7.07   0.0     6.421  78.9   lake  242     17.8  396.90   \n",
       "2    0.026924   0.0   7.07   0.0     7.185  61.1   lake  242     17.8  392.83   \n",
       "3    0.031857   0.0   2.18   0.0     6.998  45.8  river  222     18.7  394.63   \n",
       "4    0.066770   0.0   2.18   0.0     7.147  54.2  river  222     18.7  396.90   \n",
       "\n",
       "   poor_prep  price  avg_dist  \n",
       "0   4.980000   24.0   2.31400  \n",
       "1   9.140000   21.6   2.71805  \n",
       "2   4.030000   34.7   2.71805  \n",
       "3   2.940000   33.4   3.26010  \n",
       "4  12.715432   36.2   3.26010  "
      ]
     },
     "execution_count": 39,
     "metadata": {},
     "output_type": "execute_result"
    }
   ],
   "source": [
    "df.head()"
   ]
  },
  {
   "cell_type": "code",
   "execution_count": 40,
   "metadata": {},
   "outputs": [
    {
     "data": {
      "text/plain": [
       "array(['lake', 'river', 'pond', 'None'], dtype=object)"
      ]
     },
     "execution_count": 40,
     "metadata": {},
     "output_type": "execute_result"
    }
   ],
   "source": [
    "df['RAD'].unique()"
   ]
  },
  {
   "cell_type": "code",
   "execution_count": 42,
   "metadata": {},
   "outputs": [],
   "source": [
    "df.to_csv(\"boston_data.csv\", index=False)"
   ]
  },
  {
   "cell_type": "code",
   "execution_count": 86,
   "metadata": {},
   "outputs": [
    {
     "data": {
      "text/plain": [
       "<AxesSubplot:xlabel='RAD', ylabel='count'>"
      ]
     },
     "execution_count": 86,
     "metadata": {},
     "output_type": "execute_result"
    },
    {
     "data": {
      "image/png": "[encoded data removed]",
      "text/plain": [
       "<Figure size 432x288 with 1 Axes>"
      ]
     },
     "metadata": {
      "needs_background": "light"
     },
     "output_type": "display_data"
    }
   ],
   "source": [
    "sns.countplot(x='RAD', data=df)"
   ]
  },
  {
   "cell_type": "code",
   "execution_count": 87,
   "metadata": {},
   "outputs": [],
   "source": [
    "df = pd.get_dummies(df)"
   ]
  },
  {
   "cell_type": "code",
   "execution_count": 88,
   "metadata": {},
   "outputs": [
    {
     "data": {
      "text/html": [
       "<div>\n",
       "<style scoped>\n",
       "    .dataframe tbody tr th:only-of-type {\n",
       "        vertical-align: middle;\n",
       "    }\n",
       "\n",
       "    .dataframe tbody tr th {\n",
       "        vertical-align: top;\n",
       "    }\n",
       "\n",
       "    .dataframe thead th {\n",
       "        text-align: right;\n",
       "    }\n",
       "</style>\n",
       "<table border=\"1\" class=\"dataframe\">\n",
       "  <thead>\n",
       "    <tr style=\"text-align: right;\">\n",
       "      <th></th>\n",
       "      <th>crime_rate</th>\n",
       "      <th>ZN</th>\n",
       "      <th>INDUS</th>\n",
       "      <th>CHAS</th>\n",
       "      <th>room_num</th>\n",
       "      <th>age</th>\n",
       "      <th>TAX</th>\n",
       "      <th>PTRATIO</th>\n",
       "      <th>B</th>\n",
       "      <th>poor_prep</th>\n",
       "      <th>price</th>\n",
       "      <th>avg_dist</th>\n",
       "      <th>RAD_None</th>\n",
       "      <th>RAD_lake</th>\n",
       "      <th>RAD_pond</th>\n",
       "      <th>RAD_river</th>\n",
       "    </tr>\n",
       "  </thead>\n",
       "  <tbody>\n",
       "    <tr>\n",
       "      <th>0</th>\n",
       "      <td>0.006300</td>\n",
       "      <td>18.0</td>\n",
       "      <td>2.31</td>\n",
       "      <td>0.0</td>\n",
       "      <td>6.575</td>\n",
       "      <td>65.2</td>\n",
       "      <td>296</td>\n",
       "      <td>15.3</td>\n",
       "      <td>396.90</td>\n",
       "      <td>4.980000</td>\n",
       "      <td>24.0</td>\n",
       "      <td>2.31400</td>\n",
       "      <td>0</td>\n",
       "      <td>1</td>\n",
       "      <td>0</td>\n",
       "      <td>0</td>\n",
       "    </tr>\n",
       "    <tr>\n",
       "      <th>1</th>\n",
       "      <td>0.026944</td>\n",
       "      <td>0.0</td>\n",
       "      <td>7.07</td>\n",
       "      <td>0.0</td>\n",
       "      <td>6.421</td>\n",
       "      <td>78.9</td>\n",
       "      <td>242</td>\n",
       "      <td>17.8</td>\n",
       "      <td>396.90</td>\n",
       "      <td>9.140000</td>\n",
       "      <td>21.6</td>\n",
       "      <td>2.71805</td>\n",
       "      <td>0</td>\n",
       "      <td>1</td>\n",
       "      <td>0</td>\n",
       "      <td>0</td>\n",
       "    </tr>\n",
       "    <tr>\n",
       "      <th>2</th>\n",
       "      <td>0.026924</td>\n",
       "      <td>0.0</td>\n",
       "      <td>7.07</td>\n",
       "      <td>0.0</td>\n",
       "      <td>7.185</td>\n",
       "      <td>61.1</td>\n",
       "      <td>242</td>\n",
       "      <td>17.8</td>\n",
       "      <td>392.83</td>\n",
       "      <td>4.030000</td>\n",
       "      <td>34.7</td>\n",
       "      <td>2.71805</td>\n",
       "      <td>0</td>\n",
       "      <td>1</td>\n",
       "      <td>0</td>\n",
       "      <td>0</td>\n",
       "    </tr>\n",
       "    <tr>\n",
       "      <th>3</th>\n",
       "      <td>0.031857</td>\n",
       "      <td>0.0</td>\n",
       "      <td>2.18</td>\n",
       "      <td>0.0</td>\n",
       "      <td>6.998</td>\n",
       "      <td>45.8</td>\n",
       "      <td>222</td>\n",
       "      <td>18.7</td>\n",
       "      <td>394.63</td>\n",
       "      <td>2.940000</td>\n",
       "      <td>33.4</td>\n",
       "      <td>3.26010</td>\n",
       "      <td>0</td>\n",
       "      <td>0</td>\n",
       "      <td>0</td>\n",
       "      <td>1</td>\n",
       "    </tr>\n",
       "    <tr>\n",
       "      <th>4</th>\n",
       "      <td>0.066770</td>\n",
       "      <td>0.0</td>\n",
       "      <td>2.18</td>\n",
       "      <td>0.0</td>\n",
       "      <td>7.147</td>\n",
       "      <td>54.2</td>\n",
       "      <td>222</td>\n",
       "      <td>18.7</td>\n",
       "      <td>396.90</td>\n",
       "      <td>12.715432</td>\n",
       "      <td>36.2</td>\n",
       "      <td>3.26010</td>\n",
       "      <td>0</td>\n",
       "      <td>0</td>\n",
       "      <td>0</td>\n",
       "      <td>1</td>\n",
       "    </tr>\n",
       "  </tbody>\n",
       "</table>\n",
       "</div>"
      ],
      "text/plain": [
       "   crime_rate    ZN  INDUS  CHAS  room_num   age  TAX  PTRATIO       B  \\\n",
       "0    0.006300  18.0   2.31   0.0     6.575  65.2  296     15.3  396.90   \n",
       "1    0.026944   0.0   7.07   0.0     6.421  78.9  242     17.8  396.90   \n",
       "2    0.026924   0.0   7.07   0.0     7.185  61.1  242     17.8  392.83   \n",
       "3    0.031857   0.0   2.18   0.0     6.998  45.8  222     18.7  394.63   \n",
       "4    0.066770   0.0   2.18   0.0     7.147  54.2  222     18.7  396.90   \n",
       "\n",
       "   poor_prep  price  avg_dist  RAD_None  RAD_lake  RAD_pond  RAD_river  \n",
       "0   4.980000   24.0   2.31400         0         1         0          0  \n",
       "1   9.140000   21.6   2.71805         0         1         0          0  \n",
       "2   4.030000   34.7   2.71805         0         1         0          0  \n",
       "3   2.940000   33.4   3.26010         0         0         0          1  \n",
       "4  12.715432   36.2   3.26010         0         0         0          1  "
      ]
     },
     "execution_count": 88,
     "metadata": {},
     "output_type": "execute_result"
    }
   ],
   "source": [
    "df.head()"
   ]
  },
  {
   "cell_type": "code",
   "execution_count": 89,
   "metadata": {},
   "outputs": [],
   "source": [
    "df.drop('RAD_None', 1, inplace=True)"
   ]
  },
  {
   "cell_type": "code",
   "execution_count": 90,
   "metadata": {},
   "outputs": [
    {
     "data": {
      "text/html": [
       "<div>\n",
       "<style scoped>\n",
       "    .dataframe tbody tr th:only-of-type {\n",
       "        vertical-align: middle;\n",
       "    }\n",
       "\n",
       "    .dataframe tbody tr th {\n",
       "        vertical-align: top;\n",
       "    }\n",
       "\n",
       "    .dataframe thead th {\n",
       "        text-align: right;\n",
       "    }\n",
       "</style>\n",
       "<table border=\"1\" class=\"dataframe\">\n",
       "  <thead>\n",
       "    <tr style=\"text-align: right;\">\n",
       "      <th></th>\n",
       "      <th>crime_rate</th>\n",
       "      <th>ZN</th>\n",
       "      <th>INDUS</th>\n",
       "      <th>CHAS</th>\n",
       "      <th>room_num</th>\n",
       "      <th>age</th>\n",
       "      <th>TAX</th>\n",
       "      <th>PTRATIO</th>\n",
       "      <th>B</th>\n",
       "      <th>poor_prep</th>\n",
       "      <th>price</th>\n",
       "      <th>avg_dist</th>\n",
       "      <th>RAD_lake</th>\n",
       "      <th>RAD_pond</th>\n",
       "      <th>RAD_river</th>\n",
       "    </tr>\n",
       "  </thead>\n",
       "  <tbody>\n",
       "    <tr>\n",
       "      <th>0</th>\n",
       "      <td>0.006300</td>\n",
       "      <td>18.0</td>\n",
       "      <td>2.31</td>\n",
       "      <td>0.0</td>\n",
       "      <td>6.575</td>\n",
       "      <td>65.2</td>\n",
       "      <td>296</td>\n",
       "      <td>15.3</td>\n",
       "      <td>396.90</td>\n",
       "      <td>4.980000</td>\n",
       "      <td>24.0</td>\n",
       "      <td>2.31400</td>\n",
       "      <td>1</td>\n",
       "      <td>0</td>\n",
       "      <td>0</td>\n",
       "    </tr>\n",
       "    <tr>\n",
       "      <th>1</th>\n",
       "      <td>0.026944</td>\n",
       "      <td>0.0</td>\n",
       "      <td>7.07</td>\n",
       "      <td>0.0</td>\n",
       "      <td>6.421</td>\n",
       "      <td>78.9</td>\n",
       "      <td>242</td>\n",
       "      <td>17.8</td>\n",
       "      <td>396.90</td>\n",
       "      <td>9.140000</td>\n",
       "      <td>21.6</td>\n",
       "      <td>2.71805</td>\n",
       "      <td>1</td>\n",
       "      <td>0</td>\n",
       "      <td>0</td>\n",
       "    </tr>\n",
       "    <tr>\n",
       "      <th>2</th>\n",
       "      <td>0.026924</td>\n",
       "      <td>0.0</td>\n",
       "      <td>7.07</td>\n",
       "      <td>0.0</td>\n",
       "      <td>7.185</td>\n",
       "      <td>61.1</td>\n",
       "      <td>242</td>\n",
       "      <td>17.8</td>\n",
       "      <td>392.83</td>\n",
       "      <td>4.030000</td>\n",
       "      <td>34.7</td>\n",
       "      <td>2.71805</td>\n",
       "      <td>1</td>\n",
       "      <td>0</td>\n",
       "      <td>0</td>\n",
       "    </tr>\n",
       "    <tr>\n",
       "      <th>3</th>\n",
       "      <td>0.031857</td>\n",
       "      <td>0.0</td>\n",
       "      <td>2.18</td>\n",
       "      <td>0.0</td>\n",
       "      <td>6.998</td>\n",
       "      <td>45.8</td>\n",
       "      <td>222</td>\n",
       "      <td>18.7</td>\n",
       "      <td>394.63</td>\n",
       "      <td>2.940000</td>\n",
       "      <td>33.4</td>\n",
       "      <td>3.26010</td>\n",
       "      <td>0</td>\n",
       "      <td>0</td>\n",
       "      <td>1</td>\n",
       "    </tr>\n",
       "    <tr>\n",
       "      <th>4</th>\n",
       "      <td>0.066770</td>\n",
       "      <td>0.0</td>\n",
       "      <td>2.18</td>\n",
       "      <td>0.0</td>\n",
       "      <td>7.147</td>\n",
       "      <td>54.2</td>\n",
       "      <td>222</td>\n",
       "      <td>18.7</td>\n",
       "      <td>396.90</td>\n",
       "      <td>12.715432</td>\n",
       "      <td>36.2</td>\n",
       "      <td>3.26010</td>\n",
       "      <td>0</td>\n",
       "      <td>0</td>\n",
       "      <td>1</td>\n",
       "    </tr>\n",
       "  </tbody>\n",
       "</table>\n",
       "</div>"
      ],
      "text/plain": [
       "   crime_rate    ZN  INDUS  CHAS  room_num   age  TAX  PTRATIO       B  \\\n",
       "0    0.006300  18.0   2.31   0.0     6.575  65.2  296     15.3  396.90   \n",
       "1    0.026944   0.0   7.07   0.0     6.421  78.9  242     17.8  396.90   \n",
       "2    0.026924   0.0   7.07   0.0     7.185  61.1  242     17.8  392.83   \n",
       "3    0.031857   0.0   2.18   0.0     6.998  45.8  222     18.7  394.63   \n",
       "4    0.066770   0.0   2.18   0.0     7.147  54.2  222     18.7  396.90   \n",
       "\n",
       "   poor_prep  price  avg_dist  RAD_lake  RAD_pond  RAD_river  \n",
       "0   4.980000   24.0   2.31400         1         0          0  \n",
       "1   9.140000   21.6   2.71805         1         0          0  \n",
       "2   4.030000   34.7   2.71805         1         0          0  \n",
       "3   2.940000   33.4   3.26010         0         0          1  \n",
       "4  12.715432   36.2   3.26010         0         0          1  "
      ]
     },
     "execution_count": 90,
     "metadata": {},
     "output_type": "execute_result"
    }
   ],
   "source": [
    "df.head()"
   ]
  },
  {
   "cell_type": "code",
   "execution_count": 91,
   "metadata": {},
   "outputs": [],
   "source": [
    "df.to_csv(\"Boston_data.csv\")"
   ]
  },
  {
   "cell_type": "code",
   "execution_count": 92,
   "metadata": {},
   "outputs": [
    {
     "data": {
      "text/html": [
       "<div>\n",
       "<style scoped>\n",
       "    .dataframe tbody tr th:only-of-type {\n",
       "        vertical-align: middle;\n",
       "    }\n",
       "\n",
       "    .dataframe tbody tr th {\n",
       "        vertical-align: top;\n",
       "    }\n",
       "\n",
       "    .dataframe thead th {\n",
       "        text-align: right;\n",
       "    }\n",
       "</style>\n",
       "<table border=\"1\" class=\"dataframe\">\n",
       "  <thead>\n",
       "    <tr style=\"text-align: right;\">\n",
       "      <th></th>\n",
       "      <th>crime_rate</th>\n",
       "      <th>ZN</th>\n",
       "      <th>INDUS</th>\n",
       "      <th>CHAS</th>\n",
       "      <th>room_num</th>\n",
       "      <th>age</th>\n",
       "      <th>TAX</th>\n",
       "      <th>PTRATIO</th>\n",
       "      <th>B</th>\n",
       "      <th>poor_prep</th>\n",
       "      <th>price</th>\n",
       "      <th>avg_dist</th>\n",
       "      <th>RAD_lake</th>\n",
       "      <th>RAD_pond</th>\n",
       "      <th>RAD_river</th>\n",
       "    </tr>\n",
       "  </thead>\n",
       "  <tbody>\n",
       "    <tr>\n",
       "      <th>crime_rate</th>\n",
       "      <td>1.000000</td>\n",
       "      <td>-0.318387</td>\n",
       "      <td>0.621355</td>\n",
       "      <td>-0.012725</td>\n",
       "      <td>-0.275419</td>\n",
       "      <td>0.532570</td>\n",
       "      <td>0.837072</td>\n",
       "      <td>0.350255</td>\n",
       "      <td>-0.488976</td>\n",
       "      <td>0.566069</td>\n",
       "      <td>-0.443338</td>\n",
       "      <td>-0.546099</td>\n",
       "      <td>-0.328877</td>\n",
       "      <td>-0.149185</td>\n",
       "      <td>-0.408568</td>\n",
       "    </tr>\n",
       "    <tr>\n",
       "      <th>ZN</th>\n",
       "      <td>-0.318387</td>\n",
       "      <td>1.000000</td>\n",
       "      <td>-0.513336</td>\n",
       "      <td>-0.036147</td>\n",
       "      <td>0.316550</td>\n",
       "      <td>-0.541274</td>\n",
       "      <td>-0.308334</td>\n",
       "      <td>-0.403085</td>\n",
       "      <td>0.167441</td>\n",
       "      <td>-0.407549</td>\n",
       "      <td>0.365943</td>\n",
       "      <td>0.637314</td>\n",
       "      <td>0.140385</td>\n",
       "      <td>0.031228</td>\n",
       "      <td>0.107662</td>\n",
       "    </tr>\n",
       "    <tr>\n",
       "      <th>INDUS</th>\n",
       "      <td>0.621355</td>\n",
       "      <td>-0.513336</td>\n",
       "      <td>1.000000</td>\n",
       "      <td>0.058035</td>\n",
       "      <td>-0.381457</td>\n",
       "      <td>0.614592</td>\n",
       "      <td>0.716062</td>\n",
       "      <td>0.384806</td>\n",
       "      <td>-0.354616</td>\n",
       "      <td>0.567354</td>\n",
       "      <td>-0.478657</td>\n",
       "      <td>-0.687523</td>\n",
       "      <td>-0.200624</td>\n",
       "      <td>-0.229791</td>\n",
       "      <td>-0.225858</td>\n",
       "    </tr>\n",
       "    <tr>\n",
       "      <th>CHAS</th>\n",
       "      <td>-0.012725</td>\n",
       "      <td>-0.036147</td>\n",
       "      <td>0.058035</td>\n",
       "      <td>1.000000</td>\n",
       "      <td>0.102284</td>\n",
       "      <td>0.075206</td>\n",
       "      <td>-0.031483</td>\n",
       "      <td>-0.109310</td>\n",
       "      <td>0.050064</td>\n",
       "      <td>-0.046166</td>\n",
       "      <td>0.179882</td>\n",
       "      <td>-0.091460</td>\n",
       "      <td>0.002663</td>\n",
       "      <td>0.063784</td>\n",
       "      <td>-0.029177</td>\n",
       "    </tr>\n",
       "    <tr>\n",
       "      <th>room_num</th>\n",
       "      <td>-0.275419</td>\n",
       "      <td>0.316550</td>\n",
       "      <td>-0.381457</td>\n",
       "      <td>0.102284</td>\n",
       "      <td>1.000000</td>\n",
       "      <td>-0.241351</td>\n",
       "      <td>-0.292048</td>\n",
       "      <td>-0.355501</td>\n",
       "      <td>0.128129</td>\n",
       "      <td>-0.602962</td>\n",
       "      <td>0.695360</td>\n",
       "      <td>0.196821</td>\n",
       "      <td>0.161773</td>\n",
       "      <td>0.228655</td>\n",
       "      <td>-0.084083</td>\n",
       "    </tr>\n",
       "    <tr>\n",
       "      <th>age</th>\n",
       "      <td>0.532570</td>\n",
       "      <td>-0.541274</td>\n",
       "      <td>0.614592</td>\n",
       "      <td>0.075206</td>\n",
       "      <td>-0.241351</td>\n",
       "      <td>1.000000</td>\n",
       "      <td>0.500589</td>\n",
       "      <td>0.262723</td>\n",
       "      <td>-0.265294</td>\n",
       "      <td>0.574893</td>\n",
       "      <td>-0.380223</td>\n",
       "      <td>-0.715007</td>\n",
       "      <td>-0.066990</td>\n",
       "      <td>-0.135361</td>\n",
       "      <td>-0.267335</td>\n",
       "    </tr>\n",
       "    <tr>\n",
       "      <th>TAX</th>\n",
       "      <td>0.837072</td>\n",
       "      <td>-0.308334</td>\n",
       "      <td>0.716062</td>\n",
       "      <td>-0.031483</td>\n",
       "      <td>-0.292048</td>\n",
       "      <td>0.500589</td>\n",
       "      <td>1.000000</td>\n",
       "      <td>0.460853</td>\n",
       "      <td>-0.441819</td>\n",
       "      <td>0.524545</td>\n",
       "      <td>-0.468536</td>\n",
       "      <td>-0.519318</td>\n",
       "      <td>-0.370753</td>\n",
       "      <td>-0.186370</td>\n",
       "      <td>-0.371388</td>\n",
       "    </tr>\n",
       "    <tr>\n",
       "      <th>PTRATIO</th>\n",
       "      <td>0.350255</td>\n",
       "      <td>-0.403085</td>\n",
       "      <td>0.384806</td>\n",
       "      <td>-0.109310</td>\n",
       "      <td>-0.355501</td>\n",
       "      <td>0.262723</td>\n",
       "      <td>0.460853</td>\n",
       "      <td>1.000000</td>\n",
       "      <td>-0.177377</td>\n",
       "      <td>0.373343</td>\n",
       "      <td>-0.507787</td>\n",
       "      <td>-0.231733</td>\n",
       "      <td>-0.522086</td>\n",
       "      <td>-0.041445</td>\n",
       "      <td>0.091063</td>\n",
       "    </tr>\n",
       "    <tr>\n",
       "      <th>B</th>\n",
       "      <td>-0.488976</td>\n",
       "      <td>0.167441</td>\n",
       "      <td>-0.354616</td>\n",
       "      <td>0.050064</td>\n",
       "      <td>0.128129</td>\n",
       "      <td>-0.265294</td>\n",
       "      <td>-0.441819</td>\n",
       "      <td>-0.177377</td>\n",
       "      <td>1.000000</td>\n",
       "      <td>-0.368929</td>\n",
       "      <td>0.333479</td>\n",
       "      <td>0.282392</td>\n",
       "      <td>0.130941</td>\n",
       "      <td>0.097390</td>\n",
       "      <td>0.229081</td>\n",
       "    </tr>\n",
       "    <tr>\n",
       "      <th>poor_prep</th>\n",
       "      <td>0.566069</td>\n",
       "      <td>-0.407549</td>\n",
       "      <td>0.567354</td>\n",
       "      <td>-0.046166</td>\n",
       "      <td>-0.602962</td>\n",
       "      <td>0.574893</td>\n",
       "      <td>0.524545</td>\n",
       "      <td>0.373343</td>\n",
       "      <td>-0.368929</td>\n",
       "      <td>1.000000</td>\n",
       "      <td>-0.721975</td>\n",
       "      <td>-0.471590</td>\n",
       "      <td>-0.233914</td>\n",
       "      <td>-0.182038</td>\n",
       "      <td>-0.106243</td>\n",
       "    </tr>\n",
       "    <tr>\n",
       "      <th>price</th>\n",
       "      <td>-0.443338</td>\n",
       "      <td>0.365943</td>\n",
       "      <td>-0.478657</td>\n",
       "      <td>0.179882</td>\n",
       "      <td>0.695360</td>\n",
       "      <td>-0.380223</td>\n",
       "      <td>-0.468536</td>\n",
       "      <td>-0.507787</td>\n",
       "      <td>0.333479</td>\n",
       "      <td>-0.721975</td>\n",
       "      <td>1.000000</td>\n",
       "      <td>0.236262</td>\n",
       "      <td>0.233941</td>\n",
       "      <td>0.209322</td>\n",
       "      <td>0.017475</td>\n",
       "    </tr>\n",
       "    <tr>\n",
       "      <th>avg_dist</th>\n",
       "      <td>-0.546099</td>\n",
       "      <td>0.637314</td>\n",
       "      <td>-0.687523</td>\n",
       "      <td>-0.091460</td>\n",
       "      <td>0.196821</td>\n",
       "      <td>-0.715007</td>\n",
       "      <td>-0.519318</td>\n",
       "      <td>-0.231733</td>\n",
       "      <td>0.282392</td>\n",
       "      <td>-0.471590</td>\n",
       "      <td>0.236262</td>\n",
       "      <td>1.000000</td>\n",
       "      <td>0.082397</td>\n",
       "      <td>0.205717</td>\n",
       "      <td>0.241559</td>\n",
       "    </tr>\n",
       "    <tr>\n",
       "      <th>RAD_lake</th>\n",
       "      <td>-0.328877</td>\n",
       "      <td>0.140385</td>\n",
       "      <td>-0.200624</td>\n",
       "      <td>0.002663</td>\n",
       "      <td>0.161773</td>\n",
       "      <td>-0.066990</td>\n",
       "      <td>-0.370753</td>\n",
       "      <td>-0.522086</td>\n",
       "      <td>0.130941</td>\n",
       "      <td>-0.233914</td>\n",
       "      <td>0.233941</td>\n",
       "      <td>0.082397</td>\n",
       "      <td>1.000000</td>\n",
       "      <td>-0.201001</td>\n",
       "      <td>-0.490049</td>\n",
       "    </tr>\n",
       "    <tr>\n",
       "      <th>RAD_pond</th>\n",
       "      <td>-0.149185</td>\n",
       "      <td>0.031228</td>\n",
       "      <td>-0.229791</td>\n",
       "      <td>0.063784</td>\n",
       "      <td>0.228655</td>\n",
       "      <td>-0.135361</td>\n",
       "      <td>-0.186370</td>\n",
       "      <td>-0.041445</td>\n",
       "      <td>0.097390</td>\n",
       "      <td>-0.182038</td>\n",
       "      <td>0.209322</td>\n",
       "      <td>0.205717</td>\n",
       "      <td>-0.201001</td>\n",
       "      <td>1.000000</td>\n",
       "      <td>-0.214967</td>\n",
       "    </tr>\n",
       "    <tr>\n",
       "      <th>RAD_river</th>\n",
       "      <td>-0.408568</td>\n",
       "      <td>0.107662</td>\n",
       "      <td>-0.225858</td>\n",
       "      <td>-0.029177</td>\n",
       "      <td>-0.084083</td>\n",
       "      <td>-0.267335</td>\n",
       "      <td>-0.371388</td>\n",
       "      <td>0.091063</td>\n",
       "      <td>0.229081</td>\n",
       "      <td>-0.106243</td>\n",
       "      <td>0.017475</td>\n",
       "      <td>0.241559</td>\n",
       "      <td>-0.490049</td>\n",
       "      <td>-0.214967</td>\n",
       "      <td>1.000000</td>\n",
       "    </tr>\n",
       "  </tbody>\n",
       "</table>\n",
       "</div>"
      ],
      "text/plain": [
       "            crime_rate        ZN     INDUS      CHAS  room_num       age  \\\n",
       "crime_rate    1.000000 -0.318387  0.621355 -0.012725 -0.275419  0.532570   \n",
       "ZN           -0.318387  1.000000 -0.513336 -0.036147  0.316550 -0.541274   \n",
       "INDUS         0.621355 -0.513336  1.000000  0.058035 -0.381457  0.614592   \n",
       "CHAS         -0.012725 -0.036147  0.058035  1.000000  0.102284  0.075206   \n",
       "room_num     -0.275419  0.316550 -0.381457  0.102284  1.000000 -0.241351   \n",
       "age           0.532570 -0.541274  0.614592  0.075206 -0.241351  1.000000   \n",
       "TAX           0.837072 -0.308334  0.716062 -0.031483 -0.292048  0.500589   \n",
       "PTRATIO       0.350255 -0.403085  0.384806 -0.109310 -0.355501  0.262723   \n",
       "B            -0.488976  0.167441 -0.354616  0.050064  0.128129 -0.265294   \n",
       "poor_prep     0.566069 -0.407549  0.567354 -0.046166 -0.602962  0.574893   \n",
       "price        -0.443338  0.365943 -0.478657  0.179882  0.695360 -0.380223   \n",
       "avg_dist     -0.546099  0.637314 -0.687523 -0.091460  0.196821 -0.715007   \n",
       "RAD_lake     -0.328877  0.140385 -0.200624  0.002663  0.161773 -0.066990   \n",
       "RAD_pond     -0.149185  0.031228 -0.229791  0.063784  0.228655 -0.135361   \n",
       "RAD_river    -0.408568  0.107662 -0.225858 -0.029177 -0.084083 -0.267335   \n",
       "\n",
       "                 TAX   PTRATIO         B  poor_prep     price  avg_dist  \\\n",
       "crime_rate  0.837072  0.350255 -0.488976   0.566069 -0.443338 -0.546099   \n",
       "ZN         -0.308334 -0.403085  0.167441  -0.407549  0.365943  0.637314   \n",
       "INDUS       0.716062  0.384806 -0.354616   0.567354 -0.478657 -0.687523   \n",
       "CHAS       -0.031483 -0.109310  0.050064  -0.046166  0.179882 -0.091460   \n",
       "room_num   -0.292048 -0.355501  0.128129  -0.602962  0.695360  0.196821   \n",
       "age         0.500589  0.262723 -0.265294   0.574893 -0.380223 -0.715007   \n",
       "TAX         1.000000  0.460853 -0.441819   0.524545 -0.468536 -0.519318   \n",
       "PTRATIO     0.460853  1.000000 -0.177377   0.373343 -0.507787 -0.231733   \n",
       "B          -0.441819 -0.177377  1.000000  -0.368929  0.333479  0.282392   \n",
       "poor_prep   0.524545  0.373343 -0.368929   1.000000 -0.721975 -0.471590   \n",
       "price      -0.468536 -0.507787  0.333479  -0.721975  1.000000  0.236262   \n",
       "avg_dist   -0.519318 -0.231733  0.282392  -0.471590  0.236262  1.000000   \n",
       "RAD_lake   -0.370753 -0.522086  0.130941  -0.233914  0.233941  0.082397   \n",
       "RAD_pond   -0.186370 -0.041445  0.097390  -0.182038  0.209322  0.205717   \n",
       "RAD_river  -0.371388  0.091063  0.229081  -0.106243  0.017475  0.241559   \n",
       "\n",
       "            RAD_lake  RAD_pond  RAD_river  \n",
       "crime_rate -0.328877 -0.149185  -0.408568  \n",
       "ZN          0.140385  0.031228   0.107662  \n",
       "INDUS      -0.200624 -0.229791  -0.225858  \n",
       "CHAS        0.002663  0.063784  -0.029177  \n",
       "room_num    0.161773  0.228655  -0.084083  \n",
       "age        -0.066990 -0.135361  -0.267335  \n",
       "TAX        -0.370753 -0.186370  -0.371388  \n",
       "PTRATIO    -0.522086 -0.041445   0.091063  \n",
       "B           0.130941  0.097390   0.229081  \n",
       "poor_prep  -0.233914 -0.182038  -0.106243  \n",
       "price       0.233941  0.209322   0.017475  \n",
       "avg_dist    0.082397  0.205717   0.241559  \n",
       "RAD_lake    1.000000 -0.201001  -0.490049  \n",
       "RAD_pond   -0.201001  1.000000  -0.214967  \n",
       "RAD_river  -0.490049 -0.214967   1.000000  "
      ]
     },
     "execution_count": 92,
     "metadata": {},
     "output_type": "execute_result"
    }
   ],
   "source": [
    "df.corr()"
   ]
  },
  {
   "cell_type": "code",
   "execution_count": 96,
   "metadata": {},
   "outputs": [
    {
     "data": {
      "text/plain": [
       "<AxesSubplot:>"
      ]
     },
     "execution_count": 96,
     "metadata": {},
     "output_type": "execute_result"
    },
    {
     "data": {
      "image/png": "[encoded data removed]",
      "text/plain": [
       "<Figure size 720x720 with 2 Axes>"
      ]
     },
     "metadata": {
      "needs_background": "light"
     },
     "output_type": "display_data"
    }
   ],
   "source": [
    "plt.figure(figsize=(10, 10))\n",
    "sns.heatmap(df.corr(), annot=True)"
   ]
  },
  {
   "cell_type": "code",
   "execution_count": 1,
   "metadata": {},
   "outputs": [],
   "source": [
    "import pandas as pd\n",
    "df = pd.read_csv('Boston_data.csv')"
   ]
  },
  {
   "cell_type": "code",
   "execution_count": 2,
   "metadata": {},
   "outputs": [
    {
     "data": {
      "text/html": [
       "<div>\n",
       "<style scoped>\n",
       "    .dataframe tbody tr th:only-of-type {\n",
       "        vertical-align: middle;\n",
       "    }\n",
       "\n",
       "    .dataframe tbody tr th {\n",
       "        vertical-align: top;\n",
       "    }\n",
       "\n",
       "    .dataframe thead th {\n",
       "        text-align: right;\n",
       "    }\n",
       "</style>\n",
       "<table border=\"1\" class=\"dataframe\">\n",
       "  <thead>\n",
       "    <tr style=\"text-align: right;\">\n",
       "      <th></th>\n",
       "      <th>Unnamed: 0</th>\n",
       "      <th>crime_rate</th>\n",
       "      <th>ZN</th>\n",
       "      <th>INDUS</th>\n",
       "      <th>CHAS</th>\n",
       "      <th>room_num</th>\n",
       "      <th>age</th>\n",
       "      <th>TAX</th>\n",
       "      <th>PTRATIO</th>\n",
       "      <th>B</th>\n",
       "      <th>poor_prep</th>\n",
       "      <th>price</th>\n",
       "      <th>avg_dist</th>\n",
       "      <th>RAD_lake</th>\n",
       "      <th>RAD_pond</th>\n",
       "      <th>RAD_river</th>\n",
       "    </tr>\n",
       "  </thead>\n",
       "  <tbody>\n",
       "    <tr>\n",
       "      <th>0</th>\n",
       "      <td>0</td>\n",
       "      <td>0.006300</td>\n",
       "      <td>18.0</td>\n",
       "      <td>2.31</td>\n",
       "      <td>0.0</td>\n",
       "      <td>6.575</td>\n",
       "      <td>65.2</td>\n",
       "      <td>296</td>\n",
       "      <td>15.3</td>\n",
       "      <td>396.90</td>\n",
       "      <td>4.980000</td>\n",
       "      <td>24.0</td>\n",
       "      <td>2.31400</td>\n",
       "      <td>1</td>\n",
       "      <td>0</td>\n",
       "      <td>0</td>\n",
       "    </tr>\n",
       "    <tr>\n",
       "      <th>1</th>\n",
       "      <td>1</td>\n",
       "      <td>0.026944</td>\n",
       "      <td>0.0</td>\n",
       "      <td>7.07</td>\n",
       "      <td>0.0</td>\n",
       "      <td>6.421</td>\n",
       "      <td>78.9</td>\n",
       "      <td>242</td>\n",
       "      <td>17.8</td>\n",
       "      <td>396.90</td>\n",
       "      <td>9.140000</td>\n",
       "      <td>21.6</td>\n",
       "      <td>2.71805</td>\n",
       "      <td>1</td>\n",
       "      <td>0</td>\n",
       "      <td>0</td>\n",
       "    </tr>\n",
       "    <tr>\n",
       "      <th>2</th>\n",
       "      <td>2</td>\n",
       "      <td>0.026924</td>\n",
       "      <td>0.0</td>\n",
       "      <td>7.07</td>\n",
       "      <td>0.0</td>\n",
       "      <td>7.185</td>\n",
       "      <td>61.1</td>\n",
       "      <td>242</td>\n",
       "      <td>17.8</td>\n",
       "      <td>392.83</td>\n",
       "      <td>4.030000</td>\n",
       "      <td>34.7</td>\n",
       "      <td>2.71805</td>\n",
       "      <td>1</td>\n",
       "      <td>0</td>\n",
       "      <td>0</td>\n",
       "    </tr>\n",
       "    <tr>\n",
       "      <th>3</th>\n",
       "      <td>3</td>\n",
       "      <td>0.031857</td>\n",
       "      <td>0.0</td>\n",
       "      <td>2.18</td>\n",
       "      <td>0.0</td>\n",
       "      <td>6.998</td>\n",
       "      <td>45.8</td>\n",
       "      <td>222</td>\n",
       "      <td>18.7</td>\n",
       "      <td>394.63</td>\n",
       "      <td>2.940000</td>\n",
       "      <td>33.4</td>\n",
       "      <td>3.26010</td>\n",
       "      <td>0</td>\n",
       "      <td>0</td>\n",
       "      <td>1</td>\n",
       "    </tr>\n",
       "    <tr>\n",
       "      <th>4</th>\n",
       "      <td>4</td>\n",
       "      <td>0.066770</td>\n",
       "      <td>0.0</td>\n",
       "      <td>2.18</td>\n",
       "      <td>0.0</td>\n",
       "      <td>7.147</td>\n",
       "      <td>54.2</td>\n",
       "      <td>222</td>\n",
       "      <td>18.7</td>\n",
       "      <td>396.90</td>\n",
       "      <td>12.715432</td>\n",
       "      <td>36.2</td>\n",
       "      <td>3.26010</td>\n",
       "      <td>0</td>\n",
       "      <td>0</td>\n",
       "      <td>1</td>\n",
       "    </tr>\n",
       "  </tbody>\n",
       "</table>\n",
       "</div>"
      ],
      "text/plain": [
       "   Unnamed: 0  crime_rate    ZN  INDUS  CHAS  room_num   age  TAX  PTRATIO  \\\n",
       "0           0    0.006300  18.0   2.31   0.0     6.575  65.2  296     15.3   \n",
       "1           1    0.026944   0.0   7.07   0.0     6.421  78.9  242     17.8   \n",
       "2           2    0.026924   0.0   7.07   0.0     7.185  61.1  242     17.8   \n",
       "3           3    0.031857   0.0   2.18   0.0     6.998  45.8  222     18.7   \n",
       "4           4    0.066770   0.0   2.18   0.0     7.147  54.2  222     18.7   \n",
       "\n",
       "        B  poor_prep  price  avg_dist  RAD_lake  RAD_pond  RAD_river  \n",
       "0  396.90   4.980000   24.0   2.31400         1         0          0  \n",
       "1  396.90   9.140000   21.6   2.71805         1         0          0  \n",
       "2  392.83   4.030000   34.7   2.71805         1         0          0  \n",
       "3  394.63   2.940000   33.4   3.26010         0         0          1  \n",
       "4  396.90  12.715432   36.2   3.26010         0         0          1  "
      ]
     },
     "execution_count": 2,
     "metadata": {},
     "output_type": "execute_result"
    }
   ],
   "source": [
    "df.head()"
   ]
  },
  {
   "cell_type": "code",
   "execution_count": 3,
   "metadata": {},
   "outputs": [],
   "source": [
    "from sklearn.linear_model import LinearRegression"
   ]
  },
  {
   "cell_type": "code",
   "execution_count": 4,
   "metadata": {},
   "outputs": [],
   "source": [
    "y = df['price']\n",
    "X = df[['room_num']]"
   ]
  },
  {
   "cell_type": "code",
   "execution_count": 5,
   "metadata": {},
   "outputs": [
    {
     "data": {
      "text/plain": [
       "LinearRegression()"
      ]
     },
     "execution_count": 5,
     "metadata": {},
     "output_type": "execute_result"
    }
   ],
   "source": [
    "lm = LinearRegression()\n",
    "lm.fit(X, y)"
   ]
  },
  {
   "cell_type": "code",
   "execution_count": 6,
   "metadata": {},
   "outputs": [
    {
     "name": "stdout",
     "output_type": "stream",
     "text": [
      "-34.67062077643858 [9.10210898]\n"
     ]
    }
   ],
   "source": [
    "print(lm.intercept_, lm.coef_)"
   ]
  },
  {
   "cell_type": "code",
   "execution_count": 7,
   "metadata": {},
   "outputs": [
    {
     "data": {
      "text/plain": [
       "array([25.17574577, 23.77402099, 30.72803225, 29.02593787, 30.38215211,\n",
       "       23.85593997, 20.05125842, 21.50759586, 16.5833549 , 19.97844155,\n",
       "       23.3735282 , 20.02395209, 18.93169901, 19.47782555, 20.81583557,\n",
       "       18.43108302, 19.35039603, 19.85101202, 14.99048582, 17.45715736,\n",
       "       16.02812625, 19.6234593 , 21.23453259, 18.23993873, 19.25027283,\n",
       "       16.29208741, 18.23993873, 20.36983223, 24.44757706, 26.07685456,\n",
       "       17.32972783, 20.59738496, 19.48692766, 17.22050253, 20.81583557,\n",
       "       19.33219181, 18.49479778, 18.57671676, 19.63256141, 25.35778795,\n",
       "       29.26259271, 26.95065703, 21.48028953, 21.86257811, 20.57007863,\n",
       "       17.04756245, 17.99418179, 20.21509638, 14.47166561, 16.31939374,\n",
       "       19.60525508, 20.98877564, 24.5932108 , 19.92382889, 18.9225969 ,\n",
       "       31.31056723, 23.42814085, 27.36935404, 21.26183891, 19.27757916,\n",
       "       17.58458688, 19.63256141, 24.09259481, 26.87784015, 29.99076143,\n",
       "       22.58164472, 18.0032839 , 18.83157581, 16.24657686, 18.89529058,\n",
       "       23.73761256, 19.58705086, 20.53367019, 22.17204981, 22.42690886,\n",
       "       22.54523628, 22.48152152, 21.21632837, 22.05372239, 18.79516738,\n",
       "       26.55926634, 25.57623857, 22.69087002, 21.46208531, 23.4827535 ,\n",
       "       25.67636177, 20.07856475, 21.0433883 , 29.10785685, 29.7632087 ,\n",
       "       23.73761256, 23.62838725, 23.96516528, 21.86257811, 22.20845825,\n",
       "       25.63085122, 21.42567687, 38.77429659, 36.50787146, 32.83061943,\n",
       "       26.55926634, 27.05078022, 23.62838725, 21.18902204, 21.46208531,\n",
       "       18.58581887, 18.44928724, 21.09800095, 24.25643277, 22.02641607,\n",
       "       21.71694436, 26.45004103, 19.15014963, 20.77942714, 22.25396879,\n",
       "       19.28668126, 21.54400429, 20.1331774 , 18.77696316, 17.49356579,\n",
       "       18.75875894, 19.97844155, 19.58705086, 18.63132942, 18.84067792,\n",
       "       19.81460358, 16.41951693, 17.14768565, 23.86504208, 16.63796755,\n",
       "       24.11079902, 22.90932064, 23.32801765, 18.32185771, 17.73022063,\n",
       "       22.99123962, 19.41411079, 24.07439059, 18.64043153, 21.31645157,\n",
       "       21.52580007, 11.0128642 , 14.50807405, 15.09971113,  9.95701956,\n",
       "       21.12530728, 16.55604857, 10.16636806, 12.5329164 , 16.27388319,\n",
       "       21.05249041, 14.51717616, 10.94914944, 17.2933194 , 21.11620517,\n",
       "       21.32555368, 13.31569777, 28.52532188, 20.5427723 , 24.58410869,\n",
       "       22.21756036, 33.49507338, 36.34403349, 41.55954194, 18.6131252 ,\n",
       "       20.86134612, 37.50000134, 18.82247371, 22.84560588, 23.60108092,\n",
       "       18.80426949, 18.84978003, 16.04633047, 23.72851045, 18.65863574,\n",
       "       24.91178461, 20.12407529, 22.80919744, 27.76984683, 28.86209991,\n",
       "       36.00725546, 21.2527368 , 30.45496898, 25.06652047, 16.33759795,\n",
       "       21.33465578, 36.60799466, 27.05988233, 25.0028057 , 30.72803225,\n",
       "       28.59813875, 26.66849165, 30.66431749, 27.2237203 , 25.43970694,\n",
       "       37.00848745, 31.65644737, 30.01806775, 31.53811995, 28.81658937,\n",
       "       30.2729268 , 21.41657477, 34.59642857, 36.80824105, 38.45572278,\n",
       "       18.94990323, 22.90932064, 17.96687546, 20.52456809, 13.97104962,\n",
       "       19.57794875, 14.51717616, 18.18532608, 23.35532398, 14.58999303,\n",
       "       21.59861695, 18.9225969 , 25.78558708, 19.49602977, 23.33711976,\n",
       "       28.59813875, 21.43477898, 27.94278691, 25.56713646, 40.56741206,\n",
       "       44.74528008, 38.51033543, 30.52778586, 35.28818885, 24.96639727,\n",
       "       19.76909304, 32.79421099, 41.2136618 , 40.39447199, 26.55016423,\n",
       "       20.72481448, 25.68546388, 32.30269711, 24.32014753, 25.45791115,\n",
       "       28.10662487, 20.80673346, 23.20058813, 23.51916194, 16.23747476,\n",
       "       16.34670006, 20.92506088, 21.99910974, 23.8832463 , 26.47734736,\n",
       "       24.37476018, 23.92875684, 28.65275141, 40.5036973 , 20.92506088,\n",
       "       18.8133716 , 33.17649957, 44.5541358 , 32.07514438, 27.60600887,\n",
       "       30.89187022, 33.77723876, 41.76889045, 32.02053173, 30.91917654,\n",
       "       15.93710516, 29.17157162, 40.84957744, 33.32213331, 19.21386439,\n",
       "       18.63132942, 22.12653927, 24.83896774, 35.3336994 , 26.84143172,\n",
       "       27.71523418, 31.47440519, 27.46037513, 24.32924964, 27.3329456 ,\n",
       "       36.50787146, 28.7528746 , 34.91500238, 37.44538868, 29.84512768,\n",
       "       24.06528848, 22.03551818, 21.84437389, 22.80919744, 25.08472469,\n",
       "       27.77894894, 30.39125422, 25.67636177, 21.09800095, 20.02395209,\n",
       "       26.113263  , 24.93909094, 18.03059022, 23.08226071, 29.41732856,\n",
       "       27.86997003, 25.31227741, 24.44757706, 28.88030413, 31.19223981,\n",
       "       25.54893224, 32.86702786, 27.66972364, 25.72187231, 19.68717406,\n",
       "       10.59416719, 21.05249041, 20.15138162, 22.3631941 , 25.1029289 ,\n",
       "       17.25691096, 19.15925174, 17.95777335, 23.41903874, 20.97057143,\n",
       "       23.81953154, 23.36442609, 20.31521958, 17.28421729, 23.71940834,\n",
       "       23.86504208, 22.78189111, 20.69750816, 18.74055473, 22.9730354 ,\n",
       "       21.2527368 , 17.26601307, 20.22419849, 22.81829955, 22.76368689,\n",
       "       20.27881114, 18.74965683, 18.98631167, 20.47905754, 19.80550148,\n",
       "       19.65076562, 31.23775036, 24.85717196, 26.27710096, 27.89727636,\n",
       "       20.06946264, 19.01361799, 24.63872134, 25.72187231, 28.48891344,\n",
       "       24.40206651, 25.21215421, 18.88618847, 26.56836845, 16.87462238,\n",
       "       19.35949814, 21.87168021, 23.53736616, 21.09800095, 20.96146932,\n",
       "       23.56467249, 22.22666246, 14.13488758, 18.14891764, 45.24589608,\n",
       "       -2.25801069, 10.5031461 ,  0.49082622, 10.56686086, 26.15877354,\n",
       "       29.18977584, 21.90808865, 18.80426949,  9.98432589,  2.99390619,\n",
       "       31.8931022 , 25.84930184, 27.16910764, 23.40083452, 21.97180341,\n",
       "       28.7528746 , 24.90268251, 15.71865454, 15.5730208 ,  5.08739125,\n",
       "       13.36120832,  7.6723902 , 10.83992413,  9.74767105, 14.38974663,\n",
       "       17.32972783, 20.40624067, 11.16760005, 21.69874014, 18.9134948 ,\n",
       "       24.22912644, 23.62838725, 17.63919954, 14.9631795 , 18.59492098,\n",
       "       19.82370569, 23.06405649, 23.61928514, 14.01656016, 15.673144  ,\n",
       "       17.05666456,  2.99390619, 16.37400639, 16.45592537, 27.69702996,\n",
       "       17.73022063, 25.92211871,  7.45393959, 12.25075102,  6.46180971,\n",
       "       23.89234841, 27.05988233, 13.60696526, 19.55064242, 27.44217091,\n",
       "       23.6829999 , 19.99664576, 16.73809075, 20.87955034, 15.9826157 ,\n",
       "       18.99541378, 18.45838935, 21.78065912, 21.69874014, 23.40083452,\n",
       "       23.10956704, 27.52408989, 23.81042943, 23.91055263, 21.83527178,\n",
       "       25.66725966, 24.13810535, 21.32555368, 19.35039603, 16.54694646,\n",
       "       18.28544928, 23.63748936, 21.93539498, 24.35655597, 18.6131252 ,\n",
       "       24.11990113, 23.04585227, 22.22666246, 21.62592327, 23.73761256,\n",
       "       26.75951274, 25.90391449, 22.64535948, 32.62127092, 26.56836845,\n",
       "       24.72064033, 19.7235825 , 19.35949814, 22.68176791, 20.67930394,\n",
       "       26.32261151, 23.36442609, 22.82740166, 24.61141502, 21.84437389,\n",
       "       17.74842485, 19.50513188, 19.96933944, 19.26847705, 17.32972783,\n",
       "       21.46208531, 22.02641607, 23.91965474, 28.86209991, 14.72652466,\n",
       "       21.41657477, 24.34745386, 13.60696526, 21.62592327, 22.02641607,\n",
       "       22.14474348, 26.76861485, 29.59937074, 17.77573117, 18.76786105,\n",
       "       22.78189111, 20.97967353, 19.07733276, 14.97228161, 14.60819725,\n",
       "       11.68642026, 19.78729726, 19.78729726, 17.27511518, 19.26847705,\n",
       "       16.93833715, 14.38974663, 18.06699866, 20.11497318, 16.01902414,\n",
       "       20.18779005, 25.33958374, 21.03428619, 28.82569148, 27.16910764,\n",
       "       20.21509638])"
      ]
     },
     "execution_count": 7,
     "metadata": {},
     "output_type": "execute_result"
    }
   ],
   "source": [
    "lm.predict(X)"
   ]
  },
  {
   "cell_type": "code",
   "execution_count": 8,
   "metadata": {},
   "outputs": [
    {
     "data": {
      "text/plain": [
       "<seaborn.axisgrid.JointGrid at 0x1fa555e7388>"
      ]
     },
     "execution_count": 8,
     "metadata": {},
     "output_type": "execute_result"
    },
    {
     "data": {
      "image/png": "[encoded data removed]",
      "text/plain": [
       "<Figure size 432x432 with 3 Axes>"
      ]
     },
     "metadata": {
      "needs_background": "light"
     },
     "output_type": "display_data"
    }
   ],
   "source": [
    "import seaborn as sns\n",
    "sns.jointplot(x='room_num', y='price', data=df, kind='reg')"
   ]
  },
  {
   "cell_type": "code",
   "execution_count": 9,
   "metadata": {},
   "outputs": [],
   "source": [
    "X = df.drop('price', axis=1)\n",
    "y = df['price']"
   ]
  },
  {
   "cell_type": "code",
   "execution_count": 10,
   "metadata": {},
   "outputs": [
    {
     "data": {
      "text/plain": [
       "LinearRegression()"
      ]
     },
     "execution_count": 10,
     "metadata": {},
     "output_type": "execute_result"
    }
   ],
   "source": [
    "lm.fit(X, y)"
   ]
  },
  {
   "cell_type": "code",
   "execution_count": 11,
   "metadata": {},
   "outputs": [
    {
     "data": {
      "text/plain": [
       "0.7236618418603067"
      ]
     },
     "execution_count": 11,
     "metadata": {},
     "output_type": "execute_result"
    }
   ],
   "source": [
    "lm.score(X, y)"
   ]
  },
  {
   "cell_type": "code",
   "execution_count": 12,
   "metadata": {},
   "outputs": [
    {
     "name": "stdout",
     "output_type": "stream",
     "text": [
      "[-3.03790104e-03 -1.21241246e+00  4.39701945e-02 -8.60203459e-02\n",
      "  2.92246506e+00  4.09765829e+00 -2.29530715e-02 -9.26275263e-03\n",
      " -9.18681360e-01  9.74391739e-03 -4.96487506e-01 -2.71434260e+00\n",
      " -6.23191342e+00 -3.29884226e+00 -5.37127370e+00]\n"
     ]
    }
   ],
   "source": [
    "print(lm.coef_)"
   ]
  },
  {
   "cell_type": "code",
   "execution_count": 13,
   "metadata": {},
   "outputs": [
    {
     "name": "stdout",
     "output_type": "stream",
     "text": [
      "33.93868017187977\n"
     ]
    }
   ],
   "source": [
    "print(lm.intercept_)"
   ]
  },
  {
   "cell_type": "code",
   "execution_count": 14,
   "metadata": {},
   "outputs": [],
   "source": [
    "from sklearn.model_selection import train_test_split\n",
    "X_train, X_test, y_train, y_test = train_test_split(X, y, test_size=0.2, random_state=0)"
   ]
  },
  {
   "cell_type": "code",
   "execution_count": 15,
   "metadata": {},
   "outputs": [
    {
     "name": "stdout",
     "output_type": "stream",
     "text": [
      "(404, 15) (102, 15) (404,) (102,)\n"
     ]
    }
   ],
   "source": [
    "print(X_train.shape, X_test.shape, y_train.shape, y_test.shape)"
   ]
  },
  {
   "cell_type": "code",
   "execution_count": 16,
   "metadata": {},
   "outputs": [
    {
     "data": {
      "text/plain": [
       "LinearRegression()"
      ]
     },
     "execution_count": 16,
     "metadata": {},
     "output_type": "execute_result"
    }
   ],
   "source": [
    "lm.fit(X_train, y_train)"
   ]
  },
  {
   "cell_type": "code",
   "execution_count": 17,
   "metadata": {},
   "outputs": [],
   "source": [
    "y_pred = lm.predict(X_test)"
   ]
  },
  {
   "cell_type": "code",
   "execution_count": 18,
   "metadata": {},
   "outputs": [
    {
     "data": {
      "text/plain": [
       "0.5462755445572407"
      ]
     },
     "execution_count": 18,
     "metadata": {},
     "output_type": "execute_result"
    }
   ],
   "source": [
    "from sklearn.metrics import r2_score, accuracy_score\n",
    "r2_score(y_test, y_pred)"
   ]
  },
  {
   "cell_type": "code",
   "execution_count": 19,
   "metadata": {},
   "outputs": [],
   "source": [
    "y_train_pred = lm.predict(X_train)"
   ]
  },
  {
   "cell_type": "code",
   "execution_count": 20,
   "metadata": {},
   "outputs": [
    {
     "data": {
      "text/plain": [
       "0.7582658037787346"
      ]
     },
     "execution_count": 20,
     "metadata": {},
     "output_type": "execute_result"
    }
   ],
   "source": [
    "r2_score(y_train, y_train_pred)"
   ]
  },
  {
   "cell_type": "code",
   "execution_count": 21,
   "metadata": {},
   "outputs": [
    {
     "name": "stdout",
     "output_type": "stream",
     "text": [
      "329    22.6\n",
      "371    50.0\n",
      "219    23.0\n",
      "403     8.3\n",
      "78     21.2\n",
      "       ... \n",
      "56     24.7\n",
      "455    14.1\n",
      "60     18.7\n",
      "213    28.1\n",
      "108    19.8\n",
      "Name: price, Length: 102, dtype: float64\n"
     ]
    }
   ],
   "source": [
    "print(y_test)"
   ]
  },
  {
   "cell_type": "code",
   "execution_count": 22,
   "metadata": {},
   "outputs": [
    {
     "name": "stdout",
     "output_type": "stream",
     "text": [
      "[26.43084769 21.66696084 29.00436401 11.63524588 20.75886302 20.09093847\n",
      " 19.35882338 21.27231763 17.92390203 19.55451568  8.76417395 14.62141538\n",
      " 17.42395413  5.25998941 38.42698654 32.62292204 20.27227431 34.78977609\n",
      " 31.67062373 23.70116613 24.36074944 22.22244458 20.26713315 30.31810369\n",
      " 23.1325781   7.64692552 17.67596827 19.89705702 35.80189317 20.90353177\n",
      " 16.41098885 17.7727001  19.38362064 20.80723954 28.40052704 20.80913341\n",
      " 11.21365525 23.70583968 16.97071535 13.71268318 26.02304332 21.82363535\n",
      " 24.02112219 13.13647502 25.00699265 25.33974424 19.44184902 25.57552667\n",
      " 11.80877178 24.1727406  23.64883014 18.73254075 24.13111684 31.61978344\n",
      " 12.9654886  23.02264992 21.41513142 16.32989255 13.62885005 22.36873661\n",
      " 18.77582279 21.9416951  32.58865205 29.90379438 16.08820456 32.56734156\n",
      " 19.73395005 20.04600868 19.22090824 24.11855351 21.53690292 23.28831745\n",
      " 31.13955787 28.76789859 23.49298338  5.4328799  37.09415323 24.09791492\n",
      " 28.00709188 19.33384613 28.25862954 19.30591874 16.85136536 37.83694297\n",
      " 39.10572015 23.75467786 24.97487634 16.1076843  27.88585497 16.97699328\n",
      " 16.84152448 13.73404254 25.0644445  30.40549791 22.4437208  20.56319863\n",
      " -0.19635132 26.32238161 16.16271709 18.0459419  25.94145229 21.82036876]\n"
     ]
    }
   ],
   "source": [
    "print(y_pred)"
   ]
  },
  {
   "cell_type": "code",
   "execution_count": 23,
   "metadata": {},
   "outputs": [],
   "source": [
    "from sklearn.preprocessing import StandardScaler\n",
    "scaler = StandardScaler().fit(X_train)"
   ]
  },
  {
   "cell_type": "code",
   "execution_count": 25,
   "metadata": {},
   "outputs": [],
   "source": [
    "X_train_s = scaler.transform(X_train)\n",
    "X_test_s = scaler.transform(X_test)"
   ]
  },
  {
   "cell_type": "code",
   "execution_count": 26,
   "metadata": {},
   "outputs": [],
   "source": [
    "from sklearn.linear_model import Ridge\n",
    "lm_r = Ridge(alpha=0.5)"
   ]
  },
  {
   "cell_type": "code",
   "execution_count": 27,
   "metadata": {},
   "outputs": [
    {
     "data": {
      "text/plain": [
       "Ridge(alpha=0.5)"
      ]
     },
     "execution_count": 27,
     "metadata": {},
     "output_type": "execute_result"
    }
   ],
   "source": [
    "lm_r.fit(X_train_s, y_train)"
   ]
  },
  {
   "cell_type": "code",
   "execution_count": 28,
   "metadata": {},
   "outputs": [
    {
     "data": {
      "text/plain": [
       "0.5459674599506616"
      ]
     },
     "execution_count": 28,
     "metadata": {},
     "output_type": "execute_result"
    }
   ],
   "source": [
    "r2_score(y_test, lm_r.predict(X_test_s))"
   ]
  },
  {
   "cell_type": "code",
   "execution_count": 29,
   "metadata": {},
   "outputs": [],
   "source": [
    "from sklearn.model_selection import validation_curve"
   ]
  },
  {
   "cell_type": "code",
   "execution_count": 30,
   "metadata": {},
   "outputs": [],
   "source": [
    "validation_curve?"
   ]
  },
  {
   "cell_type": "code",
   "execution_count": 33,
   "metadata": {},
   "outputs": [],
   "source": [
    "import numpy as np\n",
    "param_range = np.logspace(-2, 8, 100)"
   ]
  },
  {
   "cell_type": "code",
   "execution_count": 34,
   "metadata": {},
   "outputs": [
    {
     "data": {
      "text/plain": [
       "array([1.00000000e-02, 1.26185688e-02, 1.59228279e-02, 2.00923300e-02,\n",
       "       2.53536449e-02, 3.19926714e-02, 4.03701726e-02, 5.09413801e-02,\n",
       "       6.42807312e-02, 8.11130831e-02, 1.02353102e-01, 1.29154967e-01,\n",
       "       1.62975083e-01, 2.05651231e-01, 2.59502421e-01, 3.27454916e-01,\n",
       "       4.13201240e-01, 5.21400829e-01, 6.57933225e-01, 8.30217568e-01,\n",
       "       1.04761575e+00, 1.32194115e+00, 1.66810054e+00, 2.10490414e+00,\n",
       "       2.65608778e+00, 3.35160265e+00, 4.22924287e+00, 5.33669923e+00,\n",
       "       6.73415066e+00, 8.49753436e+00, 1.07226722e+01, 1.35304777e+01,\n",
       "       1.70735265e+01, 2.15443469e+01, 2.71858824e+01, 3.43046929e+01,\n",
       "       4.32876128e+01, 5.46227722e+01, 6.89261210e+01, 8.69749003e+01,\n",
       "       1.09749877e+02, 1.38488637e+02, 1.74752840e+02, 2.20513074e+02,\n",
       "       2.78255940e+02, 3.51119173e+02, 4.43062146e+02, 5.59081018e+02,\n",
       "       7.05480231e+02, 8.90215085e+02, 1.12332403e+03, 1.41747416e+03,\n",
       "       1.78864953e+03, 2.25701972e+03, 2.84803587e+03, 3.59381366e+03,\n",
       "       4.53487851e+03, 5.72236766e+03, 7.22080902e+03, 9.11162756e+03,\n",
       "       1.14975700e+04, 1.45082878e+04, 1.83073828e+04, 2.31012970e+04,\n",
       "       2.91505306e+04, 3.67837977e+04, 4.64158883e+04, 5.85702082e+04,\n",
       "       7.39072203e+04, 9.32603347e+04, 1.17681195e+05, 1.48496826e+05,\n",
       "       1.87381742e+05, 2.36448941e+05, 2.98364724e+05, 3.76493581e+05,\n",
       "       4.75081016e+05, 5.99484250e+05, 7.56463328e+05, 9.54548457e+05,\n",
       "       1.20450354e+06, 1.51991108e+06, 1.91791026e+06, 2.42012826e+06,\n",
       "       3.05385551e+06, 3.85352859e+06, 4.86260158e+06, 6.13590727e+06,\n",
       "       7.74263683e+06, 9.77009957e+06, 1.23284674e+07, 1.55567614e+07,\n",
       "       1.96304065e+07, 2.47707636e+07, 3.12571585e+07, 3.94420606e+07,\n",
       "       4.97702356e+07, 6.28029144e+07, 7.92482898e+07, 1.00000000e+08])"
      ]
     },
     "execution_count": 34,
     "metadata": {},
     "output_type": "execute_result"
    }
   ],
   "source": [
    "param_range"
   ]
  },
  {
   "cell_type": "code",
   "execution_count": 37,
   "metadata": {},
   "outputs": [],
   "source": [
    "train_score, test_score = validation_curve(Ridge(), X_train_s, y_train, param_name=\"alpha\", param_range=param_range, scoring='r2')"
   ]
  },
  {
   "cell_type": "code",
   "execution_count": 38,
   "metadata": {},
   "outputs": [
    {
     "data": {
      "text/plain": [
       "array([[7.53576098e-01, 7.67784190e-01, 7.64811687e-01, 7.79538618e-01,\n",
       "        7.39630698e-01],\n",
       "       [7.53576095e-01, 7.67784185e-01, 7.64811684e-01, 7.79538614e-01,\n",
       "        7.39630690e-01],\n",
       "       [7.53576090e-01, 7.67784178e-01, 7.64811678e-01, 7.79538609e-01,\n",
       "        7.39630678e-01],\n",
       "       [7.53576083e-01, 7.67784166e-01, 7.64811670e-01, 7.79538601e-01,\n",
       "        7.39630659e-01],\n",
       "       [7.53576071e-01, 7.67784147e-01, 7.64811657e-01, 7.79538587e-01,\n",
       "        7.39630629e-01],\n",
       "       [7.53576052e-01, 7.67784117e-01, 7.64811636e-01, 7.79538566e-01,\n",
       "        7.39630581e-01],\n",
       "       [7.53576022e-01, 7.67784069e-01, 7.64811602e-01, 7.79538532e-01,\n",
       "        7.39630505e-01],\n",
       "       [7.53575974e-01, 7.67783994e-01, 7.64811549e-01, 7.79538478e-01,\n",
       "        7.39630385e-01],\n",
       "       [7.53575899e-01, 7.67783873e-01, 7.64811465e-01, 7.79538392e-01,\n",
       "        7.39630193e-01],\n",
       "       [7.53575779e-01, 7.67783683e-01, 7.64811332e-01, 7.79538256e-01,\n",
       "        7.39629890e-01],\n",
       "       [7.53575589e-01, 7.67783381e-01, 7.64811121e-01, 7.79538041e-01,\n",
       "        7.39629409e-01],\n",
       "       [7.53575290e-01, 7.67782904e-01, 7.64810786e-01, 7.79537700e-01,\n",
       "        7.39628650e-01],\n",
       "       [7.53574816e-01, 7.67782150e-01, 7.64810259e-01, 7.79537163e-01,\n",
       "        7.39627453e-01],\n",
       "       [7.53574071e-01, 7.67780963e-01, 7.64809428e-01, 7.79536317e-01,\n",
       "        7.39625570e-01],\n",
       "       [7.53572901e-01, 7.67779098e-01, 7.64808122e-01, 7.79534988e-01,\n",
       "        7.39622616e-01],\n",
       "       [7.53571070e-01, 7.67776179e-01, 7.64806077e-01, 7.79532908e-01,\n",
       "        7.39618001e-01],\n",
       "       [7.53568216e-01, 7.67771626e-01, 7.64802889e-01, 7.79529667e-01,\n",
       "        7.39610823e-01],\n",
       "       [7.53563793e-01, 7.67764566e-01, 7.64797942e-01, 7.79524642e-01,\n",
       "        7.39599726e-01],\n",
       "       [7.53556982e-01, 7.67753686e-01, 7.64790317e-01, 7.79516905e-01,\n",
       "        7.39582693e-01],\n",
       "       [7.53546576e-01, 7.67737055e-01, 7.64778655e-01, 7.79505088e-01,\n",
       "        7.39556782e-01],\n",
       "       [7.53530828e-01, 7.67711875e-01, 7.64760984e-01, 7.79487212e-01,\n",
       "        7.39517786e-01],\n",
       "       [7.53507265e-01, 7.67674195e-01, 7.64734508e-01, 7.79460490e-01,\n",
       "        7.39459858e-01],\n",
       "       [7.53472472e-01, 7.67618592e-01, 7.64695368e-01, 7.79421100e-01,\n",
       "        7.39375133e-01],\n",
       "       [7.53421873e-01, 7.67537874e-01, 7.64638395e-01, 7.79363980e-01,\n",
       "        7.39253452e-01],\n",
       "       [7.53349529e-01, 7.67422897e-01, 7.64556914e-01, 7.79282691e-01,\n",
       "        7.39082343e-01],\n",
       "       [7.53247982e-01, 7.67262597e-01, 7.64442640e-01, 7.79169416e-01,\n",
       "        7.38847400e-01],\n",
       "       [7.53108128e-01, 7.67044317e-01, 7.64285692e-01, 7.79015120e-01,\n",
       "        7.38533169e-01],\n",
       "       [7.52919052e-01, 7.66754425e-01, 7.64074689e-01, 7.78809850e-01,\n",
       "        7.38124482e-01],\n",
       "       [7.52667611e-01, 7.66379023e-01, 7.63796757e-01, 7.78542968e-01,\n",
       "        7.37607857e-01],\n",
       "       [7.52337488e-01, 7.65904300e-01, 7.63437159e-01, 7.78202984e-01,\n",
       "        7.36972307e-01],\n",
       "       [7.51907389e-01, 7.65315923e-01, 7.62978148e-01, 7.77776499e-01,\n",
       "        7.36208734e-01],\n",
       "       [7.51348120e-01, 7.64596804e-01, 7.62396716e-01, 7.77245798e-01,\n",
       "        7.35307222e-01],\n",
       "       [7.50618562e-01, 7.63722868e-01, 7.61661075e-01, 7.76584795e-01,\n",
       "        7.34252041e-01],\n",
       "       [7.49660746e-01, 7.62656805e-01, 7.60725959e-01, 7.75753349e-01,\n",
       "        7.33014784e-01],\n",
       "       [7.48394457e-01, 7.61340195e-01, 7.59526980e-01, 7.74690199e-01,\n",
       "        7.31546461e-01],\n",
       "       [7.46711727e-01, 7.59684596e-01, 7.57974293e-01, 7.73304954e-01,\n",
       "        7.29769509e-01],\n",
       "       [7.44471397e-01, 7.57562269e-01, 7.55945692e-01, 7.71469665e-01,\n",
       "        7.27570371e-01],\n",
       "       [7.41493763e-01, 7.54797393e-01, 7.53279341e-01, 7.69010692e-01,\n",
       "        7.24793101e-01],\n",
       "       [7.37555432e-01, 7.51158990e-01, 7.49766730e-01, 7.65702007e-01,\n",
       "        7.21234444e-01],\n",
       "       [7.32385221e-01, 7.46357513e-01, 7.45147400e-01, 7.61261785e-01,\n",
       "        7.16641309e-01],\n",
       "       [7.25663096e-01, 7.40047751e-01, 7.39107991e-01, 7.55354719e-01,\n",
       "        7.10712235e-01],\n",
       "       [7.17025234e-01, 7.31840799e-01, 7.31288769e-01, 7.47602467e-01,\n",
       "        7.03104830e-01],\n",
       "       [7.06078273e-01, 7.21326642e-01, 7.21299923e-01, 7.37603242e-01,\n",
       "        6.93450449e-01],\n",
       "       [6.92423984e-01, 7.08105986e-01, 7.08747412e-01, 7.24958832e-01,\n",
       "        6.81375469e-01],\n",
       "       [6.75692161e-01, 6.91826022e-01, 6.93264450e-01, 7.09304084e-01,\n",
       "        6.66525894e-01],\n",
       "       [6.55575993e-01, 6.72211861e-01, 6.74541800e-01, 6.90332295e-01,\n",
       "        6.48590489e-01],\n",
       "       [6.31863061e-01, 6.49085965e-01, 6.52350129e-01, 6.67811646e-01,\n",
       "        6.27318879e-01],\n",
       "       [6.04457594e-01, 6.22373286e-01, 6.26551964e-01, 6.41593204e-01,\n",
       "        6.02535282e-01],\n",
       "       [5.73395168e-01, 5.92098316e-01, 5.97107859e-01, 6.11617753e-01,\n",
       "        5.74153706e-01],\n",
       "       [5.38855841e-01, 5.58386737e-01, 5.64087118e-01, 5.77932422e-01,\n",
       "        5.42202745e-01],\n",
       "       [5.01181635e-01, 5.21483431e-01, 5.27692666e-01, 5.40724805e-01,\n",
       "        5.06864204e-01],\n",
       "       [4.60897285e-01, 4.81788022e-01, 4.88300233e-01, 5.00370979e-01,\n",
       "        4.68519428e-01],\n",
       "       [4.18722613e-01, 4.39893299e-01, 4.46497390e-01, 4.57479248e-01,\n",
       "        4.27785045e-01],\n",
       "       [3.75558418e-01, 3.96600724e-01, 4.03097487e-01, 4.12902618e-01,\n",
       "        3.85514037e-01],\n",
       "       [3.32432405e-01, 3.52889896e-01, 3.59106072e-01, 3.67698258e-01,\n",
       "        3.42745162e-01],\n",
       "       [2.90407096e-01, 3.09836399e-01, 3.15634675e-01, 3.23031543e-01,\n",
       "        3.00602760e-01],\n",
       "       [2.50469384e-01, 2.68495478e-01, 2.73779707e-01, 2.80045895e-01,\n",
       "        2.60169901e-01],\n",
       "       [2.13430410e-01, 2.29783904e-01, 2.34499414e-01, 2.39733869e-01,\n",
       "        2.22368766e-01],\n",
       "       [1.79860047e-01, 1.94391545e-01, 1.98521159e-01, 2.02842571e-01,\n",
       "        1.87877555e-01],\n",
       "       [1.50066392e-01, 1.62740202e-01, 1.66297295e-01, 1.69830899e-01,\n",
       "        1.57097598e-01],\n",
       "       [1.24115799e-01, 1.34989683e-01, 1.38009875e-01, 1.40877438e-01,\n",
       "        1.30167117e-01],\n",
       "       [1.01879614e-01, 1.11078327e-01, 1.13611274e-01, 1.15924693e-01,\n",
       "        1.07006970e-01],\n",
       "       [8.30917814e-02, 9.07807137e-02, 9.28830276e-02, 9.47410504e-02,\n",
       "        8.73807419e-02],\n",
       "       [6.74046394e-02, 7.37674529e-02, 7.54972357e-02, 7.69844929e-02,\n",
       "        7.09547001e-02],\n",
       "       [5.44353771e-02, 5.96572328e-02, 6.10702870e-02, 6.22577807e-02,\n",
       "        5.73487286e-02],\n",
       "       [4.38003377e-02, 4.80567011e-02, 4.92042175e-02, 5.01506020e-02,\n",
       "        4.61746018e-02],\n",
       "       [3.51375623e-02, 3.85877113e-02, 3.95151082e-02, 4.02682971e-02,\n",
       "        3.70616568e-02],\n",
       "       [2.81196085e-02, 3.09036749e-02, 3.16502522e-02, 3.22490696e-02,\n",
       "        2.96718594e-02],\n",
       "       [2.24591686e-02, 2.46975899e-02, 2.52967094e-02, 2.57724306e-02,\n",
       "        2.37069076e-02],\n",
       "       [1.79098375e-02, 1.97042992e-02, 2.01838669e-02, 2.05615794e-02,\n",
       "        1.89098979e-02],\n",
       "       [1.42639256e-02, 1.56991129e-02, 1.60822044e-02, 1.63819704e-02,\n",
       "        1.50636179e-02],\n",
       "       [1.13486968e-02, 1.24943915e-02, 1.27999174e-02, 1.30377441e-02,\n",
       "        1.19869860e-02],\n",
       "       [9.02196601e-03, 9.93519426e-03, 1.01785429e-02, 1.03671813e-02,\n",
       "        9.53067955e-03],\n",
       "       [7.16763607e-03, 7.89469869e-03, 8.08832299e-03, 8.23791763e-03,\n",
       "        7.57260418e-03],\n",
       "       [5.69150866e-03, 6.26980699e-03, 6.42374021e-03, 6.54235462e-03,\n",
       "        6.01358906e-03],\n",
       "       [4.51753179e-03, 4.97715724e-03, 5.09945536e-03, 5.19349456e-03,\n",
       "        4.77350042e-03],\n",
       "       [3.58454331e-03, 3.94962962e-03, 4.04674334e-03, 4.12129227e-03,\n",
       "        3.78785123e-03],\n",
       "       [2.84350685e-03, 3.13336131e-03, 3.21044480e-03, 3.26953883e-03,\n",
       "        3.00491279e-03],\n",
       "       [2.25520313e-03, 2.48524138e-03, 2.54640586e-03, 2.59324640e-03,\n",
       "        2.38329577e-03],\n",
       "       [1.78832468e-03, 1.97083593e-03, 2.01935626e-03, 2.05648256e-03,\n",
       "        1.88994989e-03],\n",
       "       [1.41791759e-03, 1.56268665e-03, 1.60116870e-03, 1.63059439e-03,\n",
       "        1.49852552e-03],\n",
       "       [1.12411598e-03, 1.23892599e-03, 1.26944155e-03, 1.29276324e-03,\n",
       "        1.18804145e-03],\n",
       "       [8.91119553e-04, 9.82156707e-04, 1.00635182e-03, 1.02483533e-03,\n",
       "        9.41807727e-04],\n",
       "       [7.06370978e-04, 7.78549163e-04, 7.97730960e-04, 8.12379744e-04,\n",
       "        7.46558292e-04],\n",
       "       [5.59896226e-04, 6.17116813e-04, 6.32322823e-04, 6.43932310e-04,\n",
       "        5.91755172e-04],\n",
       "       [4.43776855e-04, 4.89136142e-04, 5.01189637e-04, 5.10390319e-04,\n",
       "        4.69031554e-04],\n",
       "       [3.51728707e-04, 3.87683302e-04, 3.97237371e-04, 4.04528981e-04,\n",
       "        3.71747040e-04],\n",
       "       [2.78766083e-04, 3.07264596e-04, 3.14837214e-04, 3.20615833e-04,\n",
       "        2.94633044e-04],\n",
       "       [2.20934375e-04, 2.43522170e-04, 2.49524082e-04, 2.54103628e-04,\n",
       "        2.33510412e-04],\n",
       "       [1.75097405e-04, 1.92999863e-04, 1.97756742e-04, 2.01386010e-04,\n",
       "        1.85064794e-04],\n",
       "       [1.38768414e-04, 1.52957073e-04, 1.56727111e-04, 1.59603279e-04,\n",
       "        1.46668087e-04],\n",
       "       [1.09975813e-04, 1.21220878e-04, 1.24208752e-04, 1.26488088e-04,\n",
       "        1.16236600e-04],\n",
       "       [8.71566000e-05, 9.60686215e-05, 9.84365763e-05, 1.00242925e-04,\n",
       "        9.21184382e-05],\n",
       "       [6.90717787e-05, 7.61347172e-05, 7.80113535e-05, 7.94428626e-05,\n",
       "        7.30041210e-05],\n",
       "       [5.47392483e-05, 6.03367035e-05, 6.18239511e-05, 6.29584031e-05,\n",
       "        5.78556693e-05],\n",
       "       [4.33805744e-05, 4.78165857e-05, 4.89952327e-05, 4.98942699e-05,\n",
       "        4.58503519e-05],\n",
       "       [3.43787755e-05, 3.78943164e-05, 3.88283919e-05, 3.95408657e-05,\n",
       "        3.63360742e-05],\n",
       "       [2.72448505e-05, 3.00309054e-05, 3.07711555e-05, 3.13357802e-05,\n",
       "        2.87960027e-05],\n",
       "       [2.15912407e-05, 2.37991722e-05, 2.43858149e-05, 2.48332711e-05,\n",
       "        2.28205189e-05],\n",
       "       [1.71107911e-05, 1.88605583e-05, 1.93254671e-05, 1.96800690e-05,\n",
       "        1.80849835e-05]])"
      ]
     },
     "execution_count": 38,
     "metadata": {},
     "output_type": "execute_result"
    }
   ],
   "source": [
    "train_score"
   ]
  },
  {
   "cell_type": "code",
   "execution_count": 39,
   "metadata": {},
   "outputs": [
    {
     "data": {
      "text/plain": [
       "array([[ 7.53676639e-01,  6.90826362e-01,  7.19997726e-01,\n",
       "         6.72236156e-01,  8.10485875e-01],\n",
       "       [ 7.53675943e-01,  6.90830434e-01,  7.19996720e-01,\n",
       "         6.72233594e-01,  8.10492515e-01],\n",
       "       [ 7.53675065e-01,  6.90835567e-01,  7.19995450e-01,\n",
       "         6.72230361e-01,  8.10500884e-01],\n",
       "       [ 7.53673961e-01,  6.90842040e-01,  7.19993847e-01,\n",
       "         6.72226282e-01,  8.10511431e-01],\n",
       "       [ 7.53672573e-01,  6.90850198e-01,  7.19991825e-01,\n",
       "         6.72221137e-01,  8.10524716e-01],\n",
       "       [ 7.53670828e-01,  6.90860478e-01,  7.19989273e-01,\n",
       "         6.72214646e-01,  8.10541445e-01],\n",
       "       [ 7.53668638e-01,  6.90873427e-01,  7.19986052e-01,\n",
       "         6.72206459e-01,  8.10562496e-01],\n",
       "       [ 7.53665893e-01,  6.90889731e-01,  7.19981988e-01,\n",
       "         6.72196133e-01,  8.10588968e-01],\n",
       "       [ 7.53662459e-01,  6.90910247e-01,  7.19976860e-01,\n",
       "         6.72183111e-01,  8.10622227e-01],\n",
       "       [ 7.53658172e-01,  6.90936044e-01,  7.19970388e-01,\n",
       "         6.72166691e-01,  8.10663966e-01],\n",
       "       [ 7.53652837e-01,  6.90968452e-01,  7.19962222e-01,\n",
       "         6.72145991e-01,  8.10716273e-01],\n",
       "       [ 7.53646224e-01,  6.91009120e-01,  7.19951916e-01,\n",
       "         6.72119903e-01,  8.10781704e-01],\n",
       "       [ 7.53638065e-01,  6.91060079e-01,  7.19938912e-01,\n",
       "         6.72087035e-01,  8.10863371e-01],\n",
       "       [ 7.53628067e-01,  6.91123822e-01,  7.19922503e-01,\n",
       "         6.72045642e-01,  8.10965011e-01],\n",
       "       [ 7.53615919e-01,  6.91203378e-01,  7.19901803e-01,\n",
       "         6.71993542e-01,  8.11091059e-01],\n",
       "       [ 7.53601330e-01,  6.91302399e-01,  7.19875693e-01,\n",
       "         6.71928009e-01,  8.11246682e-01],\n",
       "       [ 7.53584086e-01,  6.91425233e-01,  7.19842773e-01,\n",
       "         6.71845653e-01,  8.11437747e-01],\n",
       "       [ 7.53564152e-01,  6.91576975e-01,  7.19801290e-01,\n",
       "         6.71742276e-01,  8.11670689e-01],\n",
       "       [ 7.53541852e-01,  6.91763486e-01,  7.19749068e-01,\n",
       "         6.71612704e-01,  8.11952220e-01],\n",
       "       [ 7.53518143e-01,  6.91991344e-01,  7.19683418e-01,\n",
       "         6.71450606e-01,  8.12288794e-01],\n",
       "       [ 7.53495054e-01,  6.92267710e-01,  7.19601058e-01,\n",
       "         6.71248315e-01,  8.12685766e-01],\n",
       "       [ 7.53476334e-01,  6.92600081e-01,  7.19498042e-01,\n",
       "         6.70996653e-01,  8.13146172e-01],\n",
       "       [ 7.53468396e-01,  6.92995946e-01,  7.19369721e-01,\n",
       "         6.70684806e-01,  8.13669106e-01],\n",
       "       [ 7.53481589e-01,  6.93462347e-01,  7.19210754e-01,\n",
       "         6.70300282e-01,  8.14247788e-01],\n",
       "       [ 7.53531830e-01,  6.94005476e-01,  7.19015187e-01,\n",
       "         6.69828993e-01,  8.14867506e-01],\n",
       "       [ 7.53642476e-01,  6.94630412e-01,  7.18776591e-01,\n",
       "         6.69255477e-01,  8.15503823e-01],\n",
       "       [ 7.53846155e-01,  6.95341215e-01,  7.18488150e-01,\n",
       "         6.68563240e-01,  8.16121506e-01],\n",
       "       [ 7.54186017e-01,  6.96141479e-01,  7.18142526e-01,\n",
       "         6.67735093e-01,  8.16674560e-01],\n",
       "       [ 7.54715613e-01,  6.97035314e-01,  7.17731173e-01,\n",
       "         6.66753237e-01,  8.17107466e-01],\n",
       "       [ 7.55496506e-01,  6.98028466e-01,  7.17242685e-01,\n",
       "         6.65598772e-01,  8.17357193e-01],\n",
       "       [ 7.56592814e-01,  6.99128940e-01,  7.16659845e-01,\n",
       "         6.64250244e-01,  8.17355008e-01],\n",
       "       [ 7.58062375e-01,  7.00346391e-01,  7.15955291e-01,\n",
       "         6.62680984e-01,  8.17026886e-01],\n",
       "       [ 7.59944946e-01,  7.01689573e-01,  7.15086121e-01,\n",
       "         6.60855178e-01,  8.16291580e-01],\n",
       "       [ 7.62248546e-01,  7.03161377e-01,  7.13988199e-01,\n",
       "         6.58722842e-01,  8.15056109e-01],\n",
       "       [ 7.64935658e-01,  7.04751238e-01,  7.12571061e-01,\n",
       "         6.56214016e-01,  8.13209250e-01],\n",
       "       [ 7.67911051e-01,  7.06424768e-01,  7.10714138e-01,\n",
       "         6.53232487e-01,  8.10614236e-01],\n",
       "       [ 7.71012689e-01,  7.08110469e-01,  7.08264443e-01,\n",
       "         6.49649372e-01,  8.07102083e-01],\n",
       "       [ 7.74006426e-01,  7.09683662e-01,  7.05035414e-01,\n",
       "         6.45297090e-01,  8.02466906e-01],\n",
       "       [ 7.76584368e-01,  7.10948673e-01,  7.00806443e-01,\n",
       "         6.39964837e-01,  7.96464527e-01],\n",
       "       [ 7.78366220e-01,  7.11621979e-01,  6.95323284e-01,\n",
       "         6.33397486e-01,  7.88815655e-01],\n",
       "       [ 7.78903142e-01,  7.11321017e-01,  6.88300568e-01,\n",
       "         6.25300554e-01,  7.79214943e-01],\n",
       "       [ 7.77684450e-01,  7.09564731e-01,  6.79428647e-01,\n",
       "         6.15353704e-01,  7.67346674e-01],\n",
       "       [ 7.74148445e-01,  7.05791257e-01,  6.68386759e-01,\n",
       "         6.03233551e-01,  7.52906337e-01],\n",
       "       [ 7.67698673e-01,  6.99394715e-01,  6.54862842e-01,\n",
       "         5.88643314e-01,  7.35624878e-01],\n",
       "       [ 7.57726051e-01,  6.89777166e-01,  6.38577508e-01,\n",
       "         5.71343300e-01,  7.15290034e-01],\n",
       "       [ 7.43636078e-01,  6.76405709e-01,  6.19307359e-01,\n",
       "         5.51174390e-01,  6.91758758e-01],\n",
       "       [ 7.24880510e-01,  6.58862049e-01,  5.96902762e-01,\n",
       "         5.28068676e-01,  6.64958002e-01],\n",
       "       [ 7.00994938e-01,  6.36875268e-01,  5.71298215e-01,\n",
       "         5.02047174e-01,  6.34877701e-01],\n",
       "       [ 6.71646443e-01,  6.10337650e-01,  5.42518571e-01,\n",
       "         4.73211748e-01,  6.01566626e-01],\n",
       "       [ 6.36695544e-01,  5.79313142e-01,  5.10688538e-01,\n",
       "         4.41742625e-01,  5.65144078e-01],\n",
       "       [ 5.96270671e-01,  5.44051497e-01,  4.76052197e-01,\n",
       "         4.07910570e-01,  5.25834671e-01],\n",
       "       [ 5.50841097e-01,  5.05013626e-01,  4.39002093e-01,\n",
       "         3.72103315e-01,  4.84020025e-01],\n",
       "       [ 5.01261516e-01,  4.62898063e-01,  4.00106228e-01,\n",
       "         3.34853411e-01,  4.40286221e-01],\n",
       "       [ 4.48757870e-01,  4.18645019e-01,  3.60113308e-01,\n",
       "         2.96846785e-01,  3.95438645e-01],\n",
       "       [ 3.94837154e-01,  3.73394597e-01,  3.19918982e-01,\n",
       "         2.58894612e-01,  3.50463380e-01],\n",
       "       [ 3.41130616e-01,  3.28392431e-01,  2.80490005e-01,\n",
       "         2.21865532e-01,  3.06434950e-01],\n",
       "       [ 2.89206548e-01,  2.84860086e-01,  2.42761743e-01,\n",
       "         1.86593179e-01,  2.64393131e-01],\n",
       "       [ 2.40400397e-01,  2.43864199e-01,  2.07536485e-01,\n",
       "         1.53784870e-01,  2.25223775e-01],\n",
       "       [ 1.95700786e-01,  2.06218242e-01,  1.75408902e-01,\n",
       "         1.23955742e-01,  1.89574487e-01],\n",
       "       [ 1.55707327e-01,  1.72436198e-01,  1.46733069e-01,\n",
       "         9.74010763e-02,  1.57820116e-01],\n",
       "       [ 1.20652888e-01,  1.42738371e-01,  1.21630433e-01,\n",
       "         7.42057055e-02,  1.30075234e-01],\n",
       "       [ 9.04687752e-02,  1.17095495e-01,  1.00027356e-01,\n",
       "         5.42797006e-02,  1.06239135e-01],\n",
       "       [ 6.48683180e-02,  9.52922204e-02,  8.17070938e-02,\n",
       "         3.74064518e-02,  8.60556426e-02],\n",
       "       [ 4.34292992e-02,  7.69932491e-02,  6.63630768e-02,\n",
       "         2.32912922e-02,  6.91730553e-02],\n",
       "       [ 2.56634729e-02,  6.18011990e-02,  5.36450121e-02,\n",
       "         1.16031585e-02,  5.51951446e-02],\n",
       "       [ 1.10686056e-02,  4.93011813e-02,  4.31940362e-02,\n",
       "         2.00607614e-03,  4.37194819e-02],\n",
       "       [-8.36662527e-04,  3.90914797e-02,  3.46666018e-02,\n",
       "        -5.81966283e-03,  3.43630943e-02],\n",
       "       [-1.04923038e-02,  3.08021849e-02,  2.77486962e-02,\n",
       "        -1.21650826e-02,  2.67774414e-02],\n",
       "       [-1.82871142e-02,  2.41045886e-02,  2.21626987e-02,\n",
       "        -1.72867243e-02,  2.06553752e-02],\n",
       "       [-2.45562301e-02,  1.87141379e-02,  1.76691530e-02,\n",
       "        -2.14053836e-02,  1.57326288e-02],\n",
       "       [-2.95831782e-02,  1.43893045e-02,  1.40653482e-02,\n",
       "        -2.47076707e-02,  1.17859182e-02],\n",
       "       [-3.36044185e-02,  1.09281355e-02,  1.11821240e-02,\n",
       "        -2.73491172e-02,  8.62919480e-03],\n",
       "       [-3.68149951e-02,  8.16371378e-03,  8.87987637e-03,\n",
       "        -2.94579573e-02,  6.10909754e-03],\n",
       "       [-3.93744186e-02,  5.95931554e-03,  7.04438482e-03,\n",
       "        -3.11390316e-02,  4.10026628e-03],\n",
       "       [-4.14122701e-02,  4.20373206e-03,  5.58282636e-03,\n",
       "        -3.24774914e-02,  2.50089956e-03],\n",
       "       [-4.30332674e-02,  2.80700439e-03,  4.42016596e-03,\n",
       "        -3.35421392e-02,  1.22875177e-03],\n",
       "       [-4.43216879e-02,  1.69667672e-03,  3.49600020e-03,\n",
       "        -3.43883418e-02,  2.17644984e-04],\n",
       "       [-4.53451395e-02,  8.14588931e-04,  2.76186353e-03,\n",
       "        -3.50605111e-02, -5.85500484e-04],\n",
       "       [-4.61577194e-02,  1.14180978e-04,  2.17896958e-03,\n",
       "        -3.55941817e-02, -1.22315159e-03],\n",
       "       [-4.68026270e-02, -4.41741933e-04,  1.71634154e-03,\n",
       "        -3.60177285e-02, -1.72921705e-03],\n",
       "       [-4.73143041e-02, -8.82843511e-04,  1.34927967e-03,\n",
       "        -3.63537735e-02, -2.13072954e-03],\n",
       "       [-4.77201761e-02, -1.23275001e-03,  1.05811450e-03,\n",
       "        -3.66203295e-02, -2.44921334e-03],\n",
       "       [-4.80420596e-02, -1.51025937e-03,  8.27198208e-04,\n",
       "        -3.68317254e-02, -2.70178991e-03],\n",
       "       [-4.82972956e-02, -1.73031561e-03,  6.44092325e-04,\n",
       "        -3.69993504e-02, -2.90206795e-03],\n",
       "       [-4.84996594e-02, -1.90479115e-03,  4.98915741e-04,\n",
       "        -3.71322514e-02, -3.06085742e-03],\n",
       "       [-4.86600880e-02, -2.04311329e-03,  3.83822859e-04,\n",
       "        -3.72376117e-02, -3.18674094e-03],\n",
       "       [-4.87872619e-02, -2.15276467e-03,  2.92586748e-04,\n",
       "        -3.73211320e-02, -3.28653013e-03],\n",
       "       [-4.88880682e-02, -2.23968253e-03,  2.20266746e-04,\n",
       "        -3.73873356e-02, -3.36562934e-03],\n",
       "       [-4.89679701e-02, -2.30857666e-03,  1.62943736e-04,\n",
       "        -3.74398104e-02, -3.42832542e-03],\n",
       "       [-4.90313001e-02, -2.36318237e-03,  1.17509544e-04,\n",
       "        -3.74814017e-02, -3.47801810e-03],\n",
       "       [-4.90814939e-02, -2.40646168e-03,  8.14995237e-05,\n",
       "        -3.75143659e-02, -3.51740315e-03],\n",
       "       [-4.91212752e-02, -2.44076306e-03,  5.29595601e-05,\n",
       "        -3.75404918e-02, -3.54861794e-03],\n",
       "       [-4.91528034e-02, -2.46794837e-03,  3.03404698e-05,\n",
       "        -3.75611976e-02, -3.57335688e-03],\n",
       "       [-4.91777904e-02, -2.48949356e-03,  1.24141867e-05,\n",
       "        -3.75776076e-02, -3.59296317e-03],\n",
       "       [-4.91975931e-02, -2.50656857e-03, -1.79273982e-06,\n",
       "        -3.75906128e-02, -3.60850152e-03],\n",
       "       [-4.92132870e-02, -2.52010073e-03, -1.30518967e-05,\n",
       "        -3.76009195e-02, -3.62081583e-03],\n",
       "       [-4.92257244e-02, -2.53082505e-03, -2.19748439e-05,\n",
       "        -3.76090877e-02, -3.63057498e-03],\n",
       "       [-4.92355811e-02, -2.53932409e-03, -2.90462888e-05,\n",
       "        -3.76155610e-02, -3.63830912e-03],\n",
       "       [-4.92433925e-02, -2.54605957e-03, -3.46503898e-05,\n",
       "        -3.76206910e-02, -3.64443840e-03],\n",
       "       [-4.92495830e-02, -2.55139739e-03, -3.90916078e-05,\n",
       "        -3.76247565e-02, -3.64929581e-03]])"
      ]
     },
     "execution_count": 39,
     "metadata": {},
     "output_type": "execute_result"
    }
   ],
   "source": [
    "test_score"
   ]
  },
  {
   "cell_type": "code",
   "execution_count": 41,
   "metadata": {},
   "outputs": [],
   "source": [
    "train_mean = np.mean(train_score, axis=1)\n",
    "test_mean = np.mean(test_score, axis=1)"
   ]
  },
  {
   "cell_type": "code",
   "execution_count": 42,
   "metadata": {},
   "outputs": [
    {
     "data": {
      "text/plain": [
       "array([7.61068258e-01, 7.61068254e-01, 7.61068247e-01, 7.61068236e-01,\n",
       "       7.61068218e-01, 7.61068190e-01, 7.61068146e-01, 7.61068076e-01,\n",
       "       7.61067964e-01, 7.61067788e-01, 7.61067508e-01, 7.61067066e-01,\n",
       "       7.61066368e-01, 7.61065270e-01, 7.61063545e-01, 7.61060847e-01,\n",
       "       7.61056644e-01, 7.61050134e-01, 7.61040117e-01, 7.61024831e-01,\n",
       "       7.61001737e-01, 7.60967263e-01, 7.60916533e-01, 7.60843115e-01,\n",
       "       7.60738875e-01, 7.60594007e-01, 7.60397285e-01, 7.60136500e-01,\n",
       "       7.59798843e-01, 7.59370848e-01, 7.58837339e-01, 7.58178932e-01,\n",
       "       7.57367868e-01, 7.56362328e-01, 7.55099658e-01, 7.53489015e-01,\n",
       "       7.51403879e-01, 7.48674858e-01, 7.45083521e-01, 7.40358646e-01,\n",
       "       7.34177159e-01, 7.26172420e-01, 7.15951706e-01, 7.03122337e-01,\n",
       "       6.87322522e-01, 6.68250488e-01, 6.45685936e-01, 6.19502266e-01,\n",
       "       5.89674561e-01, 5.56292973e-01, 5.19589348e-01, 4.79975190e-01,\n",
       "       4.38075519e-01, 3.94734657e-01, 3.50974358e-01, 3.07902495e-01,\n",
       "       2.66592073e-01, 2.27963273e-01, 1.92698575e-01, 1.61206477e-01,\n",
       "       1.33631982e-01, 1.09900176e-01, 8.97754630e-02, 7.29217042e-02,\n",
       "       5.89538813e-02, 4.74772920e-02, 3.81140671e-02, 3.05188929e-02,\n",
       "       2.43865612e-02, 1.94538962e-02, 1.54981662e-02, 1.23335472e-02,\n",
       "       9.80671282e-03, 7.79223591e-03, 6.18819991e-03, 4.91222787e-03,\n",
       "       3.89801195e-03, 3.09235292e-03, 2.45267851e-03, 1.94498986e-03,\n",
       "       1.54217857e-03, 1.22265764e-03, 9.69254229e-04, 7.68317827e-04,\n",
       "       6.09004669e-04, 4.82704901e-04, 3.82585080e-04, 3.03223354e-04,\n",
       "       2.40318933e-04, 1.90460963e-04, 1.50944793e-04, 1.19626026e-04,\n",
       "       9.48046322e-05, 7.51329666e-05, 5.95427951e-05, 4.71874029e-05,\n",
       "       3.73956847e-05, 2.96357389e-05, 2.34860035e-05, 1.86123738e-05])"
      ]
     },
     "execution_count": 42,
     "metadata": {},
     "output_type": "execute_result"
    }
   ],
   "source": [
    "train_mean"
   ]
  },
  {
   "cell_type": "code",
   "execution_count": 43,
   "metadata": {},
   "outputs": [
    {
     "data": {
      "text/plain": [
       "0.761068257951735"
      ]
     },
     "execution_count": 43,
     "metadata": {},
     "output_type": "execute_result"
    }
   ],
   "source": [
    "max(train_mean)"
   ]
  },
  {
   "cell_type": "code",
   "execution_count": 44,
   "metadata": {},
   "outputs": [
    {
     "data": {
      "text/plain": [
       "0.7308143855539941"
      ]
     },
     "execution_count": 44,
     "metadata": {},
     "output_type": "execute_result"
    }
   ],
   "source": [
    "max(test_mean)"
   ]
  },
  {
   "cell_type": "code",
   "execution_count": 45,
   "metadata": {},
   "outputs": [
    {
     "data": {
      "text/plain": [
       "<seaborn.axisgrid.JointGrid at 0x1fa56f76348>"
      ]
     },
     "execution_count": 45,
     "metadata": {},
     "output_type": "execute_result"
    },
    {
     "data": {
      "image/png": "[encoded data removed]",
      "text/plain": [
       "<Figure size 432x432 with 3 Axes>"
      ]
     },
     "metadata": {
      "needs_background": "light"
     },
     "output_type": "display_data"
    }
   ],
   "source": [
    "sns.jointplot(x=np.log(param_range), y=test_mean)"
   ]
  },
  {
   "cell_type": "code",
   "execution_count": 47,
   "metadata": {},
   "outputs": [
    {
     "data": {
      "text/plain": [
       "(array([31], dtype=int64),)"
      ]
     },
     "execution_count": 47,
     "metadata": {},
     "output_type": "execute_result"
    }
   ],
   "source": [
    "np.where(test_mean == max(test_mean))"
   ]
  },
  {
   "cell_type": "code",
   "execution_count": 48,
   "metadata": {},
   "outputs": [
    {
     "data": {
      "text/plain": [
       "13.530477745798061"
      ]
     },
     "execution_count": 48,
     "metadata": {},
     "output_type": "execute_result"
    }
   ],
   "source": [
    "param_range[31]"
   ]
  },
  {
   "cell_type": "code",
   "execution_count": 49,
   "metadata": {},
   "outputs": [],
   "source": [
    "lm_r_best = Ridge(alpha=param_range[31])"
   ]
  },
  {
   "cell_type": "code",
   "execution_count": 50,
   "metadata": {},
   "outputs": [
    {
     "data": {
      "text/plain": [
       "Ridge(alpha=13.530477745798061)"
      ]
     },
     "execution_count": 50,
     "metadata": {},
     "output_type": "execute_result"
    }
   ],
   "source": [
    "lm_r_best.fit(X_train_s, y_train)"
   ]
  },
  {
   "cell_type": "code",
   "execution_count": 55,
   "metadata": {},
   "outputs": [
    {
     "data": {
      "text/plain": [
       "0.5378873990675059"
      ]
     },
     "execution_count": 55,
     "metadata": {},
     "output_type": "execute_result"
    }
   ],
   "source": [
    "r2_score(y_test, lm_r_best.predict(X_test_s))"
   ]
  },
  {
   "cell_type": "code",
   "execution_count": 54,
   "metadata": {},
   "outputs": [
    {
     "data": {
      "text/plain": [
       "0.7560873419183785"
      ]
     },
     "execution_count": 54,
     "metadata": {},
     "output_type": "execute_result"
    }
   ],
   "source": [
    "r2_score(y_train, lm_r_best.predict(X_train_s))"
   ]
  },
  {
   "cell_type": "code",
   "execution_count": 65,
   "metadata": {},
   "outputs": [],
   "source": [
    "from sklearn.linear_model import Lasso\n",
    "lml = Lasso(alpha = 0.5)"
   ]
  },
  {
   "cell_type": "code",
   "execution_count": 66,
   "metadata": {},
   "outputs": [
    {
     "data": {
      "text/plain": [
       "Lasso(alpha=0.5)"
      ]
     },
     "execution_count": 66,
     "metadata": {},
     "output_type": "execute_result"
    }
   ],
   "source": [
    "lml.fit(X_train_s, y_train)"
   ]
  },
  {
   "cell_type": "code",
   "execution_count": 67,
   "metadata": {},
   "outputs": [
    {
     "data": {
      "text/plain": [
       "0.5067644474039139"
      ]
     },
     "execution_count": 67,
     "metadata": {},
     "output_type": "execute_result"
    }
   ],
   "source": [
    "r2_score(y_test, lml.predict(X_test_s))"
   ]
  },
  {
   "cell_type": "code",
   "execution_count": 68,
   "metadata": {},
   "outputs": [
    {
     "data": {
      "text/plain": [
       "0.7220318471291185"
      ]
     },
     "execution_count": 68,
     "metadata": {},
     "output_type": "execute_result"
    }
   ],
   "source": [
    "r2_score(y_train, lml.predict(X_train_s))"
   ]
  },
  {
   "cell_type": "code",
   "execution_count": 61,
   "metadata": {},
   "outputs": [],
   "source": [
    "lml_best = Lasso(alpha=param_range[31])"
   ]
  },
  {
   "cell_type": "code",
   "execution_count": 62,
   "metadata": {},
   "outputs": [
    {
     "data": {
      "text/plain": [
       "Lasso(alpha=13.530477745798061)"
      ]
     },
     "execution_count": 62,
     "metadata": {},
     "output_type": "execute_result"
    }
   ],
   "source": [
    "lml_best.fit(X_train_s, y_train)"
   ]
  },
  {
   "cell_type": "code",
   "execution_count": 63,
   "metadata": {},
   "outputs": [
    {
     "data": {
      "text/plain": [
       "-0.001889737528507185"
      ]
     },
     "execution_count": 63,
     "metadata": {},
     "output_type": "execute_result"
    }
   ],
   "source": [
    "r2_score(y_test, lml_best.predict(X_test_s))"
   ]
  },
  {
   "cell_type": "code",
   "execution_count": 64,
   "metadata": {},
   "outputs": [
    {
     "data": {
      "text/plain": [
       "0.0"
      ]
     },
     "execution_count": 64,
     "metadata": {},
     "output_type": "execute_result"
    }
   ],
   "source": [
    "r2_score(y_train, lml_best.predict(X_train_s))"
   ]
  },
  {
   "cell_type": "code",
   "execution_count": null,
   "metadata": {},
   "outputs": [],
   "source": []
  }
 ],
 "metadata": {
  "kernelspec": {
   "display_name": "Python 3",
   "language": "python",
   "name": "python3"
  },
  "language_info": {
   "codemirror_mode": {
    "name": "ipython",
    "version": 3
   },
   "file_extension": ".py",
   "mimetype": "text/x-python",
   "name": "python",
   "nbconvert_exporter": "python",
   "pygments_lexer": "ipython3",
   "version": "3.7.9"
  }
 },
 "nbformat": 4,
 "nbformat_minor": 4
}
