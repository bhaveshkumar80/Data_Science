{
 "cells": [
  {
   "cell_type": "code",
   "execution_count": 1,
   "metadata": {},
   "outputs": [],
   "source": [
    "import tensorflow as tf\n",
    "import tensorflow.keras as keras"
   ]
  },
  {
   "cell_type": "code",
   "execution_count": 2,
   "metadata": {},
   "outputs": [
    {
     "data": {
      "text/plain": [
       "'2.1.0'"
      ]
     },
     "execution_count": 2,
     "metadata": {},
     "output_type": "execute_result"
    }
   ],
   "source": [
    "tf.__version__"
   ]
  },
  {
   "cell_type": "code",
   "execution_count": 3,
   "metadata": {},
   "outputs": [
    {
     "data": {
      "text/plain": [
       "'2.2.4-tf'"
      ]
     },
     "execution_count": 3,
     "metadata": {},
     "output_type": "execute_result"
    }
   ],
   "source": [
    "keras.__version__"
   ]
  },
  {
   "cell_type": "code",
   "execution_count": 4,
   "metadata": {},
   "outputs": [
    {
     "name": "stdout",
     "output_type": "stream",
     "text": [
      "Downloading data from https://storage.googleapis.com/tensorflow/tf-keras-datasets/train-labels-idx1-ubyte.gz\n",
      "32768/29515 [=================================] - 0s 3us/step\n",
      "Downloading data from https://storage.googleapis.com/tensorflow/tf-keras-datasets/train-images-idx3-ubyte.gz\n",
      "26427392/26421880 [==============================] - 8s 0us/step\n",
      "Downloading data from https://storage.googleapis.com/tensorflow/tf-keras-datasets/t10k-labels-idx1-ubyte.gz\n",
      "8192/5148 [===============================================] - 0s 0us/step\n",
      "Downloading data from https://storage.googleapis.com/tensorflow/tf-keras-datasets/t10k-images-idx3-ubyte.gz\n",
      "4423680/4422102 [==============================] - 1s 0us/step\n"
     ]
    }
   ],
   "source": [
    "fashion_mnist = keras.datasets.fashion_mnist\n",
    "(X_train, y_train), (X_test, y_test) = fashion_mnist.load_data()"
   ]
  },
  {
   "cell_type": "code",
   "execution_count": 18,
   "metadata": {},
   "outputs": [
    {
     "data": {
      "text/plain": [
       "<matplotlib.image.AxesImage at 0x27aa79664c8>"
      ]
     },
     "execution_count": 18,
     "metadata": {},
     "output_type": "execute_result"
    },
    {
     "data": {
      "image/png": "[encoded data removed]",
      "text/plain": [
       "<Figure size 432x288 with 1 Axes>"
      ]
     },
     "metadata": {
      "needs_background": "light"
     },
     "output_type": "display_data"
    }
   ],
   "source": [
    "import matplotlib.pyplot as plt\n",
    "plt.imshow(X_train[3])"
   ]
  },
  {
   "cell_type": "code",
   "execution_count": 11,
   "metadata": {},
   "outputs": [
    {
     "data": {
      "text/plain": [
       "0"
      ]
     },
     "execution_count": 11,
     "metadata": {},
     "output_type": "execute_result"
    }
   ],
   "source": [
    "y_train[1]"
   ]
  },
  {
   "cell_type": "code",
   "execution_count": 12,
   "metadata": {},
   "outputs": [],
   "source": [
    "class_names = ['T-shirt/top', 'Trouser', 'Pullover', 'Dress','Coat', 'Sandal', 'Shirt', 'Sneaker', 'Bag', 'Ankle boot']"
   ]
  },
  {
   "cell_type": "code",
   "execution_count": 16,
   "metadata": {},
   "outputs": [
    {
     "data": {
      "text/plain": [
       "'Dress'"
      ]
     },
     "execution_count": 16,
     "metadata": {},
     "output_type": "execute_result"
    }
   ],
   "source": [
    "class_names[y_train[3]]"
   ]
  },
  {
   "cell_type": "code",
   "execution_count": 19,
   "metadata": {},
   "outputs": [
    {
     "data": {
      "text/plain": [
       "array([[  0,   0,   0,   0,   0,   0,   0,  11, 142, 200, 106,   0,   0,\n",
       "          0,   0,   0,   0,   0,  85, 185, 112,   0,   0,   0,   0,   0,\n",
       "          0,   0],\n",
       "       [  0,   0,   0,   0,   0,   0, 152, 214, 217, 194, 236, 216, 187,\n",
       "        149, 135, 153, 211, 217, 231, 205, 217, 188,  34,   0,   0,   0,\n",
       "          0,   0],\n",
       "       [  0,   0,   0,   0,   0,  66, 185, 166, 180, 181, 190, 211, 221,\n",
       "        197, 146, 198, 206, 191, 168, 190, 172, 188, 175,   0,   0,   0,\n",
       "          0,   0],\n",
       "       [  0,   0,   0,   0,   0, 135, 153, 160, 175, 180, 170, 186, 187,\n",
       "        190, 188, 190, 187, 174, 195, 185, 174, 161, 175,  59,   0,   0,\n",
       "          0,   0],\n",
       "       [  0,   0,   0,   0,   0, 161, 147, 160, 170, 178, 177, 180, 168,\n",
       "        173, 174, 171, 185, 184, 185, 172, 171, 164, 174, 120,   0,   0,\n",
       "          0,   0],\n",
       "       [  0,   0,   0,   0,   2, 175, 146, 145, 168, 178, 181, 185, 180,\n",
       "        184, 178, 179, 187, 191, 193, 190, 181, 171, 172, 158,   0,   0,\n",
       "          0,   0],\n",
       "       [  0,   0,   0,   0,  35, 177, 155, 140, 151, 172, 191, 187, 186,\n",
       "        187, 186, 187, 182, 191, 194, 188, 180, 161, 161, 185,   0,   0,\n",
       "          0,   0],\n",
       "       [  0,   0,   0,   0,  59, 170, 153, 141, 120, 154, 160, 161, 172,\n",
       "        168, 166, 161, 165, 172, 170, 164, 139, 149, 162, 166,  21,   0,\n",
       "          0,   0],\n",
       "       [  0,   0,   0,   0,  79, 145, 160, 214, 123, 128, 153, 160, 164,\n",
       "        158, 157, 154, 155, 170, 165, 141, 195, 193, 152, 166,  61,   0,\n",
       "          0,   0],\n",
       "       [  0,   0,   0,   0, 100, 157, 225, 245, 175, 113, 174, 158, 158,\n",
       "        160, 155, 160, 164, 178, 188, 135, 185, 240, 201, 172, 108,   0,\n",
       "          0,   0],\n",
       "       [  0,   0,   0,   0,   0,  31, 174,  28, 126, 153, 166, 152, 158,\n",
       "        158, 160, 161, 157, 168, 191, 188,  18, 132, 159,   7,   0,   0,\n",
       "          0,   0],\n",
       "       [  0,   0,   0,   0,   0,   0,   0,   0,  82, 187, 159, 153, 157,\n",
       "        158, 162, 164, 164, 154, 187, 190,   0,   0,   0,   0,   0,   0,\n",
       "          0,   0],\n",
       "       [  0,   0,   0,   0,   1,   3,   5,   0,  37, 175, 158, 155, 162,\n",
       "        158, 160, 162, 165, 153, 177, 205,   0,   0,   3,   3,   0,   0,\n",
       "          0,   0],\n",
       "       [  0,   0,   0,   0,   0,   0,   1,   0,  25, 175, 152, 160, 158,\n",
       "        161, 160, 164, 164, 161, 166, 200,   0,   0,   1,   0,   0,   0,\n",
       "          0,   0],\n",
       "       [  0,   0,   0,   0,   0,   0,   4,   0,  30, 171, 147, 164, 155,\n",
       "        165, 161, 165, 162, 170, 164, 162,   0,   0,   2,   0,   0,   0,\n",
       "          0,   0],\n",
       "       [  0,   0,   0,   0,   0,   0,   4,   0,  57, 166, 155, 164, 166,\n",
       "        161, 161, 164, 167, 165, 165, 162,  28,   0,   3,   0,   0,   0,\n",
       "          0,   0],\n",
       "       [  0,   0,   0,   0,   0,   0,   3,   0, 114, 161, 161, 166, 159,\n",
       "        168, 161, 161, 172, 162, 165, 171,  50,   0,   5,   0,   0,   0,\n",
       "          0,   0],\n",
       "       [  0,   0,   0,   0,   0,   0,   1,   0, 149, 157, 167, 172, 159,\n",
       "        172, 164, 161, 172, 170, 160, 171,  89,   0,   4,   0,   0,   0,\n",
       "          0,   0],\n",
       "       [  0,   0,   0,   0,   0,   2,   0,   4, 171, 164, 166, 173, 159,\n",
       "        179, 166, 160, 174, 167, 162, 166, 128,   0,   2,   0,   0,   0,\n",
       "          0,   0],\n",
       "       [  0,   0,   0,   0,   0,   3,   0,  18, 152, 173, 160, 179, 154,\n",
       "        181, 166, 164, 175, 170, 166, 170, 164,   0,   0,   1,   0,   0,\n",
       "          0,   0],\n",
       "       [  0,   0,   0,   0,   0,   4,   0,  47, 165, 172, 167, 185, 153,\n",
       "        187, 173, 165, 174, 179, 166, 166, 158,   5,   0,   3,   0,   0,\n",
       "          0,   0],\n",
       "       [  0,   0,   0,   0,   0,   4,   0,  87, 180, 162, 179, 179, 157,\n",
       "        191, 182, 165, 168, 190, 173, 165, 166,  20,   0,   4,   0,   0,\n",
       "          0,   0],\n",
       "       [  0,   0,   0,   0,   0,   4,   0, 105, 187, 157, 194, 175, 161,\n",
       "        190, 184, 170, 158, 205, 177, 168, 171,  44,   0,   4,   0,   0,\n",
       "          0,   0],\n",
       "       [  0,   0,   0,   0,   0,   5,   0, 138, 181, 158, 205, 160, 167,\n",
       "        190, 198, 167, 152, 218, 186, 170, 172,  57,   0,   5,   0,   0,\n",
       "          0,   0],\n",
       "       [  0,   0,   0,   0,   0,   5,   0, 135, 174, 167, 199, 155, 166,\n",
       "        201, 219, 165, 158, 218, 188, 167, 175,  56,   0,   7,   0,   0,\n",
       "          0,   0],\n",
       "       [  0,   0,   0,   0,   0,   5,   0, 129, 171, 172, 177, 153, 159,\n",
       "        206, 216, 148, 157, 206, 190, 165, 175,  48,   0,   5,   0,   0,\n",
       "          0,   0],\n",
       "       [  0,   0,   0,   0,   0,   5,   0, 167, 187, 182, 198, 194, 200,\n",
       "        226, 240, 184, 206, 255, 197, 178, 179,  42,   0,   5,   0,   0,\n",
       "          0,   0],\n",
       "       [  0,   0,   0,   0,   0,   3,   0, 115, 135, 113, 106,  85,  82,\n",
       "        108, 133,  83,  90, 121, 120, 110, 158,  18,   0,   3,   0,   0,\n",
       "          0,   0]], dtype=uint8)"
      ]
     },
     "execution_count": 19,
     "metadata": {},
     "output_type": "execute_result"
    }
   ],
   "source": [
    "X_train[10]"
   ]
  },
  {
   "cell_type": "code",
   "execution_count": 20,
   "metadata": {},
   "outputs": [],
   "source": [
    "X_train_n = X_train / 255.0\n",
    "X_test_n = X_test / 255.0"
   ]
  },
  {
   "cell_type": "code",
   "execution_count": 21,
   "metadata": {},
   "outputs": [
    {
     "data": {
      "text/plain": [
       "(60000, 28, 28)"
      ]
     },
     "execution_count": 21,
     "metadata": {},
     "output_type": "execute_result"
    }
   ],
   "source": [
    "X_train_n.shape"
   ]
  },
  {
   "cell_type": "code",
   "execution_count": 22,
   "metadata": {},
   "outputs": [],
   "source": [
    "X_valid, X_train = X_train_n[:5000], X_train_n[5000:]\n",
    "y_valid, y_train = y_train[:5000], y_train[5000:]\n",
    "X_test = X_test_n"
   ]
  },
  {
   "cell_type": "code",
   "execution_count": 25,
   "metadata": {},
   "outputs": [
    {
     "data": {
      "text/plain": [
       "(5000, 28, 28)"
      ]
     },
     "execution_count": 25,
     "metadata": {},
     "output_type": "execute_result"
    }
   ],
   "source": [
    "X_valid.shape"
   ]
  },
  {
   "cell_type": "code",
   "execution_count": 26,
   "metadata": {},
   "outputs": [],
   "source": [
    "import numpy as np\n",
    "np.random.seed(42)\n",
    "tf.random.set_seed(42)"
   ]
  },
  {
   "cell_type": "code",
   "execution_count": 28,
   "metadata": {},
   "outputs": [],
   "source": [
    "model = keras.models.Sequential()\n",
    "model.add(keras.layers.Flatten(input_shape=[28, 28]))\n",
    "model.add(keras.layers.Dense(300, activation='relu'))\n",
    "model.add(keras.layers.Dense(100, activation='relu'))\n",
    "model.add(keras.layers.Dense(10, activation='softmax'))"
   ]
  },
  {
   "cell_type": "code",
   "execution_count": 29,
   "metadata": {},
   "outputs": [
    {
     "name": "stdout",
     "output_type": "stream",
     "text": [
      "Model: \"sequential\"\n",
      "_________________________________________________________________\n",
      "Layer (type)                 Output Shape              Param #   \n",
      "=================================================================\n",
      "flatten (Flatten)            (None, 784)               0         \n",
      "_________________________________________________________________\n",
      "dense (Dense)                (None, 300)               235500    \n",
      "_________________________________________________________________\n",
      "dense_1 (Dense)              (None, 100)               30100     \n",
      "_________________________________________________________________\n",
      "dense_2 (Dense)              (None, 10)                1010      \n",
      "=================================================================\n",
      "Total params: 266,610\n",
      "Trainable params: 266,610\n",
      "Non-trainable params: 0\n",
      "_________________________________________________________________\n"
     ]
    }
   ],
   "source": [
    "model.summary()"
   ]
  },
  {
   "cell_type": "code",
   "execution_count": 39,
   "metadata": {},
   "outputs": [],
   "source": [
    "weights, biases = model.layers[1].get_weights()"
   ]
  },
  {
   "cell_type": "code",
   "execution_count": 40,
   "metadata": {},
   "outputs": [
    {
     "data": {
      "text/plain": [
       "array([[ 0.02448617, -0.00877795, -0.02189048, ..., -0.02766046,\n",
       "         0.03859074, -0.06889391],\n",
       "       [ 0.00476504, -0.03105379, -0.0586676 , ...,  0.00602964,\n",
       "        -0.02763776, -0.04165364],\n",
       "       [-0.06189284, -0.06901957,  0.07102345, ..., -0.04238207,\n",
       "         0.07121518, -0.07331658],\n",
       "       ...,\n",
       "       [-0.03048757,  0.02155137, -0.05400612, ..., -0.00113463,\n",
       "         0.00228987,  0.05581069],\n",
       "       [ 0.07061854, -0.06960931,  0.07038955, ..., -0.00384101,\n",
       "         0.00034875,  0.02878492],\n",
       "       [-0.06022581,  0.01577859, -0.02585464, ..., -0.00527829,\n",
       "         0.00272203, -0.06793761]], dtype=float32)"
      ]
     },
     "execution_count": 40,
     "metadata": {},
     "output_type": "execute_result"
    }
   ],
   "source": [
    "weights"
   ]
  },
  {
   "cell_type": "code",
   "execution_count": 41,
   "metadata": {},
   "outputs": [
    {
     "data": {
      "text/plain": [
       "(784, 300)"
      ]
     },
     "execution_count": 41,
     "metadata": {},
     "output_type": "execute_result"
    }
   ],
   "source": [
    "weights.shape"
   ]
  },
  {
   "cell_type": "code",
   "execution_count": 42,
   "metadata": {},
   "outputs": [
    {
     "data": {
      "text/plain": [
       "array([0., 0., 0., 0., 0., 0., 0., 0., 0., 0., 0., 0., 0., 0., 0., 0., 0.,\n",
       "       0., 0., 0., 0., 0., 0., 0., 0., 0., 0., 0., 0., 0., 0., 0., 0., 0.,\n",
       "       0., 0., 0., 0., 0., 0., 0., 0., 0., 0., 0., 0., 0., 0., 0., 0., 0.,\n",
       "       0., 0., 0., 0., 0., 0., 0., 0., 0., 0., 0., 0., 0., 0., 0., 0., 0.,\n",
       "       0., 0., 0., 0., 0., 0., 0., 0., 0., 0., 0., 0., 0., 0., 0., 0., 0.,\n",
       "       0., 0., 0., 0., 0., 0., 0., 0., 0., 0., 0., 0., 0., 0., 0., 0., 0.,\n",
       "       0., 0., 0., 0., 0., 0., 0., 0., 0., 0., 0., 0., 0., 0., 0., 0., 0.,\n",
       "       0., 0., 0., 0., 0., 0., 0., 0., 0., 0., 0., 0., 0., 0., 0., 0., 0.,\n",
       "       0., 0., 0., 0., 0., 0., 0., 0., 0., 0., 0., 0., 0., 0., 0., 0., 0.,\n",
       "       0., 0., 0., 0., 0., 0., 0., 0., 0., 0., 0., 0., 0., 0., 0., 0., 0.,\n",
       "       0., 0., 0., 0., 0., 0., 0., 0., 0., 0., 0., 0., 0., 0., 0., 0., 0.,\n",
       "       0., 0., 0., 0., 0., 0., 0., 0., 0., 0., 0., 0., 0., 0., 0., 0., 0.,\n",
       "       0., 0., 0., 0., 0., 0., 0., 0., 0., 0., 0., 0., 0., 0., 0., 0., 0.,\n",
       "       0., 0., 0., 0., 0., 0., 0., 0., 0., 0., 0., 0., 0., 0., 0., 0., 0.,\n",
       "       0., 0., 0., 0., 0., 0., 0., 0., 0., 0., 0., 0., 0., 0., 0., 0., 0.,\n",
       "       0., 0., 0., 0., 0., 0., 0., 0., 0., 0., 0., 0., 0., 0., 0., 0., 0.,\n",
       "       0., 0., 0., 0., 0., 0., 0., 0., 0., 0., 0., 0., 0., 0., 0., 0., 0.,\n",
       "       0., 0., 0., 0., 0., 0., 0., 0., 0., 0., 0.], dtype=float32)"
      ]
     },
     "execution_count": 42,
     "metadata": {},
     "output_type": "execute_result"
    }
   ],
   "source": [
    "biases"
   ]
  },
  {
   "cell_type": "code",
   "execution_count": 43,
   "metadata": {},
   "outputs": [],
   "source": [
    "model.compile(loss='sparse_categorical_crossentropy', \n",
    "             optimizer=\"sgd\",\n",
    "             metrics=[\"accuracy\"])"
   ]
  },
  {
   "cell_type": "code",
   "execution_count": 44,
   "metadata": {},
   "outputs": [
    {
     "name": "stdout",
     "output_type": "stream",
     "text": [
      "Train on 55000 samples, validate on 5000 samples\n",
      "Epoch 1/30\n",
      "55000/55000 [==============================] - 11s 192us/sample - loss: 0.7226 - accuracy: 0.7641 - val_loss: 0.5073 - val_accuracy: 0.8320\n",
      "Epoch 2/30\n",
      "55000/55000 [==============================] - 8s 141us/sample - loss: 0.4844 - accuracy: 0.8323 - val_loss: 0.4538 - val_accuracy: 0.8488\n",
      "Epoch 3/30\n",
      "55000/55000 [==============================] - 7s 132us/sample - loss: 0.4414 - accuracy: 0.8463 - val_loss: 0.4377 - val_accuracy: 0.8506\n",
      "Epoch 4/30\n",
      "55000/55000 [==============================] - 7s 129us/sample - loss: 0.4130 - accuracy: 0.8548 - val_loss: 0.4153 - val_accuracy: 0.8562\n",
      "Epoch 5/30\n",
      "55000/55000 [==============================] - 8s 137us/sample - loss: 0.3927 - accuracy: 0.8617 - val_loss: 0.3815 - val_accuracy: 0.8638\n",
      "Epoch 6/30\n",
      "55000/55000 [==============================] - 8s 139us/sample - loss: 0.3769 - accuracy: 0.8667 - val_loss: 0.3723 - val_accuracy: 0.8678\n",
      "Epoch 7/30\n",
      "55000/55000 [==============================] - 7s 135us/sample - loss: 0.3625 - accuracy: 0.8727 - val_loss: 0.3699 - val_accuracy: 0.8702\n",
      "Epoch 8/30\n",
      "55000/55000 [==============================] - 9s 157us/sample - loss: 0.3516 - accuracy: 0.8745 - val_loss: 0.3660 - val_accuracy: 0.8702\n",
      "Epoch 9/30\n",
      "55000/55000 [==============================] - 7s 130us/sample - loss: 0.3419 - accuracy: 0.8773 - val_loss: 0.3437 - val_accuracy: 0.8792\n",
      "Epoch 10/30\n",
      "55000/55000 [==============================] - 7s 123us/sample - loss: 0.3324 - accuracy: 0.8811 - val_loss: 0.3514 - val_accuracy: 0.8766\n",
      "Epoch 11/30\n",
      "55000/55000 [==============================] - 8s 146us/sample - loss: 0.3240 - accuracy: 0.8840 - val_loss: 0.3367 - val_accuracy: 0.8810\n",
      "Epoch 12/30\n",
      "55000/55000 [==============================] - 8s 141us/sample - loss: 0.3160 - accuracy: 0.8872 - val_loss: 0.3319 - val_accuracy: 0.8834\n",
      "Epoch 13/30\n",
      "55000/55000 [==============================] - 8s 141us/sample - loss: 0.3073 - accuracy: 0.8905 - val_loss: 0.3319 - val_accuracy: 0.8828\n",
      "Epoch 14/30\n",
      "55000/55000 [==============================] - 8s 144us/sample - loss: 0.3017 - accuracy: 0.8922 - val_loss: 0.3240 - val_accuracy: 0.8856\n",
      "Epoch 15/30\n",
      "55000/55000 [==============================] - 7s 123us/sample - loss: 0.2953 - accuracy: 0.8937 - val_loss: 0.3170 - val_accuracy: 0.8892\n",
      "Epoch 16/30\n",
      "55000/55000 [==============================] - 7s 136us/sample - loss: 0.2899 - accuracy: 0.8963 - val_loss: 0.3246 - val_accuracy: 0.8886\n",
      "Epoch 17/30\n",
      "55000/55000 [==============================] - 8s 145us/sample - loss: 0.2834 - accuracy: 0.8991 - val_loss: 0.3166 - val_accuracy: 0.8916\n",
      "Epoch 18/30\n",
      "55000/55000 [==============================] - 9s 157us/sample - loss: 0.2782 - accuracy: 0.8999 - val_loss: 0.3102 - val_accuracy: 0.8898\n",
      "Epoch 19/30\n",
      "55000/55000 [==============================] - 8s 146us/sample - loss: 0.2730 - accuracy: 0.9022 - val_loss: 0.3179 - val_accuracy: 0.8844\n",
      "Epoch 20/30\n",
      "55000/55000 [==============================] - 7s 124us/sample - loss: 0.2680 - accuracy: 0.9039 - val_loss: 0.3206 - val_accuracy: 0.8850\n",
      "Epoch 21/30\n",
      "55000/55000 [==============================] - 8s 145us/sample - loss: 0.2634 - accuracy: 0.9046 - val_loss: 0.2998 - val_accuracy: 0.8950\n",
      "Epoch 22/30\n",
      "55000/55000 [==============================] - 7s 130us/sample - loss: 0.2577 - accuracy: 0.9070 - val_loss: 0.3100 - val_accuracy: 0.8884\n",
      "Epoch 23/30\n",
      "55000/55000 [==============================] - 9s 158us/sample - loss: 0.2539 - accuracy: 0.9089 - val_loss: 0.3000 - val_accuracy: 0.8914\n",
      "Epoch 24/30\n",
      "55000/55000 [==============================] - 8s 139us/sample - loss: 0.2492 - accuracy: 0.9104 - val_loss: 0.3105 - val_accuracy: 0.8838\n",
      "Epoch 25/30\n",
      "55000/55000 [==============================] - 8s 140us/sample - loss: 0.2453 - accuracy: 0.9127 - val_loss: 0.3077 - val_accuracy: 0.8900\n",
      "Epoch 26/30\n",
      "55000/55000 [==============================] - 8s 147us/sample - loss: 0.2408 - accuracy: 0.9141 - val_loss: 0.3252 - val_accuracy: 0.8822\n",
      "Epoch 27/30\n",
      "55000/55000 [==============================] - 7s 136us/sample - loss: 0.2368 - accuracy: 0.9152 - val_loss: 0.3105 - val_accuracy: 0.8870\n",
      "Epoch 28/30\n",
      "55000/55000 [==============================] - 7s 131us/sample - loss: 0.2323 - accuracy: 0.9179 - val_loss: 0.2927 - val_accuracy: 0.8942\n",
      "Epoch 29/30\n",
      "55000/55000 [==============================] - 7s 127us/sample - loss: 0.2288 - accuracy: 0.9183 - val_loss: 0.2998 - val_accuracy: 0.8930\n",
      "Epoch 30/30\n",
      "55000/55000 [==============================] - 7s 127us/sample - loss: 0.2258 - accuracy: 0.9189 - val_loss: 0.3025 - val_accuracy: 0.8894\n"
     ]
    }
   ],
   "source": [
    "model_history = model.fit(X_train, y_train, epochs=30, validation_data=(X_valid, y_valid))"
   ]
  },
  {
   "cell_type": "code",
   "execution_count": 45,
   "metadata": {},
   "outputs": [
    {
     "data": {
      "text/plain": [
       "{'batch_size': 32,\n",
       " 'epochs': 30,\n",
       " 'steps': 1719,\n",
       " 'samples': 55000,\n",
       " 'verbose': 0,\n",
       " 'do_validation': True,\n",
       " 'metrics': ['loss', 'accuracy', 'val_loss', 'val_accuracy']}"
      ]
     },
     "execution_count": 45,
     "metadata": {},
     "output_type": "execute_result"
    }
   ],
   "source": [
    "model_history.params"
   ]
  },
  {
   "cell_type": "code",
   "execution_count": 46,
   "metadata": {},
   "outputs": [
    {
     "data": {
      "text/plain": [
       "{'loss': [0.7225696415641091,\n",
       "  0.48439070107286625,\n",
       "  0.44139317091161556,\n",
       "  0.41302711292396893,\n",
       "  0.39265404234365986,\n",
       "  0.37694750641042535,\n",
       "  0.36247804353887386,\n",
       "  0.3515613202398474,\n",
       "  0.3419376902103424,\n",
       "  0.3324260404933583,\n",
       "  0.32399311422217975,\n",
       "  0.3159532498879866,\n",
       "  0.3073068986047398,\n",
       "  0.30171284677548843,\n",
       "  0.295256695504622,\n",
       "  0.28986769248572264,\n",
       "  0.28338151187246496,\n",
       "  0.2782488758737391,\n",
       "  0.2729988081715324,\n",
       "  0.2679870995759964,\n",
       "  0.2633764246593822,\n",
       "  0.2576506985469298,\n",
       "  0.25387664009657773,\n",
       "  0.24917217266342856,\n",
       "  0.24531154932975768,\n",
       "  0.24076604256196454,\n",
       "  0.23682533062588085,\n",
       "  0.23227220253294165,\n",
       "  0.22880727013024416,\n",
       "  0.22578594923778014],\n",
       " 'accuracy': [0.7641091,\n",
       "  0.8322545,\n",
       "  0.8462727,\n",
       "  0.8547636,\n",
       "  0.8616727,\n",
       "  0.86667275,\n",
       "  0.8727273,\n",
       "  0.8745273,\n",
       "  0.87732726,\n",
       "  0.8810909,\n",
       "  0.8839818,\n",
       "  0.88716364,\n",
       "  0.89050907,\n",
       "  0.89216363,\n",
       "  0.8936727,\n",
       "  0.89625454,\n",
       "  0.89910907,\n",
       "  0.8998727,\n",
       "  0.90221816,\n",
       "  0.9038909,\n",
       "  0.9046364,\n",
       "  0.90703636,\n",
       "  0.9088909,\n",
       "  0.91041815,\n",
       "  0.9127455,\n",
       "  0.9141091,\n",
       "  0.9152,\n",
       "  0.9179091,\n",
       "  0.9183091,\n",
       "  0.9188909],\n",
       " 'val_loss': [0.5073241458892822,\n",
       "  0.4538289173603058,\n",
       "  0.4376545749664307,\n",
       "  0.41528738610744476,\n",
       "  0.3815386726975441,\n",
       "  0.37226429178714754,\n",
       "  0.3699228702545166,\n",
       "  0.3659650864303112,\n",
       "  0.34370373165607454,\n",
       "  0.35139425544738767,\n",
       "  0.3367273935556412,\n",
       "  0.33188932662010195,\n",
       "  0.3318529365360737,\n",
       "  0.3239676291167736,\n",
       "  0.31701208604574205,\n",
       "  0.3245989878177643,\n",
       "  0.3166455364942551,\n",
       "  0.31017334294319154,\n",
       "  0.31785486310124395,\n",
       "  0.3206072485148907,\n",
       "  0.29976543400883676,\n",
       "  0.3099678421258926,\n",
       "  0.2999917875647545,\n",
       "  0.31051386363208294,\n",
       "  0.307746443220973,\n",
       "  0.3251535249829292,\n",
       "  0.3105310568571091,\n",
       "  0.2927278602361679,\n",
       "  0.29982232027053834,\n",
       "  0.3025450455188751],\n",
       " 'val_accuracy': [0.832,\n",
       "  0.8488,\n",
       "  0.8506,\n",
       "  0.8562,\n",
       "  0.8638,\n",
       "  0.8678,\n",
       "  0.8702,\n",
       "  0.8702,\n",
       "  0.8792,\n",
       "  0.8766,\n",
       "  0.881,\n",
       "  0.8834,\n",
       "  0.8828,\n",
       "  0.8856,\n",
       "  0.8892,\n",
       "  0.8886,\n",
       "  0.8916,\n",
       "  0.8898,\n",
       "  0.8844,\n",
       "  0.885,\n",
       "  0.895,\n",
       "  0.8884,\n",
       "  0.8914,\n",
       "  0.8838,\n",
       "  0.89,\n",
       "  0.8822,\n",
       "  0.887,\n",
       "  0.8942,\n",
       "  0.893,\n",
       "  0.8894]}"
      ]
     },
     "execution_count": 46,
     "metadata": {},
     "output_type": "execute_result"
    }
   ],
   "source": [
    "model_history.history"
   ]
  },
  {
   "cell_type": "code",
   "execution_count": 47,
   "metadata": {},
   "outputs": [
    {
     "data": {
      "image/png": "[encoded data removed]",
      "text/plain": [
       "<Figure size 576x360 with 1 Axes>"
      ]
     },
     "metadata": {
      "needs_background": "light"
     },
     "output_type": "display_data"
    }
   ],
   "source": [
    "import pandas as pd\n",
    "\n",
    "pd.DataFrame(model_history.history).plot(figsize=(8, 5))\n",
    "plt.grid()\n",
    "plt.gca().set_ylim(0, 1)\n",
    "plt.show()"
   ]
  },
  {
   "cell_type": "code",
   "execution_count": 48,
   "metadata": {},
   "outputs": [
    {
     "name": "stdout",
     "output_type": "stream",
     "text": [
      "10000/10000 [==============================] - 4s 366us/sample - loss: 0.3364 - accuracy: 0.8780 - loss: 0.3387 - accuracy\n"
     ]
    },
    {
     "data": {
      "text/plain": [
       "[0.33636010887622836, 0.878]"
      ]
     },
     "execution_count": 48,
     "metadata": {},
     "output_type": "execute_result"
    }
   ],
   "source": [
    "model.evaluate(X_test, y_test)"
   ]
  },
  {
   "cell_type": "code",
   "execution_count": 49,
   "metadata": {},
   "outputs": [],
   "source": [
    "X_new = X_test[:3]"
   ]
  },
  {
   "cell_type": "code",
   "execution_count": 50,
   "metadata": {},
   "outputs": [
    {
     "data": {
      "text/plain": [
       "array([[0.  , 0.  , 0.  , 0.  , 0.  , 0.  , 0.  , 0.01, 0.  , 0.98],\n",
       "       [0.  , 0.  , 0.99, 0.  , 0.  , 0.  , 0.  , 0.  , 0.  , 0.  ],\n",
       "       [0.  , 1.  , 0.  , 0.  , 0.  , 0.  , 0.  , 0.  , 0.  , 0.  ]],\n",
       "      dtype=float32)"
      ]
     },
     "execution_count": 50,
     "metadata": {},
     "output_type": "execute_result"
    }
   ],
   "source": [
    "y_proba = model.predict(X_new)\n",
    "y_proba.round(2)"
   ]
  },
  {
   "cell_type": "code",
   "execution_count": 51,
   "metadata": {},
   "outputs": [
    {
     "data": {
      "text/plain": [
       "array([9, 2, 1], dtype=int64)"
      ]
     },
     "execution_count": 51,
     "metadata": {},
     "output_type": "execute_result"
    }
   ],
   "source": [
    "y_pred = model.predict_classes(X_new)\n",
    "y_pred"
   ]
  },
  {
   "cell_type": "code",
   "execution_count": 52,
   "metadata": {},
   "outputs": [
    {
     "data": {
      "text/plain": [
       "array(['Ankle boot', 'Pullover', 'Trouser'], dtype='<U11')"
      ]
     },
     "execution_count": 52,
     "metadata": {},
     "output_type": "execute_result"
    }
   ],
   "source": [
    "np.array(class_names)[y_pred]"
   ]
  },
  {
   "cell_type": "code",
   "execution_count": 53,
   "metadata": {},
   "outputs": [
    {
     "data": {
      "text/plain": [
       "<matplotlib.image.AxesImage at 0x27ac2cd4b48>"
      ]
     },
     "execution_count": 53,
     "metadata": {},
     "output_type": "execute_result"
    },
    {
     "data": {
      "image/png": "[encoded data removed]",
      "text/plain": [
       "<Figure size 432x288 with 1 Axes>"
      ]
     },
     "metadata": {
      "needs_background": "light"
     },
     "output_type": "display_data"
    }
   ],
   "source": [
    "plt.imshow(X_test[0])"
   ]
  },
  {
   "cell_type": "code",
   "execution_count": 54,
   "metadata": {},
   "outputs": [
    {
     "data": {
      "text/plain": [
       "<matplotlib.image.AxesImage at 0x27ac3547288>"
      ]
     },
     "execution_count": 54,
     "metadata": {},
     "output_type": "execute_result"
    },
    {
     "data": {
      "image/png": "[encoded data removed]",
      "text/plain": [
       "<Figure size 432x288 with 1 Axes>"
      ]
     },
     "metadata": {
      "needs_background": "light"
     },
     "output_type": "display_data"
    }
   ],
   "source": [
    "plt.imshow(X_test[1])"
   ]
  },
  {
   "cell_type": "code",
   "execution_count": 55,
   "metadata": {},
   "outputs": [
    {
     "data": {
      "text/plain": [
       "<matplotlib.image.AxesImage at 0x27ac2cd1948>"
      ]
     },
     "execution_count": 55,
     "metadata": {},
     "output_type": "execute_result"
    },
    {
     "data": {
      "image/png": "[encoded data removed]",
      "text/plain": [
       "<Figure size 432x288 with 1 Axes>"
      ]
     },
     "metadata": {
      "needs_background": "light"
     },
     "output_type": "display_data"
    }
   ],
   "source": [
    "plt.imshow(X_test[2])"
   ]
  },
  {
   "cell_type": "code",
   "execution_count": 1,
   "metadata": {},
   "outputs": [],
   "source": [
    "import numpy as np\n",
    "import matplotlib.pyplot as plt\n",
    "import tensorflow as tf\n",
    "import tensorflow.keras as keras"
   ]
  },
  {
   "cell_type": "code",
   "execution_count": 3,
   "metadata": {},
   "outputs": [],
   "source": [
    "from sklearn.datasets import fetch_california_housing\n",
    "housing = fetch_california_housing()"
   ]
  },
  {
   "cell_type": "code",
   "execution_count": 4,
   "metadata": {},
   "outputs": [
    {
     "name": "stdout",
     "output_type": "stream",
     "text": [
      "['MedInc', 'HouseAge', 'AveRooms', 'AveBedrms', 'Population', 'AveOccup', 'Latitude', 'Longitude']\n"
     ]
    }
   ],
   "source": [
    "print(housing.feature_names)"
   ]
  },
  {
   "cell_type": "code",
   "execution_count": 6,
   "metadata": {},
   "outputs": [],
   "source": [
    "from sklearn.model_selection import train_test_split\n",
    "X_train_full, X_test, y_train_full, y_test = train_test_split(housing.data, housing.target, random_state=42)\n",
    "X_train, X_valid, y_train, y_valid = train_test_split(X_train_full, y_train_full, random_state=42)"
   ]
  },
  {
   "cell_type": "code",
   "execution_count": 7,
   "metadata": {},
   "outputs": [],
   "source": [
    "from sklearn.preprocessing import StandardScaler\n",
    "scaler = StandardScaler()\n",
    "X_train = scaler.fit_transform(X_train)\n",
    "X_valid = scaler.transform(X_valid)\n",
    "X_test = scaler.transform(X_test)"
   ]
  },
  {
   "cell_type": "code",
   "execution_count": 8,
   "metadata": {},
   "outputs": [],
   "source": [
    "np.random.seed(42)\n",
    "tf.random.set_seed(42)"
   ]
  },
  {
   "cell_type": "code",
   "execution_count": 9,
   "metadata": {},
   "outputs": [
    {
     "data": {
      "text/plain": [
       "(11610, 8)"
      ]
     },
     "execution_count": 9,
     "metadata": {},
     "output_type": "execute_result"
    }
   ],
   "source": [
    "X_train.shape"
   ]
  },
  {
   "cell_type": "code",
   "execution_count": 10,
   "metadata": {},
   "outputs": [
    {
     "data": {
      "text/plain": [
       "(3870, 8)"
      ]
     },
     "execution_count": 10,
     "metadata": {},
     "output_type": "execute_result"
    }
   ],
   "source": [
    "X_valid.shape"
   ]
  },
  {
   "cell_type": "code",
   "execution_count": 16,
   "metadata": {},
   "outputs": [],
   "source": [
    "model = keras.models.Sequential([\n",
    "    keras.layers.Dense(30, activation='relu', input_shape=[8]),\n",
    "    keras.layers.Dense(30, activation='relu'),\n",
    "    keras.layers.Dense(1)\n",
    "])"
   ]
  },
  {
   "cell_type": "code",
   "execution_count": 17,
   "metadata": {},
   "outputs": [
    {
     "name": "stdout",
     "output_type": "stream",
     "text": [
      "Model: \"sequential_1\"\n",
      "_________________________________________________________________\n",
      "Layer (type)                 Output Shape              Param #   \n",
      "=================================================================\n",
      "dense_3 (Dense)              (None, 30)                270       \n",
      "_________________________________________________________________\n",
      "dense_4 (Dense)              (None, 30)                930       \n",
      "_________________________________________________________________\n",
      "dense_5 (Dense)              (None, 1)                 31        \n",
      "=================================================================\n",
      "Total params: 1,231\n",
      "Trainable params: 1,231\n",
      "Non-trainable params: 0\n",
      "_________________________________________________________________\n"
     ]
    }
   ],
   "source": [
    "model.summary()"
   ]
  },
  {
   "cell_type": "code",
   "execution_count": 18,
   "metadata": {},
   "outputs": [],
   "source": [
    "model.compile(loss='mean_squared_error',\n",
    "             optimizer=keras.optimizers.SGD(lr=1e-3),\n",
    "             metrics=['mae'])"
   ]
  },
  {
   "cell_type": "code",
   "execution_count": 25,
   "metadata": {},
   "outputs": [
    {
     "name": "stdout",
     "output_type": "stream",
     "text": [
      "Train on 11610 samples, validate on 3870 samples\n",
      "Epoch 1/20\n",
      "11610/11610 [==============================] - 1s 87us/sample - loss: 0.3974 - mae: 0.4528 - val_loss: 0.4219 - val_mae: 0.4473\n",
      "Epoch 2/20\n",
      "11610/11610 [==============================] - 1s 89us/sample - loss: 0.3950 - mae: 0.4519 - val_loss: 0.4141 - val_mae: 0.4427\n",
      "Epoch 3/20\n",
      "11610/11610 [==============================] - 1s 88us/sample - loss: 0.3924 - mae: 0.4498 - val_loss: 0.4232 - val_mae: 0.4417\n",
      "Epoch 4/20\n",
      "11610/11610 [==============================] - 1s 88us/sample - loss: 0.3908 - mae: 0.4481 - val_loss: 0.4141 - val_mae: 0.4439\n",
      "Epoch 5/20\n",
      "11610/11610 [==============================] - 1s 97us/sample - loss: 0.3884 - mae: 0.4476 - val_loss: 0.4061 - val_mae: 0.4368\n",
      "Epoch 6/20\n",
      "11610/11610 [==============================] - 1s 120us/sample - loss: 0.3865 - mae: 0.4455 - val_loss: 0.4321 - val_mae: 0.4403\n",
      "Epoch 7/20\n",
      "11610/11610 [==============================] - 1s 121us/sample - loss: 0.3850 - mae: 0.4441 - val_loss: 0.3937 - val_mae: 0.4388\n",
      "Epoch 8/20\n",
      "11610/11610 [==============================] - 1s 111us/sample - loss: 0.3832 - mae: 0.4434 - val_loss: 0.3814 - val_mae: 0.4335\n",
      "Epoch 9/20\n",
      "11610/11610 [==============================] - 1s 105us/sample - loss: 0.3815 - mae: 0.4419 - val_loss: 0.3961 - val_mae: 0.4338\n",
      "Epoch 10/20\n",
      "11610/11610 [==============================] - 1s 107us/sample - loss: 0.3801 - mae: 0.4407 - val_loss: 0.3892 - val_mae: 0.4323\n",
      "Epoch 11/20\n",
      "11610/11610 [==============================] - 1s 109us/sample - loss: 0.3788 - mae: 0.4401 - val_loss: 0.3747 - val_mae: 0.4310\n",
      "Epoch 12/20\n",
      "11610/11610 [==============================] - 1s 109us/sample - loss: 0.3773 - mae: 0.4391 - val_loss: 0.3709 - val_mae: 0.4298\n",
      "Epoch 13/20\n",
      "11610/11610 [==============================] - 1s 108us/sample - loss: 0.3759 - mae: 0.4376 - val_loss: 0.3752 - val_mae: 0.4302\n",
      "Epoch 14/20\n",
      "11610/11610 [==============================] - 1s 92us/sample - loss: 0.3748 - mae: 0.4371 - val_loss: 0.3729 - val_mae: 0.4308\n",
      "Epoch 15/20\n",
      "11610/11610 [==============================] - 1s 105us/sample - loss: 0.3738 - mae: 0.4367 - val_loss: 0.4191 - val_mae: 0.4334\n",
      "Epoch 16/20\n",
      "11610/11610 [==============================] - 1s 110us/sample - loss: 0.3728 - mae: 0.4363 - val_loss: 0.3628 - val_mae: 0.4269\n",
      "Epoch 17/20\n",
      "11610/11610 [==============================] - 1s 112us/sample - loss: 0.3719 - mae: 0.4352 - val_loss: 0.3601 - val_mae: 0.4248\n",
      "Epoch 18/20\n",
      "11610/11610 [==============================] - 1s 125us/sample - loss: 0.3704 - mae: 0.4340 - val_loss: 0.3812 - val_mae: 0.4268\n",
      "Epoch 19/20\n",
      "11610/11610 [==============================] - 1s 112us/sample - loss: 0.3696 - mae: 0.4333 - val_loss: 0.3646 - val_mae: 0.4252\n",
      "Epoch 20/20\n",
      "11610/11610 [==============================] - 1s 113us/sample - loss: 0.3687 - mae: 0.4329 - val_loss: 0.3891 - val_mae: 0.4270\n"
     ]
    }
   ],
   "source": [
    "model_history = model.fit(X_train, y_train, epochs=20, validation_data=(X_valid, y_valid))"
   ]
  },
  {
   "cell_type": "code",
   "execution_count": 26,
   "metadata": {},
   "outputs": [
    {
     "name": "stdout",
     "output_type": "stream",
     "text": [
      "5160/5160 [==============================] - 0s 50us/sample - loss: 0.3667 - mae: 0.4328\n"
     ]
    }
   ],
   "source": [
    "mae_test = model.evaluate(X_test, y_test)"
   ]
  },
  {
   "cell_type": "code",
   "execution_count": 27,
   "metadata": {},
   "outputs": [
    {
     "data": {
      "text/plain": [
       "{'loss': [0.3974064426109978,\n",
       "  0.39500565524762504,\n",
       "  0.39239095923307127,\n",
       "  0.3907979360127839,\n",
       "  0.38843600744835577,\n",
       "  0.3865400191630709,\n",
       "  0.3849518228870954,\n",
       "  0.38316253247341137,\n",
       "  0.3815131755865,\n",
       "  0.3801078484964001,\n",
       "  0.378847429559315,\n",
       "  0.3773328894895279,\n",
       "  0.37592558648235114,\n",
       "  0.37476261256585136,\n",
       "  0.37380927792147867,\n",
       "  0.3727913183451315,\n",
       "  0.3719035281126711,\n",
       "  0.37037671299251784,\n",
       "  0.3696343807697707,\n",
       "  0.36874659842298935],\n",
       " 'mae': [0.45278123,\n",
       "  0.4518946,\n",
       "  0.44984287,\n",
       "  0.44809258,\n",
       "  0.44760588,\n",
       "  0.445501,\n",
       "  0.44409373,\n",
       "  0.44340485,\n",
       "  0.44192293,\n",
       "  0.44069508,\n",
       "  0.44006622,\n",
       "  0.43905106,\n",
       "  0.43761846,\n",
       "  0.43707138,\n",
       "  0.43667775,\n",
       "  0.4363243,\n",
       "  0.43517533,\n",
       "  0.4340353,\n",
       "  0.4333187,\n",
       "  0.4329141],\n",
       " 'val_loss': [0.4218549242700409,\n",
       "  0.4140960554589905,\n",
       "  0.42323283779528714,\n",
       "  0.4141103870184847,\n",
       "  0.40605047622392343,\n",
       "  0.43206980264618106,\n",
       "  0.393743214519449,\n",
       "  0.3813995267300643,\n",
       "  0.3961217564359808,\n",
       "  0.3892330814393608,\n",
       "  0.3746977378616653,\n",
       "  0.3709249927939063,\n",
       "  0.37523947763196563,\n",
       "  0.37293909175913464,\n",
       "  0.41906829715853205,\n",
       "  0.36281310446964676,\n",
       "  0.3600948095783707,\n",
       "  0.38121776077944486,\n",
       "  0.3646012966176952,\n",
       "  0.3891008958721038],\n",
       " 'val_mae': [0.44727644,\n",
       "  0.44274852,\n",
       "  0.44172576,\n",
       "  0.44388375,\n",
       "  0.43682367,\n",
       "  0.44032428,\n",
       "  0.43879545,\n",
       "  0.43351957,\n",
       "  0.43382177,\n",
       "  0.43231088,\n",
       "  0.43103725,\n",
       "  0.42977336,\n",
       "  0.43021774,\n",
       "  0.4308129,\n",
       "  0.43340546,\n",
       "  0.426944,\n",
       "  0.42483163,\n",
       "  0.42679507,\n",
       "  0.42515284,\n",
       "  0.42695853]}"
      ]
     },
     "execution_count": 27,
     "metadata": {},
     "output_type": "execute_result"
    }
   ],
   "source": [
    "model_history.history"
   ]
  },
  {
   "cell_type": "code",
   "execution_count": 28,
   "metadata": {},
   "outputs": [
    {
     "data": {
      "image/png": "[encoded data removed]",
      "text/plain": [
       "<Figure size 576x360 with 1 Axes>"
      ]
     },
     "metadata": {
      "needs_background": "light"
     },
     "output_type": "display_data"
    }
   ],
   "source": [
    "import pandas as pd\n",
    "pd.DataFrame(model_history.history).plot(figsize=(8, 5))\n",
    "plt.grid(True)\n",
    "plt.gca().set_ylim(0, 1)\n",
    "plt.show()"
   ]
  },
  {
   "cell_type": "code",
   "execution_count": 29,
   "metadata": {},
   "outputs": [],
   "source": [
    "X_new = X_test[:3]"
   ]
  },
  {
   "cell_type": "code",
   "execution_count": 30,
   "metadata": {},
   "outputs": [
    {
     "data": {
      "text/plain": [
       "array([[0.80639446],\n",
       "       [1.8005309 ],\n",
       "       [3.7392867 ]], dtype=float32)"
      ]
     },
     "execution_count": 30,
     "metadata": {},
     "output_type": "execute_result"
    }
   ],
   "source": [
    "y_pred = model.predict(X_new)\n",
    "y_pred"
   ]
  },
  {
   "cell_type": "code",
   "execution_count": 31,
   "metadata": {},
   "outputs": [
    {
     "data": {
      "text/plain": [
       "array([0.477  , 0.458  , 5.00001])"
      ]
     },
     "execution_count": 31,
     "metadata": {},
     "output_type": "execute_result"
    }
   ],
   "source": [
    "y_test[:3]"
   ]
  },
  {
   "cell_type": "code",
   "execution_count": 32,
   "metadata": {},
   "outputs": [],
   "source": [
    "del model"
   ]
  },
  {
   "cell_type": "code",
   "execution_count": 33,
   "metadata": {},
   "outputs": [],
   "source": [
    "keras.backend.clear_session()"
   ]
  },
  {
   "cell_type": "code",
   "execution_count": 39,
   "metadata": {},
   "outputs": [],
   "source": [
    "input_ = keras.layers.Input(shape=X_train.shape[1:])\n",
    "hidden1 = keras.layers.Dense(30, activation='relu')(input_)\n",
    "hidden2 = keras.layers.Dense(30, activation='relu')(hidden1)\n",
    "concat = keras.layers.concatenate([input_, hidden2])\n",
    "output = keras.layers.Dense(1)(concat)\n",
    "model = keras.models.Model([input_], outputs=[output])"
   ]
  },
  {
   "cell_type": "code",
   "execution_count": 40,
   "metadata": {},
   "outputs": [
    {
     "name": "stdout",
     "output_type": "stream",
     "text": [
      "Model: \"model\"\n",
      "__________________________________________________________________________________________________\n",
      "Layer (type)                    Output Shape         Param #     Connected to                     \n",
      "==================================================================================================\n",
      "input_6 (InputLayer)            [(None, 8)]          0                                            \n",
      "__________________________________________________________________________________________________\n",
      "dense_15 (Dense)                (None, 30)           270         input_6[0][0]                    \n",
      "__________________________________________________________________________________________________\n",
      "dense_16 (Dense)                (None, 30)           930         dense_15[0][0]                   \n",
      "__________________________________________________________________________________________________\n",
      "concatenate_5 (Concatenate)     (None, 38)           0           input_6[0][0]                    \n",
      "                                                                 dense_16[0][0]                   \n",
      "__________________________________________________________________________________________________\n",
      "dense_17 (Dense)                (None, 1)            39          concatenate_5[0][0]              \n",
      "==================================================================================================\n",
      "Total params: 1,239\n",
      "Trainable params: 1,239\n",
      "Non-trainable params: 0\n",
      "__________________________________________________________________________________________________\n"
     ]
    }
   ],
   "source": [
    "model.summary()"
   ]
  },
  {
   "cell_type": "code",
   "execution_count": 41,
   "metadata": {},
   "outputs": [],
   "source": [
    "model.compile(loss='mean_squared_error',\n",
    "             optimizer=keras.optimizers.SGD(lr=1e-3),\n",
    "             metrics=['mae'])"
   ]
  },
  {
   "cell_type": "code",
   "execution_count": 46,
   "metadata": {},
   "outputs": [
    {
     "name": "stdout",
     "output_type": "stream",
     "text": [
      "Train on 11610 samples, validate on 3870 samples\n",
      "Epoch 1/40\n",
      "11610/11610 [==============================] - 1s 71us/sample - loss: 0.3785 - mae: 0.4424 - val_loss: 0.4009 - val_mae: 0.4402\n",
      "Epoch 2/40\n",
      "11610/11610 [==============================] - 1s 73us/sample - loss: 0.3776 - mae: 0.4422 - val_loss: 0.3939 - val_mae: 0.4371\n",
      "Epoch 3/40\n",
      "11610/11610 [==============================] - 1s 73us/sample - loss: 0.3762 - mae: 0.4412 - val_loss: 0.4053 - val_mae: 0.4365\n",
      "Epoch 4/40\n",
      "11610/11610 [==============================] - 1s 72us/sample - loss: 0.3754 - mae: 0.4401 - val_loss: 0.3815 - val_mae: 0.4374\n",
      "Epoch 5/40\n",
      "11610/11610 [==============================] - 1s 73us/sample - loss: 0.3739 - mae: 0.4400 - val_loss: 0.4074 - val_mae: 0.4346\n",
      "Epoch 6/40\n",
      "11610/11610 [==============================] - 1s 105us/sample - loss: 0.3730 - mae: 0.4389 - val_loss: 0.4107 - val_mae: 0.4365\n",
      "Epoch 7/40\n",
      "11610/11610 [==============================] - 1s 77us/sample - loss: 0.3721 - mae: 0.4381 - val_loss: 0.3665 - val_mae: 0.4343\n",
      "Epoch 8/40\n",
      "11610/11610 [==============================] - 1s 74us/sample - loss: 0.3710 - mae: 0.4379 - val_loss: 0.3675 - val_mae: 0.4316\n",
      "Epoch 9/40\n",
      "11610/11610 [==============================] - 1s 73us/sample - loss: 0.3698 - mae: 0.4370 - val_loss: 0.4033 - val_mae: 0.4328\n",
      "Epoch 10/40\n",
      "11610/11610 [==============================] - 1s 74us/sample - loss: 0.3690 - mae: 0.4360 - val_loss: 0.3718 - val_mae: 0.4300\n",
      "Epoch 11/40\n",
      "11610/11610 [==============================] - 1s 74us/sample - loss: 0.3681 - mae: 0.4357 - val_loss: 0.3598 - val_mae: 0.4288\n",
      "Epoch 12/40\n",
      "11610/11610 [==============================] - 1s 74us/sample - loss: 0.3671 - mae: 0.4351 - val_loss: 0.3578 - val_mae: 0.4276\n",
      "Epoch 13/40\n",
      "11610/11610 [==============================] - 1s 77us/sample - loss: 0.3661 - mae: 0.4341 - val_loss: 0.3629 - val_mae: 0.4286\n",
      "Epoch 14/40\n",
      "11610/11610 [==============================] - 1s 73us/sample - loss: 0.3653 - mae: 0.4336 - val_loss: 0.3561 - val_mae: 0.4281\n",
      "Epoch 15/40\n",
      "11610/11610 [==============================] - 1s 74us/sample - loss: 0.3643 - mae: 0.4332 - val_loss: 0.4186 - val_mae: 0.4324\n",
      "Epoch 16/40\n",
      "11610/11610 [==============================] - 1s 75us/sample - loss: 0.3638 - mae: 0.4331 - val_loss: 0.3497 - val_mae: 0.4252\n",
      "Epoch 17/40\n",
      "11610/11610 [==============================] - 1s 78us/sample - loss: 0.3630 - mae: 0.4322 - val_loss: 0.3542 - val_mae: 0.4242\n",
      "Epoch 18/40\n",
      "11610/11610 [==============================] - 1s 113us/sample - loss: 0.3619 - mae: 0.4311 - val_loss: 0.3802 - val_mae: 0.4272\n",
      "Epoch 19/40\n",
      "11610/11610 [==============================] - 1s 75us/sample - loss: 0.3613 - mae: 0.4307 - val_loss: 0.3499 - val_mae: 0.4232\n",
      "Epoch 20/40\n",
      "11610/11610 [==============================] - 1s 75us/sample - loss: 0.3605 - mae: 0.4304 - val_loss: 0.3933 - val_mae: 0.4270\n",
      "Epoch 21/40\n",
      "11610/11610 [==============================] - 1s 76us/sample - loss: 0.3599 - mae: 0.4297 - val_loss: 0.3518 - val_mae: 0.4249\n",
      "Epoch 22/40\n",
      "11610/11610 [==============================] - 1s 116us/sample - loss: 0.3589 - mae: 0.4291 - val_loss: 0.3862 - val_mae: 0.4265\n",
      "Epoch 23/40\n",
      "11610/11610 [==============================] - 1s 104us/sample - loss: 0.3583 - mae: 0.4287 - val_loss: 0.3510 - val_mae: 0.4249\n",
      "Epoch 24/40\n",
      "11610/11610 [==============================] - 1s 91us/sample - loss: 0.3576 - mae: 0.4284 - val_loss: 0.3496 - val_mae: 0.4209\n",
      "Epoch 25/40\n",
      "11610/11610 [==============================] - 1s 73us/sample - loss: 0.3569 - mae: 0.4274 - val_loss: 0.3537 - val_mae: 0.4228\n",
      "Epoch 26/40\n",
      "11610/11610 [==============================] - 1s 73us/sample - loss: 0.3563 - mae: 0.4274 - val_loss: 0.3560 - val_mae: 0.4212\n",
      "Epoch 27/40\n",
      "11610/11610 [==============================] - 1s 76us/sample - loss: 0.3554 - mae: 0.4266 - val_loss: 0.3929 - val_mae: 0.4244\n",
      "Epoch 28/40\n",
      "11610/11610 [==============================] - 1s 74us/sample - loss: 0.3549 - mae: 0.4258 - val_loss: 0.3477 - val_mae: 0.4213\n",
      "Epoch 29/40\n",
      "11610/11610 [==============================] - 1s 73us/sample - loss: 0.3541 - mae: 0.4260 - val_loss: 0.3958 - val_mae: 0.4249\n",
      "Epoch 30/40\n",
      "11610/11610 [==============================] - 1s 74us/sample - loss: 0.3536 - mae: 0.4251 - val_loss: 0.3604 - val_mae: 0.4218\n",
      "Epoch 31/40\n",
      "11610/11610 [==============================] - 1s 91us/sample - loss: 0.3531 - mae: 0.4250 - val_loss: 0.3479 - val_mae: 0.4177\n",
      "Epoch 32/40\n",
      "11610/11610 [==============================] - 1s 75us/sample - loss: 0.3526 - mae: 0.4240 - val_loss: 0.3495 - val_mae: 0.4198\n",
      "Epoch 33/40\n",
      "11610/11610 [==============================] - 1s 89us/sample - loss: 0.3519 - mae: 0.4245 - val_loss: 0.3664 - val_mae: 0.4186\n",
      "Epoch 34/40\n",
      "11610/11610 [==============================] - 1s 73us/sample - loss: 0.3516 - mae: 0.4233 - val_loss: 0.3374 - val_mae: 0.4163\n",
      "Epoch 35/40\n",
      "11610/11610 [==============================] - 1s 76us/sample - loss: 0.3508 - mae: 0.4230 - val_loss: 0.3558 - val_mae: 0.4194\n",
      "Epoch 36/40\n",
      "11610/11610 [==============================] - 1s 75us/sample - loss: 0.3502 - mae: 0.4225 - val_loss: 0.3368 - val_mae: 0.4161\n",
      "Epoch 37/40\n",
      "11610/11610 [==============================] - 1s 73us/sample - loss: 0.3497 - mae: 0.4219 - val_loss: 0.3765 - val_mae: 0.4202\n",
      "Epoch 38/40\n",
      "11610/11610 [==============================] - 1s 75us/sample - loss: 0.3492 - mae: 0.4218 - val_loss: 0.3458 - val_mae: 0.4180\n",
      "Epoch 39/40\n",
      "11610/11610 [==============================] - 1s 74us/sample - loss: 0.3484 - mae: 0.4215 - val_loss: 0.3712 - val_mae: 0.4194\n",
      "Epoch 40/40\n",
      "11610/11610 [==============================] - 1s 76us/sample - loss: 0.3483 - mae: 0.4209 - val_loss: 0.3375 - val_mae: 0.4157\n"
     ]
    }
   ],
   "source": [
    "model_history = model.fit(X_train, y_train, epochs=40, validation_data=(X_valid, y_valid))"
   ]
  },
  {
   "cell_type": "code",
   "execution_count": 47,
   "metadata": {},
   "outputs": [
    {
     "name": "stdout",
     "output_type": "stream",
     "text": [
      "5160/5160 [==============================] - 0s 40us/sample - loss: 0.3521 - mae: 0.4220\n"
     ]
    }
   ],
   "source": [
    "mae_test = model.evaluate(X_test, y_test)"
   ]
  },
  {
   "cell_type": "code",
   "execution_count": 48,
   "metadata": {},
   "outputs": [
    {
     "data": {
      "image/png": "[encoded data removed]",
      "text/plain": [
       "<Figure size 576x360 with 1 Axes>"
      ]
     },
     "metadata": {
      "needs_background": "light"
     },
     "output_type": "display_data"
    }
   ],
   "source": [
    "pd.DataFrame(model_history.history).plot(figsize=(8, 5))\n",
    "plt.grid(True)\n",
    "plt.gca().set_ylim(0, 1)\n",
    "plt.show()"
   ]
  },
  {
   "cell_type": "code",
   "execution_count": 49,
   "metadata": {},
   "outputs": [],
   "source": [
    "model.save(\"function_model.h5\")"
   ]
  },
  {
   "cell_type": "code",
   "execution_count": 64,
   "metadata": {},
   "outputs": [],
   "source": [
    "keras.backend.clear_session()"
   ]
  },
  {
   "cell_type": "code",
   "execution_count": 65,
   "metadata": {},
   "outputs": [],
   "source": [
    "del model"
   ]
  },
  {
   "cell_type": "code",
   "execution_count": 52,
   "metadata": {},
   "outputs": [],
   "source": [
    "model = keras.models.load_model(\"function_model.h5\")"
   ]
  },
  {
   "cell_type": "code",
   "execution_count": 53,
   "metadata": {},
   "outputs": [
    {
     "name": "stdout",
     "output_type": "stream",
     "text": [
      "Model: \"model\"\n",
      "__________________________________________________________________________________________________\n",
      "Layer (type)                    Output Shape         Param #     Connected to                     \n",
      "==================================================================================================\n",
      "input_6 (InputLayer)            [(None, 8)]          0                                            \n",
      "__________________________________________________________________________________________________\n",
      "dense_15 (Dense)                (None, 30)           270         input_6[0][0]                    \n",
      "__________________________________________________________________________________________________\n",
      "dense_16 (Dense)                (None, 30)           930         dense_15[0][0]                   \n",
      "__________________________________________________________________________________________________\n",
      "concatenate_5 (Concatenate)     (None, 38)           0           input_6[0][0]                    \n",
      "                                                                 dense_16[0][0]                   \n",
      "__________________________________________________________________________________________________\n",
      "dense_17 (Dense)                (None, 1)            39          concatenate_5[0][0]              \n",
      "==================================================================================================\n",
      "Total params: 1,239\n",
      "Trainable params: 1,239\n",
      "Non-trainable params: 0\n",
      "__________________________________________________________________________________________________\n"
     ]
    }
   ],
   "source": [
    "model.summary()"
   ]
  },
  {
   "cell_type": "code",
   "execution_count": 54,
   "metadata": {},
   "outputs": [],
   "source": [
    "keras.backend.clear_session()\n",
    "np.random.seed(42)\n",
    "tf.random.set_seed(42)"
   ]
  },
  {
   "cell_type": "code",
   "execution_count": 66,
   "metadata": {},
   "outputs": [],
   "source": [
    "model = keras.models.Sequential([\n",
    "    keras.layers.Dense(30, activation='relu', input_shape=[8]),\n",
    "    keras.layers.Dense(30, activation='relu'),\n",
    "    keras.layers.Dense(1)\n",
    "])"
   ]
  },
  {
   "cell_type": "code",
   "execution_count": 67,
   "metadata": {},
   "outputs": [],
   "source": [
    "model.compile(loss='mse', optimizer=keras.optimizers.SGD(lr=1e-3))"
   ]
  },
  {
   "cell_type": "code",
   "execution_count": 70,
   "metadata": {},
   "outputs": [],
   "source": [
    "checkpoint_cb = keras.callbacks.ModelCheckpoint(\"best_model.h5\", save_best_only=True)"
   ]
  },
  {
   "cell_type": "code",
   "execution_count": 71,
   "metadata": {},
   "outputs": [
    {
     "name": "stdout",
     "output_type": "stream",
     "text": [
      "Train on 11610 samples, validate on 3870 samples\n",
      "Epoch 1/5\n",
      "11610/11610 [==============================] - 1s 70us/sample - loss: 0.5199 - val_loss: 0.4754\n",
      "Epoch 2/5\n",
      "11610/11610 [==============================] - 1s 74us/sample - loss: 0.4937 - val_loss: 0.4508\n",
      "Epoch 3/5\n",
      "11610/11610 [==============================] - 1s 83us/sample - loss: 0.4725 - val_loss: 0.4390\n",
      "Epoch 4/5\n",
      "11610/11610 [==============================] - 1s 77us/sample - loss: 0.4557 - val_loss: 0.4333\n",
      "Epoch 5/5\n",
      "11610/11610 [==============================] - 1s 80us/sample - loss: 0.4427 - val_loss: 0.4240\n"
     ]
    }
   ],
   "source": [
    "history = model.fit(X_train, y_train, epochs=5,\n",
    "                   validation_data = (X_valid, y_valid),\n",
    "                   callbacks=[checkpoint_cb])"
   ]
  },
  {
   "cell_type": "code",
   "execution_count": 61,
   "metadata": {},
   "outputs": [],
   "source": [
    "keras.backend.clear_session()"
   ]
  },
  {
   "cell_type": "code",
   "execution_count": 62,
   "metadata": {},
   "outputs": [],
   "source": [
    "model = keras.models.load_model(\"Model-05.h5\")"
   ]
  },
  {
   "cell_type": "code",
   "execution_count": 63,
   "metadata": {},
   "outputs": [
    {
     "name": "stdout",
     "output_type": "stream",
     "text": [
      "5160/5160 [==============================] - 0s 68us/sample - loss: 0.5049\n"
     ]
    }
   ],
   "source": [
    "mae_test = model.evaluate(X_test, y_test)"
   ]
  },
  {
   "cell_type": "code",
   "execution_count": null,
   "metadata": {},
   "outputs": [],
   "source": []
  }
 ],
 "metadata": {
  "kernelspec": {
   "display_name": "Python 3",
   "language": "python",
   "name": "python3"
  },
  "language_info": {
   "codemirror_mode": {
    "name": "ipython",
    "version": 3
   },
   "file_extension": ".py",
   "mimetype": "text/x-python",
   "name": "python",
   "nbconvert_exporter": "python",
   "pygments_lexer": "ipython3",
   "version": "3.7.9"
  }
 },
 "nbformat": 4,
 "nbformat_minor": 4
}
